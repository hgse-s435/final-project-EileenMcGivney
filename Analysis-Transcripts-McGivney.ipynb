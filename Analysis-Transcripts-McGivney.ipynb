{
 "cells": [
  {
   "cell_type": "markdown",
   "metadata": {},
   "source": [
    "## Transcripts Analysis\n",
    "### individual transcripts compared to each other/the whole\n",
    "\n",
    "Eileen McGivney  \n",
    "Science identity study  \n",
    "Data: interviews with 15 7th graders  \n",
    "Preprocessing: /Volumes/GoogleDrive/My Drive/Spring 2019/S435/GitHub/final-project-EileenMcGivney/Preprocessing-McGivney.ipynb  \n",
    "\n",
    "Research Question: Can we identify student profiles related to their science identity and interest through natural language processing?\n",
    "\n",
    "Analysis: Bag of words\n",
    "* What words might characterize the different transcripts?\n",
    "* How do the individual trnascript descriptions compare to an anlysis of all the transcripts together?\n",
    "* How would these descriptions compare to the clustering/vector space models I did on text segments?\n"
   ]
  },
  {
   "cell_type": "code",
   "execution_count": 67,
   "metadata": {},
   "outputs": [
    {
     "name": "stdout",
     "output_type": "stream",
     "text": [
      "/Volumes/GoogleDrive/My Drive/Spring 2019/S435/GitHub/final-project-EileenMcGivney\n"
     ]
    }
   ],
   "source": [
    "## Setup\n",
    "import pickle\n",
    "import itertools\n",
    "\n",
    "from gensim.corpora.dictionary import Dictionary\n",
    "from gensim.models.tfidfmodel import TfidfModel\n",
    "from collections import defaultdict\n",
    "\n",
    "## Setup\n",
    "import os\n",
    "import re\n",
    "import glob\n",
    "import math\n",
    "import collections\n",
    "import numpy as np\n",
    "import pandas as pd\n",
    "import matplotlib.pyplot as plt\n",
    "%matplotlib inline\n",
    "\n",
    "import nltk\n",
    "#nltk.download('punkt')\n",
    "from collections import Counter\n",
    "\n",
    "from collections import defaultdict\n",
    "from sklearn.manifold import TSNE\n",
    "from sklearn.cluster import KMeans\n",
    "from scipy.cluster.hierarchy import linkage, dendrogram\n",
    "from sklearn.cluster import AgglomerativeClustering\n",
    "from sklearn.neighbors.nearest_centroid import NearestCentroid\n",
    "from sklearn.cluster import DBSCAN\n",
    "from sklearn.preprocessing import MinMaxScaler\n",
    "from sklearn.decomposition import NMF\n",
    "\n",
    "%cd '/Volumes/GoogleDrive/My Drive/Spring 2019/S435/GitHub/final-project-EileenMcGivney'\n"
   ]
  },
  {
   "cell_type": "code",
   "execution_count": 64,
   "metadata": {},
   "outputs": [],
   "source": [
    "### Load in the cleaned transcripts\n",
    "import pickle\n",
    "docs = []\n",
    "for i in range (15):\n",
    "    with open('./cleandocs/doc'+str(i)+'.txt', 'rb') as fp:\n",
    "        docs.append(pickle.load(fp))"
   ]
  },
  {
   "cell_type": "code",
   "execution_count": 65,
   "metadata": {},
   "outputs": [
    {
     "name": "stdout",
     "output_type": "stream",
     "text": [
      "['favorite', 'subject', 'fun', 'usually', 'talk', 'water', 'animals', 'much', 'would', 'moved', 'onto', 'part', 'liked', 'usually', 'things', 'rock', 'science', 'unit', 'systems', 'energy', 'light', 'bulbs', 'things', 'living', 'things', 'electricity', 'think', 'fun', 'experience', 'people', 'already', 'knew', 'think', 'they', 'still', 'liked', 'they', 'saw', 'different', 'way', 'think', 'would', 'fun', 'people', 'people', 'try', 'think', 'thing', 'might', 'people', 'didn', 'try', 'found', 'boring', 'know', 'people', 'know', 'they', 'would', 'much', 'people', 'said', 'they', 'found', 'boring', 'didn', 'think', 'boring', 'know', 'haven', 'talked', 'many', 'people', 'got', 'talk', 'people', 'weren', 'wanted', 'know', 'they', 'know', 'many', 'people', 'found', 'boring', 'maybe', 'thing', 'thought', 'pretty', 'fun', 'different', 'way', 'learn', 'also', 'hands', 'without', 'actually', 'going', 'real', 'world']\n"
     ]
    }
   ],
   "source": [
    "### Flatten into one document too\n",
    "alldocs = [y for x in docs for y in x]\n",
    "print(alldocs[500:600])"
   ]
  },
  {
   "cell_type": "code",
   "execution_count": 70,
   "metadata": {},
   "outputs": [
    {
     "name": "stdout",
     "output_type": "stream",
     "text": [
      "992\n"
     ]
    }
   ],
   "source": [
    "### Load in vector dataframes\n",
    "# Regular vectors:\n",
    "dfall = pd.read_csv('./dataframes/transcripts_all.csv', index_col=0)\n",
    "\n",
    "# Deviation vectors:\n",
    "dfall_dev = pd.read_csv('./dataframes/transcripts_all.csv', index_col=0)\n",
    "\n",
    "## Load the vocabulary\n",
    "%store -r vocabulary\n",
    "print(len(vocabulary))"
   ]
  },
  {
   "cell_type": "markdown",
   "metadata": {},
   "source": [
    "## Cluster on the transcripts?"
   ]
  },
  {
   "cell_type": "markdown",
   "metadata": {},
   "source": [
    "**KMeans: inertia and KMeans clustering**"
   ]
  },
  {
   "cell_type": "code",
   "execution_count": 71,
   "metadata": {
    "scrolled": true
   },
   "outputs": [
    {
     "data": {
      "image/png": "[encoded data removed]",
      "text/plain": [
       "<Figure size 432x288 with 1 Axes>"
      ]
     },
     "metadata": {
      "needs_background": "light"
     },
     "output_type": "display_data"
    }
   ],
   "source": [
    "# Inertia values and plot\n",
    "ks = list(range(1, 10))\n",
    "inertias = []\n",
    "\n",
    "for k in ks:\n",
    "    \n",
    "    # Create a KMeans instance with k clusters: model\n",
    "    kmeans = KMeans(n_clusters=k, max_iter=1000)\n",
    "    \n",
    "    # Fit model to samples\n",
    "    kmeans.fit(dfall_dev.values)\n",
    "    \n",
    "    # Append the inertia to the list of inertias\n",
    "    inertias.append(kmeans.inertia_)\n",
    "    \n",
    "# Plot ks vs inertias\n",
    "plt.plot(ks, inertias, '-o')\n",
    "plt.xlabel('number of clusters, k')\n",
    "plt.ylabel('inertia')\n",
    "plt.xticks(ks)\n",
    "plt.show()"
   ]
  },
  {
   "cell_type": "code",
   "execution_count": 72,
   "metadata": {},
   "outputs": [
    {
     "name": "stdout",
     "output_type": "stream",
     "text": [
      "CLUSTER 1: something, didn, science, would, my, different, know, things, think, they, \n",
      "CLUSTER 2: things, something, people, instead, collecting, experiments, figure, could, data, know, \n",
      "CLUSTER 3: didn, trying, try, favorite, science, data, different, guess, tries, my, \n",
      "CLUSTER 4: day, science, evidence, go, could, going, thought, fun, try, they, \n",
      "CLUSTER 5: science, deeply, virtual, notes, think, experiments, take, different, world, they, \n"
     ]
    }
   ],
   "source": [
    "## k=5 Kmeans clustering:  print the first 10 words that are the most associated with each cluster centroids\n",
    "\n",
    "kmeans_obj = KMeans(n_clusters=5, max_iter=1000).fit(dfall_dev.values)\n",
    "\n",
    "n_words = 10\n",
    "top_words = collections.defaultdict(lambda: [])\n",
    "\n",
    "# iterate through each cluster\n",
    "for n in range(kmeans_obj.n_clusters):\n",
    "\n",
    "    print('CLUSTER ' + str(n+1) + ': ', end='')\n",
    "\n",
    "    # get the cluster centers\n",
    "    arr = kmeans_obj.cluster_centers_[n]\n",
    "\n",
    "    # sorts the array and keep the last n words\n",
    "    indices = arr.argsort()[-n_words:]\n",
    "\n",
    "    # add the words to the list of words\n",
    "    for i in indices:\n",
    "        print(vocabulary[i], end=', ')\n",
    "        top_words[n].append(vocabulary[i])\n",
    "        \n",
    "    print('')"
   ]
  },
  {
   "cell_type": "code",
   "execution_count": 85,
   "metadata": {},
   "outputs": [
    {
     "name": "stdout",
     "output_type": "stream",
     "text": [
      "CLUSTER 1: they, things, scientists, different, want, thought, find, would, learn, think, \n",
      "CLUSTER 2: teacher, category, care, list, campus, talking, talks, calendar, tables, lots, \n",
      "CLUSTER 3: notebook, number, osd, overall, overseas, oxygen, partner, partners, meant, yet, \n"
     ]
    }
   ],
   "source": [
    "## k=3 Kmeans clustering:  print the first 10 words that are the most associated with each cluster centroids\n",
    "\n",
    "kmeans_obj = KMeans(n_clusters=3, max_iter=1000).fit(dfall_dev.values)\n",
    "\n",
    "n_words = 10\n",
    "top_words = collections.defaultdict(lambda: [])\n",
    "\n",
    "# iterate through each cluster\n",
    "for n in range(kmeans_obj.n_clusters):\n",
    "\n",
    "    print('CLUSTER ' + str(n+1) + ': ', end='')\n",
    "\n",
    "    # get the cluster centers\n",
    "    arr = kmeans_obj.cluster_centers_[n]\n",
    "\n",
    "    # sorts the array and keep the last n words\n",
    "    indices = arr.argsort()[-n_words:]\n",
    "\n",
    "    # add the words to the list of words\n",
    "    for i in indices:\n",
    "        print(vocabulary[i], end=', ')\n",
    "        top_words[n].append(vocabulary[i])\n",
    "        \n",
    "    print('')"
   ]
  },
  {
   "cell_type": "markdown",
   "metadata": {},
   "source": [
    "**Hierarchical clustering**"
   ]
  },
  {
   "cell_type": "code",
   "execution_count": 74,
   "metadata": {},
   "outputs": [
    {
     "data": {
      "image/png": "[encoded data removed]",
      "text/plain": [
       "<Figure size 432x288 with 1 Axes>"
      ]
     },
     "metadata": {
      "needs_background": "light"
     },
     "output_type": "display_data"
    }
   ],
   "source": [
    "## Plot a dendrogram\n",
    "\n",
    "# Calculate the linkage: mergings\n",
    "mergings = linkage(dfall_dev.values, method='complete', )\n",
    "\n",
    "# Plot the dendrogram\n",
    "dendrogram(mergings,\n",
    "           labels=dfall_dev.columns,\n",
    "           leaf_rotation=90,\n",
    "           leaf_font_size=6,\n",
    ")\n",
    "plt.show()"
   ]
  },
  {
   "cell_type": "code",
   "execution_count": 76,
   "metadata": {},
   "outputs": [
    {
     "name": "stdout",
     "output_type": "stream",
     "text": [
      "Number of points: 15\n",
      "(3, 992)\n"
     ]
    }
   ],
   "source": [
    "## Using agglomerative clustering: 10 clusters\n",
    "ward = AgglomerativeClustering(n_clusters=3, linkage='ward').fit(dfall_dev.values)\n",
    "label = ward.labels_\n",
    "\n",
    "print(\"Number of points: %i\" % label.size)\n",
    "\n",
    "clf = NearestCentroid()\n",
    "clf.fit(dfall_dev.values, label)\n",
    "\n",
    "print(clf.centroids_.shape)"
   ]
  },
  {
   "cell_type": "code",
   "execution_count": 77,
   "metadata": {},
   "outputs": [
    {
     "name": "stdout",
     "output_type": "stream",
     "text": [
      "CLUSTER 1: science, see, something, know, could, would, different, things, think, they, \n",
      "CLUSTER 2: think, thought, didn, good, know, guess, my, try, science, they, \n",
      "CLUSTER 3: things, something, people, instead, collecting, experiments, figure, could, data, know, \n"
     ]
    }
   ],
   "source": [
    "#print the top 10 words for each cluster centroid\n",
    "def visualize_clusters(df, n_clusters, centroids, n_words=10, printed=True):   \n",
    "    # try to get the most informative words of each cluster\n",
    "    words = {}\n",
    "    vocabulary = df.columns\n",
    "    for n in range(n_clusters):\n",
    "        words[n] = []\n",
    "        if printed: print('CLUSTER ' + str(n+1) + ': ', end='')\n",
    "        arr = centroids[n]\n",
    "        indices = arr.argsort()[-n_words:]\n",
    "        for i in indices:\n",
    "            if printed: print(vocabulary[i], end=', '),\n",
    "            words[n].append(vocabulary[i])\n",
    "        print('')\n",
    "    return words\n",
    "\n",
    "top_words = visualize_clusters(dfall_dev, clf.centroids_.shape[0], clf.centroids_)"
   ]
  },
  {
   "cell_type": "markdown",
   "metadata": {},
   "source": [
    "**TSNE**"
   ]
  },
  {
   "cell_type": "code",
   "execution_count": 78,
   "metadata": {},
   "outputs": [
    {
     "data": {
      "image/png": "[encoded data removed]",
      "text/plain": [
       "<Figure size 432x288 with 1 Axes>"
      ]
     },
     "metadata": {
      "needs_background": "light"
     },
     "output_type": "display_data"
    }
   ],
   "source": [
    "\n",
    "# Create a TSNE instance: model\n",
    "model = TSNE(learning_rate=200)\n",
    "\n",
    "# Apply fit_transform to samples: tsne_features\n",
    "tsne_features = model.fit_transform(dfall_dev.values)\n",
    "\n",
    "# Select the 0th feature: xs\n",
    "xs = tsne_features[:,0]\n",
    "\n",
    "# Select the 1st feature: ys\n",
    "ys = tsne_features[:,1]\n",
    "\n",
    "# Scatter plot\n",
    "plt.scatter(xs,ys)\n",
    "plt.show()"
   ]
  },
  {
   "cell_type": "markdown",
   "metadata": {},
   "source": [
    "**DBSCAN**"
   ]
  },
  {
   "cell_type": "code",
   "execution_count": 270,
   "metadata": {},
   "outputs": [],
   "source": [
    "# #apply DBScan \n",
    "# dbscan = DBSCAN(eps=5, min_samples=5).fit(dfall_dev.values)\n",
    "\n",
    "# labels = dbscan.labels_\n",
    "\n",
    "# print(\"Number of points: %i\" % labels.size)\n",
    "\n",
    "# #find the cluster centroid (using the code from above)\n",
    "# clf = NearestCentroid()\n",
    "# clf.fit(dfall_dev.values, labels)\n",
    "\n",
    "# print(clf.centroids_.shape)"
   ]
  },
  {
   "cell_type": "code",
   "execution_count": 271,
   "metadata": {
    "scrolled": true
   },
   "outputs": [],
   "source": [
    "# top_words = visualize_clusters(dfall_dev, clf.centroids_.shape[0], clf.centroids_)"
   ]
  },
  {
   "cell_type": "markdown",
   "metadata": {},
   "source": [
    "NMF"
   ]
  },
  {
   "cell_type": "code",
   "execution_count": 83,
   "metadata": {},
   "outputs": [
    {
     "name": "stdout",
     "output_type": "stream",
     "text": [
      "[[1.53730197 0.01875992 0.        ]\n",
      " [1.47720108 0.         0.        ]\n",
      " [1.06680576 0.13512873 0.        ]]\n"
     ]
    }
   ],
   "source": [
    "# Transform data so not negative:\n",
    "scaler = MinMaxScaler()\n",
    "dfall_dev[dfall_dev.columns] = scaler.fit_transform(dfall_dev[dfall_dev.columns])\n",
    "\n",
    "# Create an NMF instance: model\n",
    "model = NMF(n_components=3)\n",
    "\n",
    "# Fit the model to articles\n",
    "model.fit(dfall_dev.values)\n",
    "\n",
    "# Transform the articles: nmf_features\n",
    "nmf_features = model.transform(dfall_dev.values)\n",
    "\n",
    "# Print the NMF features\n",
    "print(nmf_features[:3])"
   ]
  },
  {
   "cell_type": "code",
   "execution_count": 84,
   "metadata": {
    "scrolled": false
   },
   "outputs": [
    {
     "name": "stdout",
     "output_type": "stream",
     "text": [
      "find         0.514108\n",
      "would        0.508531\n",
      "think        0.507468\n",
      "learn        0.480666\n",
      "see          0.463434\n",
      "ecoxpt       0.460142\n",
      "me           0.452397\n",
      "different    0.451585\n",
      "water        0.430234\n",
      "they         0.429568\n",
      "Name: 0, dtype: float64 \n",
      "\n",
      "environment    0.274650\n",
      "law            0.268749\n",
      "algae          0.268009\n",
      "work           0.267592\n",
      "friend         0.267282\n",
      "hurting        0.267282\n",
      "ecosystem      0.265683\n",
      "answers        0.264859\n",
      "population     0.264064\n",
      "partner        0.263757\n",
      "Name: 1, dtype: float64 \n",
      "\n",
      "feel          0.291452\n",
      "deep          0.286061\n",
      "wanted        0.278722\n",
      "seems         0.269640\n",
      "definitely    0.269544\n",
      "always        0.268801\n",
      "aren          0.267301\n",
      "interested    0.264874\n",
      "helped        0.264609\n",
      "systems       0.262966\n",
      "Name: 2, dtype: float64 \n",
      "\n"
     ]
    }
   ],
   "source": [
    "import pandas as pd\n",
    "\n",
    "# Create a DataFrame: components_df\n",
    "components_dfall_dev = pd.DataFrame(model.components_, columns=dfall_dev.columns)\n",
    "\n",
    "for i in range(3):\n",
    "\n",
    "    # Select row : component\n",
    "    component = components_dfall_dev.iloc[i,:]\n",
    "\n",
    "    # Print result of nlargest\n",
    "    print(component.nlargest(n=10), '\\n')"
   ]
  },
  {
   "cell_type": "code",
   "execution_count": null,
   "metadata": {},
   "outputs": [],
   "source": []
  },
  {
   "cell_type": "code",
   "execution_count": null,
   "metadata": {},
   "outputs": [],
   "source": []
  },
  {
   "cell_type": "code",
   "execution_count": null,
   "metadata": {},
   "outputs": [],
   "source": []
  },
  {
   "cell_type": "code",
   "execution_count": null,
   "metadata": {},
   "outputs": [],
   "source": []
  },
  {
   "cell_type": "code",
   "execution_count": null,
   "metadata": {},
   "outputs": [],
   "source": []
  },
  {
   "cell_type": "code",
   "execution_count": null,
   "metadata": {},
   "outputs": [],
   "source": []
  },
  {
   "cell_type": "markdown",
   "metadata": {},
   "source": [
    "**Using Gensim to do a bag of words**"
   ]
  },
  {
   "cell_type": "code",
   "execution_count": 51,
   "metadata": {},
   "outputs": [
    {
     "name": "stdout",
     "output_type": "stream",
     "text": [
      "science\n",
      "[(0, 1), (2, 1), (6, 3), (8, 1), (9, 1), (11, 1), (12, 8), (16, 2), (17, 3), (27, 2)]\n"
     ]
    }
   ],
   "source": [
    "\n",
    "\n",
    "# Create a Dictionary from the transcripts\n",
    "dictionary = Dictionary(docs)\n",
    "\n",
    "# Select the id for \"computer\": computer_id\n",
    "science_id = dictionary.token2id.get(\"science\")\n",
    "\n",
    "# Use with the dictionary to print the word\n",
    "print(dictionary.get(science_id))\n",
    "\n",
    "# Create a MmCorpus: corpus\n",
    "corpus = [dictionary.doc2bow(doc) for doc in docs]\n",
    "\n",
    "# Print the first 10 word ids with their frequency counts from the fifth transcript\n",
    "print(corpus[4][:10])\n",
    "\n"
   ]
  },
  {
   "cell_type": "code",
   "execution_count": 52,
   "metadata": {},
   "outputs": [
    {
     "name": "stdout",
     "output_type": "stream",
     "text": [
      "[(154, 18), (212, 18), (179, 14), (34, 10), (137, 10), (494, 10), (64, 9), (152, 9), (12, 8), (60, 8), (28, 7), (101, 7), (142, 7), (164, 7), (578, 7), (57, 6), (160, 6), (196, 6), (201, 6), (410, 6), (421, 6), (446, 6), (69, 5), (71, 5), (111, 5), (112, 5), (117, 5), (150, 5), (182, 5), (248, 5), (261, 5), (310, 5), (423, 5), (534, 5), (35, 4), (40, 4), (62, 4), (88, 4), (124, 4), (181, 4), (390, 4), (569, 4), (583, 4), (6, 3), (17, 3), (33, 3), (50, 3), (65, 3), (66, 3), (87, 3), (148, 3), (178, 3), (194, 3), (430, 3), (550, 3), (579, 3), (16, 2), (27, 2), (48, 2), (55, 2), (106, 2), (109, 2), (110, 2), (114, 2), (121, 2), (126, 2), (128, 2), (131, 2), (134, 2), (195, 2), (202, 2), (213, 2), (215, 2), (221, 2), (236, 2), (280, 2), (323, 2), (354, 2), (436, 2), (460, 2), (471, 2), (477, 2), (523, 2), (528, 2), (533, 2), (537, 2), (539, 2), (547, 2), (548, 2), (549, 2), (552, 2), (554, 2), (557, 2), (559, 2), (560, 2), (564, 2), (571, 2), (572, 2), (581, 2), (584, 2), (587, 2), (0, 1), (2, 1), (8, 1), (9, 1), (11, 1), (58, 1), (61, 1), (63, 1), (68, 1), (85, 1), (91, 1), (92, 1), (98, 1), (103, 1), (119, 1), (120, 1), (122, 1), (125, 1), (147, 1), (151, 1), (153, 1), (157, 1), (162, 1), (170, 1), (175, 1), (180, 1), (184, 1), (185, 1), (200, 1), (204, 1), (235, 1), (237, 1), (268, 1), (274, 1), (277, 1), (282, 1), (283, 1), (287, 1), (327, 1), (334, 1), (339, 1), (340, 1), (342, 1), (345, 1), (346, 1), (361, 1), (387, 1), (392, 1), (403, 1), (428, 1), (448, 1), (449, 1), (453, 1), (476, 1), (479, 1), (495, 1), (496, 1), (497, 1), (498, 1), (499, 1), (500, 1), (501, 1), (502, 1), (503, 1), (504, 1), (505, 1), (506, 1), (507, 1), (508, 1), (509, 1), (510, 1), (511, 1), (512, 1), (513, 1), (514, 1), (515, 1), (516, 1), (517, 1), (518, 1), (519, 1), (520, 1), (521, 1), (522, 1), (524, 1), (525, 1), (526, 1), (527, 1), (529, 1), (530, 1), (531, 1), (532, 1), (535, 1), (536, 1), (538, 1), (540, 1), (541, 1), (542, 1), (543, 1), (544, 1), (545, 1), (546, 1), (551, 1), (553, 1), (555, 1), (556, 1), (558, 1), (561, 1), (562, 1), (563, 1), (565, 1), (566, 1), (567, 1), (568, 1), (570, 1), (573, 1), (574, 1), (575, 1), (576, 1), (577, 1), (580, 1), (582, 1), (585, 1), (586, 1), (588, 1), (589, 1)]\n",
      "see 18\n",
      "would 18\n",
      "they 14\n",
      "different 10\n",
      "put 10\n"
     ]
    }
   ],
   "source": [
    "## Test out bag of words on one transcript \n",
    "\n",
    "# Save the fifth transcript: tran\n",
    "tran = corpus[4]\n",
    "\n",
    "# Sort the doc for frequency: bow_tran\n",
    "bow_tran = sorted(tran, key=lambda w: w[1], reverse=True)\n",
    "print(bow_tran)\n",
    "\n",
    "# Print the top 5 words of the document alongside the count\n",
    "for word_id, word_count in bow_tran[:5]:\n",
    "    print(dictionary.get(word_id), word_count)"
   ]
  },
  {
   "cell_type": "code",
   "execution_count": 53,
   "metadata": {},
   "outputs": [
    {
     "name": "stdout",
     "output_type": "stream",
     "text": [
      "really 138\n",
      "they 136\n",
      "things 112\n",
      "think 105\n",
      "different 73\n",
      "know 67\n",
      "science 61\n",
      "would 54\n",
      "my 49\n",
      "could 47\n",
      "see 44\n",
      "didn 43\n",
      "fish 43\n",
      "fun 40\n",
      "go 39\n",
      "stuff 39\n",
      "people 38\n",
      "something 37\n",
      "experiments 33\n",
      "look 32\n"
     ]
    }
   ],
   "source": [
    "### create dictionary for all transcripts:\n",
    "\n",
    "# Create the defaultdict: total_word_count\n",
    "total_word_count = defaultdict(int)\n",
    "for word_id, word_count in itertools.chain.from_iterable(corpus):\n",
    "    total_word_count[word_id] += word_count\n",
    "\n",
    "# Create a sorted list from the defaultdict: sorted_word_count\n",
    "sorted_word_count = sorted(total_word_count.items(), key=lambda w: w[1], reverse=True) \n",
    "\n",
    "# Print the top 5 words across all documents alongside the count\n",
    "for word_id, word_count in sorted_word_count[:20]:\n",
    "    print(dictionary.get(word_id), word_count)"
   ]
  },
  {
   "cell_type": "code",
   "execution_count": 54,
   "metadata": {},
   "outputs": [],
   "source": [
    "### top words for each transcript\n",
    "\n",
    "# for i,doc in enumerate(corpus):\n",
    "#     tran[i] = sorted(doc, key=lambda w: w[1], reverse=True)\n",
    "\n",
    "# for i in range(14):\n",
    "#     print('Transcript '+str(i)+': ')\n",
    "#     for word_id, word_count in tran[i][:5]:\n",
    "#         print(dictionary.get(word_id), word_count)\n"
   ]
  },
  {
   "cell_type": "markdown",
   "metadata": {},
   "source": [
    "**tf-idf model**"
   ]
  },
  {
   "cell_type": "code",
   "execution_count": 55,
   "metadata": {},
   "outputs": [
    {
     "name": "stdout",
     "output_type": "stream",
     "text": [
      "[(0, 0.009765617121385553), (2, 0.025268429892106842), (6, 0.0437102267088253), (8, 0.012017313152479052), (9, 0.03076814024637398)]\n",
      "teacher 0.2696368264221424\n",
      "give 0.25885331685681207\n",
      "put 0.2526842989210684\n",
      "year 0.2526842989210684\n",
      "topic 0.20708265348544966\n"
     ]
    }
   ],
   "source": [
    "# Create a new TfidfModel using the corpus: tfidf\n",
    "tfidf = TfidfModel(corpus)\n",
    "\n",
    "# Calculate the tfidf weights of the fifth transcript\n",
    "tfidf_weights = tfidf[tran]\n",
    "\n",
    "# Print the first five weights\n",
    "print(tfidf_weights[:5])\n",
    "\n",
    "# Sort the weights from highest to lowest: sorted_tfidf_weights\n",
    "sorted_tfidf_weights = sorted(tfidf_weights, key=lambda w: w[1], reverse=True)\n",
    "\n",
    "# Print the top 5 weighted words\n",
    "for term_id, weight in sorted_tfidf_weights[:5]:\n",
    "    print(dictionary.get(term_id), weight)"
   ]
  },
  {
   "cell_type": "code",
   "execution_count": 57,
   "metadata": {},
   "outputs": [
    {
     "name": "stdout",
     "output_type": "stream",
     "text": [
      "Transcript 0: \n",
      "books\n",
      "inside\n",
      "known\n",
      "even\n",
      "affected\n",
      "certain\n",
      "parts\n",
      "pond\n",
      "boring\n",
      "graphs\n",
      "Transcript 1: \n",
      "problem\n",
      "jobs\n",
      "lead\n",
      "noticed\n",
      "ways\n",
      "fertilizer\n",
      "since\n",
      "solving\n",
      "bigger\n",
      "compared\n",
      "Transcript 2: \n",
      "died\n",
      "general\n",
      "fish\n",
      "guess\n",
      "biology\n",
      "chemist\n",
      "investigate\n",
      "solutions\n",
      "finding\n",
      "dying\n",
      "Transcript 3: \n",
      "tries\n",
      "spectrum\n",
      "speed\n",
      "favorite\n",
      "light\n",
      "enjoy\n",
      "guess\n",
      "data\n",
      "exactly\n",
      "answering\n",
      "Transcript 4: \n",
      "teacher\n",
      "give\n",
      "put\n",
      "year\n",
      "topic\n",
      "graphs\n",
      "thoughts\n",
      "saw\n",
      "easy\n",
      "map\n",
      "Transcript 5: \n",
      "collecting\n",
      "data\n",
      "figure\n",
      "assigned\n",
      "basically\n",
      "events\n",
      "getting\n",
      "historical\n",
      "lets\n",
      "prefer\n",
      "Transcript 6: \n",
      "fits\n",
      "inference\n",
      "choose\n",
      "hypothesis\n",
      "criminal\n",
      "evidence\n",
      "outdoors\n",
      "going\n",
      "attorney\n",
      "charge\n",
      "Transcript 7: \n",
      "dead\n",
      "matter\n",
      "hurt\n",
      "supposed\n",
      "law\n",
      "partner\n",
      "work\n",
      "lawyer\n",
      "let\n",
      "access\n",
      "Transcript 8: \n",
      "bees\n",
      "interested\n",
      "definitely\n",
      "ecology\n",
      "measurements\n",
      "playing\n",
      "spend\n",
      "kinds\n",
      "questions\n",
      "seems\n",
      "Transcript 9: \n",
      "position\n",
      "felt\n",
      "effort\n",
      "enjoyed\n",
      "exciting\n",
      "forms\n",
      "labs\n",
      "ecosystems\n",
      "future\n",
      "video\n",
      "Transcript 10: \n",
      "living\n",
      "sort\n",
      "nonliving\n",
      "variables\n",
      "attention\n",
      "hadn\n",
      "tested\n",
      "cell\n",
      "check\n",
      "connect\n",
      "Transcript 11: \n",
      "problems\n",
      "torture\n",
      "tell\n",
      "fishes\n",
      "solving\n",
      "grade\n",
      "th\n",
      "computer\n",
      "bored\n",
      "consider\n",
      "Transcript 12: \n",
      "complicated\n",
      "conclusions\n",
      "caused\n",
      "draw\n",
      "memorizing\n",
      "instead\n",
      "look\n",
      "change\n",
      "reading\n",
      "things\n",
      "Transcript 13: \n",
      "virtual\n",
      "deeply\n",
      "observe\n",
      "taking\n",
      "happens\n",
      "notes\n",
      "methods\n",
      "quick\n",
      "surroundings\n",
      "long\n",
      "Transcript 14: \n",
      "inferences\n",
      "must\n",
      "observations\n",
      "saw\n",
      "experiments\n",
      "die\n",
      "roam\n",
      "facts\n",
      "free\n",
      "knew\n"
     ]
    }
   ],
   "source": [
    "### get a weighted dictionary for every transcript\n",
    "# Calculate the tfidf weights of the fifth transcript\n",
    "\n",
    "tfidf = TfidfModel(corpus)\n",
    "for i,tran in enumerate(corpus):\n",
    "    tfidf_weights = tfidf[tran]\n",
    "    # Sort the weights from highest to lowest\n",
    "    sorted_tfidf_weights[i] = sorted(tfidf_weights, key=lambda w: w[1], reverse=True)\n",
    "    \n",
    "# # Print the top 5 weighted words for each:\n",
    "# for i in range(15):\n",
    "#     print('Transcript '+str(i)+': ')\n",
    "#     for term_id, weight in sorted_tfidf_weights[i][:5]:\n",
    "#         print(dictionary.get(term_id), \"{:.2f}\".format(weight))\n",
    "        \n",
    "        \n",
    "# Print the top 5 weighted words for each:\n",
    "for i in range(15):\n",
    "    print('Transcript '+str(i)+': ')\n",
    "    for term_id, weight in sorted_tfidf_weights[i][:10]:\n",
    "        print(dictionary.get(term_id))"
   ]
  },
  {
   "cell_type": "code",
   "execution_count": 60,
   "metadata": {},
   "outputs": [
    {
     "name": "stdout",
     "output_type": "stream",
     "text": [
      "['ability', 'able', 'access', 'accurate', 'accused', 'across', 'actually', 'add', 'added', 'adult']\n"
     ]
    }
   ],
   "source": [
    "# ### count vectorizer\n",
    "# from sklearn.feature_extraction.text import CountVectorizer\n",
    "# count_vectorizer = CountVectorizer()\n",
    "# count = count_vectorizer.fit_transform(alldocs)\n",
    "# print(count_vectorizer.get_feature_names()[:10])"
   ]
  },
  {
   "cell_type": "code",
   "execution_count": 62,
   "metadata": {},
   "outputs": [
    {
     "name": "stdout",
     "output_type": "stream",
     "text": [
      "['ability', 'able', 'access', 'accurate', 'accused', 'across', 'actually', 'add', 'added', 'adult']\n",
      "  (0, 876)\t1.0\n",
      "  (1, 961)\t1.0\n",
      "  (2, 871)\t1.0\n",
      "  (3, 690)\t1.0\n",
      "  (4, 356)\t1.0\n"
     ]
    }
   ],
   "source": [
    "# # Import TfidfVectorizer\n",
    "# from sklearn.feature_extraction.text import TfidfVectorizer\n",
    "\n",
    "# # Initialize a TfidfVectorizer object: tfidf_vectorizer\n",
    "# tfidf_vectorizer = TfidfVectorizer(max_df=0.7)\n",
    "\n",
    "# # Transform the training data: tfidf_train \n",
    "# tfidf = tfidf_vectorizer.fit_transform(alldocs)\n",
    "\n",
    "# # Print the first 10 features\n",
    "# print(tfidf_vectorizer.get_feature_names()[:10])\n",
    "\n",
    "# # Print the first 5 vectors of the tfidf data\n",
    "# print(tfidf[:5])"
   ]
  },
  {
   "cell_type": "code",
   "execution_count": null,
   "metadata": {},
   "outputs": [],
   "source": []
  },
  {
   "cell_type": "code",
   "execution_count": null,
   "metadata": {},
   "outputs": [],
   "source": []
  },
  {
   "cell_type": "code",
   "execution_count": null,
   "metadata": {},
   "outputs": [],
   "source": []
  }
 ],
 "metadata": {
  "kernelspec": {
   "display_name": "Python 3",
   "language": "python",
   "name": "python3"
  },
  "language_info": {
   "codemirror_mode": {
    "name": "ipython",
    "version": 3
   },
   "file_extension": ".py",
   "mimetype": "text/x-python",
   "name": "python",
   "nbconvert_exporter": "python",
   "pygments_lexer": "ipython3",
   "version": "3.7.1"
  },
  "varInspector": {
   "cols": {
    "lenName": 16,
    "lenType": 16,
    "lenVar": 40
   },
   "kernels_config": {
    "python": {
     "delete_cmd_postfix": "",
     "delete_cmd_prefix": "del ",
     "library": "var_list.py",
     "varRefreshCmd": "print(var_dic_list())"
    },
    "r": {
     "delete_cmd_postfix": ") ",
     "delete_cmd_prefix": "rm(",
     "library": "var_list.r",
     "varRefreshCmd": "cat(var_dic_list()) "
    }
   },
   "types_to_exclude": [
    "module",
    "function",
    "builtin_function_or_method",
    "instance",
    "_Feature"
   ],
   "window_display": false
  }
 },
 "nbformat": 4,
 "nbformat_minor": 2
}
