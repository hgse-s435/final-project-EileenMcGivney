{
 "cells": [
  {
   "cell_type": "markdown",
   "metadata": {},
   "source": [
    "## Visualizing 50-word segments by students April 26 draft\n",
    "\n",
    "Visualizations of the 50-word segment deviation vector clusters  \n",
    "Using the hierarchical agglomerative clustering method  \n",
    "\n",
    "S435 Final Project: Student Science identity  \n",
    "Data: Interviews with 15 7th grade students from EcoXPT evaluation  \n",
    "\n",
    "Analysis notebook here:  \n",
    "/Volumes/GoogleDrive/My Drive/Spring 2019/S435/GitHub/final-project-EileenMcGivney/April26-Analysis-McGivney.ipynb   "
   ]
  },
  {
   "cell_type": "code",
   "execution_count": 17,
   "metadata": {},
   "outputs": [
    {
     "name": "stdout",
     "output_type": "stream",
     "text": [
      "/Volumes/GoogleDrive/My Drive/Spring 2019/S435/GitHub/final-project-EileenMcGivney\n"
     ]
    }
   ],
   "source": [
    "## Setup\n",
    "import os\n",
    "import re\n",
    "import glob\n",
    "import math\n",
    "import collections\n",
    "import numpy as np\n",
    "import pandas as pd\n",
    "import matplotlib.pyplot as plt\n",
    "%matplotlib inline\n",
    "import pickle\n",
    "\n",
    "import nltk\n",
    "#nltk.download('punkt')\n",
    "from collections import Counter\n",
    "\n",
    "from collections import defaultdict\n",
    "from sklearn.manifold import TSNE\n",
    "from sklearn.cluster import KMeans\n",
    "from scipy.cluster.hierarchy import linkage, dendrogram\n",
    "from sklearn.cluster import AgglomerativeClustering\n",
    "from sklearn.neighbors.nearest_centroid import NearestCentroid\n",
    "from sklearn.cluster import DBSCAN\n",
    "from sklearn.preprocessing import MinMaxScaler\n",
    "from sklearn.decomposition import NMF\n",
    "\n",
    "\n",
    "from bokeh.palettes import Category20, Category10\n",
    "\n",
    "%cd '/Volumes/GoogleDrive/My Drive/Spring 2019/S435/GitHub/final-project-EileenMcGivney'"
   ]
  },
  {
   "cell_type": "code",
   "execution_count": 18,
   "metadata": {},
   "outputs": [],
   "source": [
    "## Load data\n",
    "# Deviation vectors:\n",
    "\n",
    "dff = pd.read_csv('./dataframes/segments_fifty_deviance.csv', index_col=0)\n",
    "\n",
    "# Segments:\n",
    "with open('./cleandocs/segs_fifty.txt', 'rb') as fp:\n",
    "    segs_fifty = pickle.load(fp)\n",
    "    \n",
    "### cleaned transcripts:\n",
    "docs = []\n",
    "for i in range (15):\n",
    "    with open('./cleandocs/doc'+str(i)+'.txt', 'rb') as fp:\n",
    "        docs.append(pickle.load(fp))"
   ]
  },
  {
   "cell_type": "markdown",
   "metadata": {},
   "source": [
    "### Clustering the data"
   ]
  },
  {
   "cell_type": "code",
   "execution_count": 19,
   "metadata": {},
   "outputs": [
    {
     "name": "stdout",
     "output_type": "stream",
     "text": [
      "Number of points: 194\n",
      "(7, 992)\n"
     ]
    }
   ],
   "source": [
    "## Hierarchical Agglomerative Clustering: \n",
    "# 50-word segments:\n",
    "ward_f = AgglomerativeClustering(n_clusters=7, linkage='ward').fit(dff.values)\n",
    "label_f = ward_f.labels_\n",
    "\n",
    "print(\"Number of points: %i\" % label_f.size)\n",
    "\n",
    "clf_f = NearestCentroid()\n",
    "clf_f.fit(dff.values, label_f)\n",
    "\n",
    "print(clf_f.centroids_.shape)"
   ]
  },
  {
   "cell_type": "code",
   "execution_count": 20,
   "metadata": {},
   "outputs": [],
   "source": [
    "#print the top 10 words for each cluster centroid\n",
    "# make a function to print the words:\n",
    "def visualize_clusters(df, n_clusters, centroids, n_words=10, printed=True):   \n",
    "    # try to get the most informative words of each cluster\n",
    "    words = {}\n",
    "    vocabulary = df.columns\n",
    "    for n in range(n_clusters):\n",
    "        words[n] = []\n",
    "        if printed: print('CLUSTER ' + str(n+1) + ': ', end='')\n",
    "        arr = centroids[n]\n",
    "        indices = arr.argsort()[-n_words:]\n",
    "        for i in indices:\n",
    "            if printed: print(vocabulary[i], end=', '),\n",
    "            words[n].append(vocabulary[i])\n",
    "        print('')\n",
    "    return words"
   ]
  },
  {
   "cell_type": "code",
   "execution_count": 21,
   "metadata": {},
   "outputs": [
    {
     "name": "stdout",
     "output_type": "stream",
     "text": [
      "CLUSTER 1: lead, people, bees, went, figure, time, always, problem, go, different, \n",
      "CLUSTER 2: scientist, going, make, could, thought, outside, go, try, fun, they, \n",
      "CLUSTER 3: happens, instead, use, able, look, interesting, living, things, different, think, \n",
      "CLUSTER 4: figure, job, part, law, someone, something, my, didn, science, know, \n",
      "CLUSTER 5: general, finding, around, things, dying, cause, look, died, guess, fish, \n",
      "CLUSTER 6: around, hard, saw, us, idea, teacher, year, would, put, see, \n",
      "CLUSTER 7: life, ecoxpt, real, anything, fun, water, think, inside, would, things, \n"
     ]
    }
   ],
   "source": [
    "# Top Ten words for each cluster: 50-word segments and 100-word segments:\n",
    "top_words_f = visualize_clusters(dff, clf_f.centroids_.shape[0], clf_f.centroids_)"
   ]
  },
  {
   "cell_type": "markdown",
   "metadata": {},
   "source": [
    "### Visualizing the clusters by each transcript"
   ]
  },
  {
   "cell_type": "code",
   "execution_count": 22,
   "metadata": {},
   "outputs": [
    {
     "name": "stdout",
     "output_type": "stream",
     "text": [
      "['#1f77b4', '#aec7e8', '#ff7f0e', '#ffbb78', '#2ca02c', '#98df8a', '#d62728']\n"
     ]
    }
   ],
   "source": [
    "### Colors from Bokeh:\n",
    "from bokeh.palettes import Category20\n",
    "colors_f= Category20[ward_f.n_clusters]\n",
    "print(colors_f)"
   ]
  },
  {
   "cell_type": "code",
   "execution_count": 23,
   "metadata": {},
   "outputs": [
    {
     "data": {
      "text/html": [
       " <p>Cluster 0: <font color=#1f77b4>lead people bees went figure time always problem go different</font></p><p>Cluster 1: <font color=#aec7e8>scientist going make could thought outside go try fun they</font></p><p>Cluster 2: <font color=#ff7f0e>happens instead use able look interesting living things different think</font></p><p>Cluster 3: <font color=#ffbb78>figure job part law someone something my didn science know</font></p><p>Cluster 4: <font color=#2ca02c>general finding around things dying cause look died guess fish</font></p><p>Cluster 5: <font color=#98df8a>around hard saw us idea teacher year would put see</font></p><p>Cluster 6: <font color=#d62728>life ecoxpt real anything fun water think inside would things</font></p>"
      ],
      "text/plain": [
       "<IPython.core.display.HTML object>"
      ]
     },
     "execution_count": 23,
     "metadata": {},
     "output_type": "execute_result"
    }
   ],
   "source": [
    "# print the top ten words of each cluster\n",
    "# in a different color using the HTML function \n",
    "from IPython.core.display import HTML\n",
    "\n",
    "html_text= \" \"\n",
    "for i in range(ward_f.n_clusters):\n",
    "    words = ' '.join(top_words_f[i])\n",
    "    text = \"<p>Cluster \"+str(i)+\": <font color=\"+colors_f[i]+\">\"+words+\"</font></p>\"\n",
    "    html_text += text\n",
    "HTML(html_text)"
   ]
  },
  {
   "cell_type": "code",
   "execution_count": 24,
   "metadata": {},
   "outputs": [],
   "source": [
    "# indices: 194 segments\n",
    "indices_f = [i for i in range(194)]\n",
    "#print(indices)"
   ]
  },
  {
   "cell_type": "code",
   "execution_count": 25,
   "metadata": {},
   "outputs": [
    {
     "data": {
      "text/plain": [
       "194"
      ]
     },
     "execution_count": 25,
     "metadata": {},
     "output_type": "execute_result"
    }
   ],
   "source": [
    "# List of the segments\n",
    "list_of_segs_f = []\n",
    "for doc in segs_fifty:\n",
    "    for seg in doc:\n",
    "        list_of_segs_f.append(seg)\n",
    "len(list_of_segs_f)\n",
    "#print(list_of_segs[0])"
   ]
  },
  {
   "cell_type": "code",
   "execution_count": 26,
   "metadata": {},
   "outputs": [
    {
     "data": {
      "text/plain": [
       "{0, 1, 2, 3, 4, 5, 6}"
      ]
     },
     "execution_count": 26,
     "metadata": {},
     "output_type": "execute_result"
    }
   ],
   "source": [
    "# 7) retrieve the list of labels assigned to each chunk\n",
    "labels_f = label_f\n",
    "set(labels_f)"
   ]
  },
  {
   "cell_type": "code",
   "execution_count": 27,
   "metadata": {},
   "outputs": [
    {
     "name": "stdout",
     "output_type": "stream",
     "text": [
      "194\n"
     ]
    }
   ],
   "source": [
    "# assign the segments to their documents\n",
    "doc_id_f = []\n",
    "current_doc = 0\n",
    "\n",
    "for i,doc in enumerate(segs_fifty):\n",
    "    for seg in doc:\n",
    "        doc_id_f.append(i)\n",
    "print(len(doc_id_f))\n"
   ]
  },
  {
   "cell_type": "code",
   "execution_count": 28,
   "metadata": {},
   "outputs": [],
   "source": [
    "# add a name/scientist_f for each student\n",
    "name_f = []\n",
    "scientist_f= []\n",
    "for i in doc_id_f:\n",
    "    if i == 0:\n",
    "        name_f.append('amina')\n",
    "        scientist_f.append('no')\n",
    "    elif i == 1:\n",
    "        name_f.append('ben')\n",
    "        scientist_f.append('no')\n",
    "    elif i == 2:\n",
    "        name_f.append('daniel')\n",
    "        scientist_f.append('yes')\n",
    "    elif i == 3:\n",
    "        name_f.append('emma')\n",
    "        scientist_f.append('maybe')\n",
    "    elif i == 4:\n",
    "        name_f.append('james')\n",
    "        scientist_f.append('maybe')\n",
    "    elif i == 5:\n",
    "        name_f.append('jenny')\n",
    "        scientist_f.append('no')\n",
    "    elif i == 6:\n",
    "        name_f.append('kyle')\n",
    "        scientist_f.append('yes')\n",
    "    elif i == 7:\n",
    "        name_f.append('leila')\n",
    "        scientist_f.append('no')\n",
    "    elif i == 8:\n",
    "        name_f.append('maya')\n",
    "        scientist_f.append('maybe')        \n",
    "    elif i == 9:\n",
    "        name_f.append('michelle')\n",
    "        scientist_f.append('no')\n",
    "    elif i == 10:\n",
    "        name_f.append('mike')\n",
    "        scientist_f.append('no')\n",
    "    elif i == 11:\n",
    "        name_f.append('nicole')\n",
    "        scientist_f.append('yes')\n",
    "    elif i == 12:\n",
    "        name_f.append('samuel')\n",
    "        scientist_f.append('maybe')\n",
    "    elif i == 13:\n",
    "        name_f.append('sasha')\n",
    "        scientist_f.append('yes')\n",
    "    elif i == 14:\n",
    "        name_f.append('simon')\n",
    "        scientist_f.append('no')\n",
    "        \n",
    "# make numeric list of scientist so can make colors for it\n",
    "scicolor_f = []      \n",
    "for i in scientist_f:\n",
    "    if i == 'yes':\n",
    "        scicolor_f.append(1)\n",
    "    elif i == 'no':\n",
    "        scicolor_f.append(2)\n",
    "    elif i == 'maybe':\n",
    "        scicolor_f.append(3)"
   ]
  },
  {
   "cell_type": "markdown",
   "metadata": {},
   "source": [
    "*(I relaize now this would have been better done with a dictionary but I didn't think about that at the time!)*"
   ]
  },
  {
   "cell_type": "code",
   "execution_count": 29,
   "metadata": {},
   "outputs": [
    {
     "name": "stdout",
     "output_type": "stream",
     "text": [
      "{'#1f77b4', '#2ca02c', '#d62728', '#ff7f0e'}\n",
      "{'#2ca02c', '#d62728', '#ff7f0e'}\n",
      "['no', 'no', 'no', 'no', 'no', 'no', 'no', 'no', 'no', 'no', 'no']\n",
      "['#2ca02c', '#2ca02c', '#2ca02c', '#2ca02c', '#2ca02c', '#2ca02c', '#2ca02c', '#2ca02c', '#2ca02c', '#2ca02c', '#2ca02c']\n",
      "194\n"
     ]
    }
   ],
   "source": [
    "# assign colors for scientist/not scientist\n",
    "colors_f= Category10[4]\n",
    "print(set(colors_f))\n",
    "palette_f_sci = []\n",
    "for sci in scicolor_f:\n",
    "    color = colors_f[sci]\n",
    "    palette_f_sci.append(color)\n",
    "print(set(palette_f_sci))\n",
    "print(scientist_f[0:11])\n",
    "print(palette_f_sci[0:11])\n",
    "print(len(palette_f_sci))\n",
    "\n",
    "### I should change this so the colors make more sense- like green for yes, yellow maybe, red for no"
   ]
  },
  {
   "cell_type": "code",
   "execution_count": 30,
   "metadata": {},
   "outputs": [
    {
     "name": "stdout",
     "output_type": "stream",
     "text": [
      "{'#aec7e8', '#c49c94', '#98df8a', '#7f7f7f', '#1f77b4', '#f7b6d2', '#e377c2', '#c5b0d5', '#9467bd', '#ffbb78', '#2ca02c', '#d62728', '#8c564b', '#ff7f0e', '#ff9896'}\n",
      "{'#aec7e8', '#c49c94', '#98df8a', '#7f7f7f', '#1f77b4', '#f7b6d2', '#e377c2', '#c5b0d5', '#9467bd', '#ffbb78', '#2ca02c', '#d62728', '#8c564b', '#ff7f0e', '#ff9896'}\n",
      "[0, 0, 0, 0, 0, 0, 0, 0, 0, 0, 0]\n",
      "['#1f77b4', '#1f77b4', '#1f77b4', '#1f77b4', '#1f77b4', '#1f77b4', '#1f77b4', '#1f77b4', '#1f77b4', '#1f77b4', '#1f77b4']\n",
      "194\n"
     ]
    }
   ],
   "source": [
    "# assign the corresponding cluster color to each student\n",
    "colors_f= Category20[15]\n",
    "print(set(colors_f))\n",
    "palette_f_stu = []\n",
    "for doc_id in doc_id_f:\n",
    "    color = colors_f[doc_id]\n",
    "    palette_f_stu.append(color)\n",
    "print(set(palette_f_stu))\n",
    "print(doc_id_f[0:11])\n",
    "print(palette_f_stu[0:11])\n",
    "print(len(palette_f_stu))"
   ]
  },
  {
   "cell_type": "code",
   "execution_count": 31,
   "metadata": {},
   "outputs": [
    {
     "name": "stdout",
     "output_type": "stream",
     "text": [
      "{'#aec7e8', '#98df8a', '#1f77b4', '#ffbb78', '#2ca02c', '#d62728', '#ff7f0e'}\n",
      "[0 0 0 3 3 3 3 3 3 3 3]\n",
      "['#1f77b4', '#1f77b4', '#1f77b4', '#ffbb78', '#ffbb78', '#ffbb78', '#ffbb78', '#ffbb78', '#ffbb78', '#ffbb78', '#ffbb78']\n",
      "194\n"
     ]
    }
   ],
   "source": [
    "# assign corresponding color for each cluster\n",
    "colors_f= Category20[ward_f.n_clusters]\n",
    "palette_f_clu = []\n",
    "for label in labels_f:\n",
    "    color = colors_f[label]\n",
    "    palette_f_clu.append(color)\n",
    "print(set(palette_f_clu))\n",
    "print(labels_f[0:11])\n",
    "print(palette_f_clu[0:11])\n",
    "print(len(palette_f_clu))"
   ]
  },
  {
   "cell_type": "code",
   "execution_count": 32,
   "metadata": {},
   "outputs": [
    {
     "name": "stdout",
     "output_type": "stream",
     "text": [
      "194\n",
      "194\n",
      "194\n",
      "194\n",
      "194\n",
      "194\n",
      "194\n",
      "194\n",
      "194\n"
     ]
    }
   ],
   "source": [
    "# Double check all the lists are right\n",
    "print(len(indices_f))\n",
    "print(len(list_of_segs_f))\n",
    "print(len(labels_f))\n",
    "print(len(doc_id_f))\n",
    "print(len(palette_f_sci))\n",
    "print(len(palette_f_clu))\n",
    "print(len(palette_f_stu))\n",
    "print(len(name_f))\n",
    "print(len(scientist_f))"
   ]
  },
  {
   "cell_type": "code",
   "execution_count": 33,
   "metadata": {},
   "outputs": [],
   "source": [
    "#create a dictionary using the lists from above\n",
    "master_f = {'indices': indices_f,\n",
    "          'seg': list_of_segs_f, \n",
    "          'cluster': labels_f,\n",
    "          'document': doc_id_f, \n",
    "            'palette_sci': palette_f_sci, \n",
    "            'palette_stu': palette_f_stu,\n",
    "            'palette_clu': palette_f_clu,\n",
    "           'name' : name_f,\n",
    "           'scientist' : scientist_f}"
   ]
  },
  {
   "cell_type": "code",
   "execution_count": 34,
   "metadata": {},
   "outputs": [],
   "source": [
    "# convert the dictionary into a pandas dataframe\n",
    "master_dff = pd.DataFrame(master_f)"
   ]
  },
  {
   "cell_type": "markdown",
   "metadata": {},
   "source": [
    "## Making plots: color code by cluster, student, scientist"
   ]
  },
  {
   "cell_type": "code",
   "execution_count": 40,
   "metadata": {},
   "outputs": [],
   "source": [
    "#create the plot using circles \n",
    "from bokeh.plotting import ColumnDataSource, figure, show\n",
    "from bokeh.io import output_notebook, curdoc, output_file\n",
    "from bokeh.models import HoverTool, Select, Slider\n",
    "from bokeh.layouts import row, column\n",
    "\n",
    "#create a figure:\n",
    "p = figure(plot_width=400, plot_height=400)\n",
    "\n",
    "# Create a ColumnDataSource from df: source\n",
    "source = ColumnDataSource(master_dff)\n",
    "\n",
    "# Add circle glyphs to the figure p\n",
    "p.circle('indices', 'cluster', size=8, source=source)\n",
    "\n",
    "#show the plot\n",
    "output_file('clusters_f.html')\n",
    "show(p)"
   ]
  },
  {
   "cell_type": "code",
   "execution_count": 41,
   "metadata": {},
   "outputs": [],
   "source": [
    "#add colors for each cluster\n",
    "#create a figure:\n",
    "p = figure(x_axis_label = 'segment', y_axis_label = \"cluster\", title = 'Student Science Itentity Transcript Clusters')\n",
    "\n",
    "# Create a ColumnDataSource from df: source\n",
    "source = ColumnDataSource(master_dff)\n",
    "\n",
    "# Add circle glyphs to the figure p\n",
    "p.circle('indices', 'cluster', size=8, color = 'palette_clu', source=source)\n",
    "\n",
    "# Specify the name of the output file and show the result\n",
    "output_file('colorclusters_f.html')\n",
    "show(p)"
   ]
  },
  {
   "cell_type": "code",
   "execution_count": 42,
   "metadata": {},
   "outputs": [],
   "source": [
    "#add colors for each student\n",
    "#create a figure:\n",
    "p = figure(x_axis_label = 'segment', y_axis_label = \"cluster\", title = 'Student Science Itentity Transcript Clusters')\n",
    "\n",
    "# Create a ColumnDataSource from df: source\n",
    "source = ColumnDataSource(master_dff)\n",
    "\n",
    "# Add circle glyphs to the figure p\n",
    "p.circle('indices', 'cluster', size=8, color = 'palette_stu', source=source)\n",
    "\n",
    "# Specify the name of the output file and show the result\n",
    "output_file('colorstudent_f.html')\n",
    "show(p)"
   ]
  },
  {
   "cell_type": "code",
   "execution_count": 43,
   "metadata": {
    "scrolled": true
   },
   "outputs": [],
   "source": [
    "# add a hover tool that displays the name of the student, color for yes/no/maybe scientist\n",
    "#create a figure:\n",
    "p = figure(x_axis_label = 'segment', y_axis_label = \"cluster\", title = 'Student Science Itentity Transcript Clusters')\n",
    "source = ColumnDataSource(master_dff)\n",
    "# Add circle glyphs to figure p\n",
    "p.circle('indices', 'cluster', size=8, color = 'palette_sci', source=source)\n",
    "\n",
    "# Create a HoverTool: hover\n",
    "tooltips = [('text', '@name')]\n",
    "hover = HoverTool(tooltips=tooltips)\n",
    "\n",
    "# Add the hover tool to the figure p\n",
    "p.add_tools(hover)\n",
    "\n",
    "# Specify the name of the output file and show the result\n",
    "output_file('hoverstudent_f.html')\n",
    "show(p)"
   ]
  },
  {
   "cell_type": "code",
   "execution_count": 44,
   "metadata": {},
   "outputs": [],
   "source": [
    "# add a hover tool that displays the name of the student, color for the student\n",
    "#create a figure:\n",
    "p = figure(x_axis_label = 'segment', y_axis_label = \"cluster\", title = 'Student Science Itentity Transcript Clusters')\n",
    "source = ColumnDataSource(master_dff)\n",
    "# Add circle glyphs to figure p\n",
    "p.circle('indices', 'cluster', size=8, color = 'palette_stu', source=source)\n",
    "\n",
    "# Create a HoverTool: hover\n",
    "tooltips = [('text', '@seg')]\n",
    "hover = HoverTool(tooltips=tooltips)\n",
    "\n",
    "# Add the hover tool to the figure p\n",
    "p.add_tools(hover)\n",
    "\n",
    "# Specify the name of the output file and show the result\n",
    "output_file('hoversegment_f.html')\n",
    "show(p)"
   ]
  }
 ],
 "metadata": {
  "kernelspec": {
   "display_name": "Python 3",
   "language": "python",
   "name": "python3"
  },
  "language_info": {
   "codemirror_mode": {
    "name": "ipython",
    "version": 3
   },
   "file_extension": ".py",
   "mimetype": "text/x-python",
   "name": "python",
   "nbconvert_exporter": "python",
   "pygments_lexer": "ipython3",
   "version": "3.7.1"
  },
  "varInspector": {
   "cols": {
    "lenName": 16,
    "lenType": 16,
    "lenVar": 40
   },
   "kernels_config": {
    "python": {
     "delete_cmd_postfix": "",
     "delete_cmd_prefix": "del ",
     "library": "var_list.py",
     "varRefreshCmd": "print(var_dic_list())"
    },
    "r": {
     "delete_cmd_postfix": ") ",
     "delete_cmd_prefix": "rm(",
     "library": "var_list.r",
     "varRefreshCmd": "cat(var_dic_list()) "
    }
   },
   "types_to_exclude": [
    "module",
    "function",
    "builtin_function_or_method",
    "instance",
    "_Feature"
   ],
   "window_display": false
  }
 },
 "nbformat": 4,
 "nbformat_minor": 2
}
