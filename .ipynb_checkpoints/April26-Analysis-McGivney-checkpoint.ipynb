{
 "cells": [
  {
   "cell_type": "markdown",
   "metadata": {},
   "source": [
    "## Cluster Analysis Draft April 26\n",
    "\n",
    "Eileen McGivney  \n",
    "Science identity study  \n",
    "Data: interviews with 15 7th graders  \n",
    "Preprocessing: /Volumes/GoogleDrive/My Drive/Spring 2019/S435/GitHub/final-project-EileenMcGivney/April26-Preprocessing-McGivney.ipynb  \n",
    "\n",
    "Research Question: Can we identify student profiles related to their science identity and interest through natural language processing?\n",
    "\n",
    "Analysis: Cluster analysis\n",
    "* Replicate Sherin: hierarchical agglomerative clustering\n",
    "* Try other clustering methods: K-means, density based\n",
    "* Estimate with regular vectors and with deviation vectors\n",
    "\n",
    "**This Notebook**  \n",
    "Sample of iterating cluster analysis on the 50-word segments as analysis as of April 26. \n",
    "* Deviation Vectors: KMEANS, Hierarchical Agglomerative Clustering, DBSCAN, NMF\n",
    "* Vectors: KMEANS, Hierarchical Agglomerative Clustering, DBSCAN, NMF\n",
    "* Finding- Hierarchical with 7 clusters seems the best option.\n"
   ]
  },
  {
   "cell_type": "code",
   "execution_count": 259,
   "metadata": {},
   "outputs": [
    {
     "name": "stdout",
     "output_type": "stream",
     "text": [
      "/Volumes/GoogleDrive/My Drive/Spring 2019/S435/GitHub/final-project-EileenMcGivney\n"
     ]
    }
   ],
   "source": [
    "## Setup\n",
    "import os\n",
    "import re\n",
    "import glob\n",
    "import math\n",
    "import collections\n",
    "import numpy as np\n",
    "import pandas as pd\n",
    "import matplotlib.pyplot as plt\n",
    "%matplotlib inline\n",
    "\n",
    "import nltk\n",
    "#nltk.download('punkt')\n",
    "from collections import Counter\n",
    "\n",
    "from collections import defaultdict\n",
    "from sklearn.manifold import TSNE\n",
    "from sklearn.cluster import KMeans\n",
    "from scipy.cluster.hierarchy import linkage, dendrogram\n",
    "from sklearn.cluster import AgglomerativeClustering\n",
    "from sklearn.neighbors.nearest_centroid import NearestCentroid\n",
    "from sklearn.cluster import DBSCAN\n",
    "from sklearn.preprocessing import MinMaxScaler\n",
    "from sklearn.decomposition import NMF\n",
    "\n",
    "%cd '/Volumes/GoogleDrive/My Drive/Spring 2019/S435/GitHub/final-project-EileenMcGivney'"
   ]
  },
  {
   "cell_type": "code",
   "execution_count": 260,
   "metadata": {},
   "outputs": [],
   "source": [
    "## Load dataframes\n",
    "\n",
    "# Regular vectors:\n",
    "dff = pd.read_csv('./dataframes/segments_fifty.csv', index_col=0)\n",
    "\n",
    "# Deviation vectors:\n",
    "dff_dev = pd.read_csv('./dataframes/segments_fifty_deviance.csv', index_col=0)"
   ]
  },
  {
   "cell_type": "code",
   "execution_count": 261,
   "metadata": {
    "scrolled": true
   },
   "outputs": [
    {
     "name": "stdout",
     "output_type": "stream",
     "text": [
      "992\n"
     ]
    }
   ],
   "source": [
    "## Load the vocabulary\n",
    "%store -r vocabulary\n",
    "print(len(vocabulary))"
   ]
  },
  {
   "cell_type": "markdown",
   "metadata": {},
   "source": [
    "## Clustering Deviance Vectors"
   ]
  },
  {
   "cell_type": "markdown",
   "metadata": {},
   "source": [
    "## **KMeans: inertia and KMeans clustering**"
   ]
  },
  {
   "cell_type": "code",
   "execution_count": 262,
   "metadata": {
    "scrolled": true
   },
   "outputs": [
    {
     "data": {
      "image/png": "[encoded data removed]",
      "text/plain": [
       "<Figure size 432x288 with 1 Axes>"
      ]
     },
     "metadata": {
      "needs_background": "light"
     },
     "output_type": "display_data"
    }
   ],
   "source": [
    "# Inertia values and plot\n",
    "ks = list(range(1, 10))\n",
    "inertias = []\n",
    "\n",
    "for k in ks:\n",
    "    \n",
    "    # Create a KMeans instance with k clusters: model\n",
    "    kmeans = KMeans(n_clusters=k, max_iter=1000)\n",
    "    \n",
    "    # Fit model to samples\n",
    "    kmeans.fit(dff_dev.values)\n",
    "    \n",
    "    # Append the inertia to the list of inertias\n",
    "    inertias.append(kmeans.inertia_)\n",
    "    \n",
    "# Plot ks vs inertias\n",
    "plt.plot(ks, inertias, '-o')\n",
    "plt.xlabel('number of clusters, k')\n",
    "plt.ylabel('inertia')\n",
    "plt.xticks(ks)\n",
    "plt.show()"
   ]
  },
  {
   "cell_type": "markdown",
   "metadata": {},
   "source": [
    "### *This isn't helpful to identify the number of clusters: attempt 7, 5 and 3 to see if they make sense*"
   ]
  },
  {
   "cell_type": "code",
   "execution_count": 11,
   "metadata": {
    "scrolled": true
   },
   "outputs": [
    {
     "ename": "NameError",
     "evalue": "name 'KMeans' is not defined",
     "output_type": "error",
     "traceback": [
      "\u001b[0;31m---------------------------------------------------------------------------\u001b[0m",
      "\u001b[0;31mNameError\u001b[0m                                 Traceback (most recent call last)",
      "\u001b[0;32m<ipython-input-11-992c45c0eadf>\u001b[0m in \u001b[0;36m<module>\u001b[0;34m\u001b[0m\n\u001b[1;32m      1\u001b[0m \u001b[0;31m## k=7 Kmeans clustering:  print the first 10 words that are the most associated with each cluster centroids\u001b[0m\u001b[0;34m\u001b[0m\u001b[0;34m\u001b[0m\u001b[0;34m\u001b[0m\u001b[0m\n\u001b[1;32m      2\u001b[0m \u001b[0;34m\u001b[0m\u001b[0m\n\u001b[0;32m----> 3\u001b[0;31m \u001b[0mkmeans_obj\u001b[0m \u001b[0;34m=\u001b[0m \u001b[0mKMeans\u001b[0m\u001b[0;34m(\u001b[0m\u001b[0mn_clusters\u001b[0m\u001b[0;34m=\u001b[0m\u001b[0;36m7\u001b[0m\u001b[0;34m,\u001b[0m \u001b[0mmax_iter\u001b[0m\u001b[0;34m=\u001b[0m\u001b[0;36m1000\u001b[0m\u001b[0;34m)\u001b[0m\u001b[0;34m.\u001b[0m\u001b[0mfit\u001b[0m\u001b[0;34m(\u001b[0m\u001b[0mdff_dev\u001b[0m\u001b[0;34m.\u001b[0m\u001b[0mvalues\u001b[0m\u001b[0;34m)\u001b[0m\u001b[0;34m\u001b[0m\u001b[0;34m\u001b[0m\u001b[0m\n\u001b[0m\u001b[1;32m      4\u001b[0m \u001b[0;34m\u001b[0m\u001b[0m\n\u001b[1;32m      5\u001b[0m \u001b[0mn_words\u001b[0m \u001b[0;34m=\u001b[0m \u001b[0;36m10\u001b[0m\u001b[0;34m\u001b[0m\u001b[0;34m\u001b[0m\u001b[0m\n",
      "\u001b[0;31mNameError\u001b[0m: name 'KMeans' is not defined"
     ]
    }
   ],
   "source": [
    "## k=7 Kmeans clustering:  print the first 10 words that are the most associated with each cluster centroids\n",
    "\n",
    "kmeans_obj = KMeans(n_clusters=7, max_iter=1000).fit(dff_dev.values)\n",
    "\n",
    "n_words = 10\n",
    "top_words = collections.defaultdict(lambda: [])\n",
    "\n",
    "# iterate through each cluster\n",
    "for n in range(kmeans_obj.n_clusters):\n",
    "\n",
    "    print('CLUSTER ' + str(n+1) + ': ', end='')\n",
    "\n",
    "    # get the cluster centers\n",
    "    arr = kmeans_obj.cluster_centers_[n]\n",
    "\n",
    "    # sorts the array and keep the last n words\n",
    "    indices = arr.argsort()[-n_words:]\n",
    "\n",
    "    # add the words to the list of words\n",
    "    for i in indices:\n",
    "        print(vocabulary[i], end=', ')\n",
    "        top_words[n].append(vocabulary[i])\n",
    "        \n",
    "    print('')"
   ]
  },
  {
   "cell_type": "code",
   "execution_count": 264,
   "metadata": {},
   "outputs": [
    {
     "name": "stdout",
     "output_type": "stream",
     "text": [
      "CLUSTER 1: affect, try, parts, everything, first, able, living, they, things, think, \n",
      "CLUSTER 2: thought, even, fun, definitely, always, went, go, time, liked, things, \n",
      "CLUSTER 3: hypotheses, would, actually, figure, know, test, world, take, real, different, \n",
      "CLUSTER 4: find, experiments, look, oxygen, around, put, dissolved, died, see, fish, \n",
      "CLUSTER 5: much, good, my, job, probably, could, want, know, they, science, \n"
     ]
    }
   ],
   "source": [
    "## k=5 Kmeans clustering:  print the first 10 words that are the most associated with each cluster centroids\n",
    "\n",
    "kmeans_obj = KMeans(n_clusters=5, max_iter=1000).fit(dff_dev.values)\n",
    "\n",
    "n_words = 10\n",
    "top_words = collections.defaultdict(lambda: [])\n",
    "\n",
    "# iterate through each cluster\n",
    "for n in range(kmeans_obj.n_clusters):\n",
    "\n",
    "    print('CLUSTER ' + str(n+1) + ': ', end='')\n",
    "\n",
    "    # get the cluster centers\n",
    "    arr = kmeans_obj.cluster_centers_[n]\n",
    "\n",
    "    # sorts the array and keep the last n words\n",
    "    indices = arr.argsort()[-n_words:]\n",
    "\n",
    "    # add the words to the list of words\n",
    "    for i in indices:\n",
    "        print(vocabulary[i], end=', ')\n",
    "        top_words[n].append(vocabulary[i])\n",
    "        \n",
    "    print('')"
   ]
  },
  {
   "cell_type": "code",
   "execution_count": 265,
   "metadata": {},
   "outputs": [
    {
     "name": "stdout",
     "output_type": "stream",
     "text": [
      "CLUSTER 1: probably, could, good, much, something, always, my, didn, science, know, \n",
      "CLUSTER 2: first, affect, living, everything, parts, many, able, different, think, things, \n",
      "CLUSTER 3: lab, ecoxpt, go, water, died, around, make, experiments, see, fish, \n"
     ]
    }
   ],
   "source": [
    "## k=3 Kmeans clustering:  print the first 10 words that are the most associated with each cluster centroids\n",
    "\n",
    "kmeans_obj = KMeans(n_clusters=3, max_iter=1000).fit(dff_dev.values)\n",
    "\n",
    "n_words = 10\n",
    "top_words = collections.defaultdict(lambda: [])\n",
    "\n",
    "# iterate through each cluster\n",
    "for n in range(kmeans_obj.n_clusters):\n",
    "\n",
    "    print('CLUSTER ' + str(n+1) + ': ', end='')\n",
    "\n",
    "    # get the cluster centers\n",
    "    arr = kmeans_obj.cluster_centers_[n]\n",
    "\n",
    "    # sorts the array and keep the last n words\n",
    "    indices = arr.argsort()[-n_words:]\n",
    "\n",
    "    # add the words to the list of words\n",
    "    for i in indices:\n",
    "        print(vocabulary[i], end=', ')\n",
    "        top_words[n].append(vocabulary[i])\n",
    "        \n",
    "    print('')"
   ]
  },
  {
   "cell_type": "markdown",
   "metadata": {},
   "source": [
    "### *These clusters look good some of the time, especially the 5-cluster solution. But it changes every time you run it so is not sufficiently reliable*"
   ]
  },
  {
   "cell_type": "markdown",
   "metadata": {},
   "source": [
    "## **Hierarchical clustering**"
   ]
  },
  {
   "cell_type": "code",
   "execution_count": 266,
   "metadata": {},
   "outputs": [
    {
     "data": {
      "image/png": "[encoded data removed]",
      "text/plain": [
       "<Figure size 432x288 with 1 Axes>"
      ]
     },
     "metadata": {
      "needs_background": "light"
     },
     "output_type": "display_data"
    }
   ],
   "source": [
    "## Plot a dendrogram\n",
    "\n",
    "# Calculate the linkage: mergings\n",
    "mergings = linkage(dff_dev.values, method='complete', )\n",
    "\n",
    "# Plot the dendrogram\n",
    "dendrogram(mergings,\n",
    "           labels=dff_dev.columns,\n",
    "           leaf_rotation=90,\n",
    "           leaf_font_size=6,\n",
    ")\n",
    "plt.show()"
   ]
  },
  {
   "cell_type": "markdown",
   "metadata": {},
   "source": [
    "### *This isn't super clear but generally looks like the cluster up to having a cluster for each transcript, but maybe 5-7 clusters would work*"
   ]
  },
  {
   "cell_type": "code",
   "execution_count": 12,
   "metadata": {},
   "outputs": [
    {
     "ename": "NameError",
     "evalue": "name 'AgglomerativeClustering' is not defined",
     "output_type": "error",
     "traceback": [
      "\u001b[0;31m---------------------------------------------------------------------------\u001b[0m",
      "\u001b[0;31mNameError\u001b[0m                                 Traceback (most recent call last)",
      "\u001b[0;32m<ipython-input-12-ee804a065fe3>\u001b[0m in \u001b[0;36m<module>\u001b[0;34m\u001b[0m\n\u001b[1;32m      1\u001b[0m \u001b[0;31m## Using agglomerative clustering: 7 clusters\u001b[0m\u001b[0;34m\u001b[0m\u001b[0;34m\u001b[0m\u001b[0;34m\u001b[0m\u001b[0m\n\u001b[0;32m----> 2\u001b[0;31m \u001b[0mward\u001b[0m \u001b[0;34m=\u001b[0m \u001b[0mAgglomerativeClustering\u001b[0m\u001b[0;34m(\u001b[0m\u001b[0mn_clusters\u001b[0m\u001b[0;34m=\u001b[0m\u001b[0;36m7\u001b[0m\u001b[0;34m,\u001b[0m \u001b[0mlinkage\u001b[0m\u001b[0;34m=\u001b[0m\u001b[0;34m'ward'\u001b[0m\u001b[0;34m)\u001b[0m\u001b[0;34m.\u001b[0m\u001b[0mfit\u001b[0m\u001b[0;34m(\u001b[0m\u001b[0mdff_dev\u001b[0m\u001b[0;34m.\u001b[0m\u001b[0mvalues\u001b[0m\u001b[0;34m)\u001b[0m\u001b[0;34m\u001b[0m\u001b[0;34m\u001b[0m\u001b[0m\n\u001b[0m\u001b[1;32m      3\u001b[0m \u001b[0mlabel\u001b[0m \u001b[0;34m=\u001b[0m \u001b[0mward\u001b[0m\u001b[0;34m.\u001b[0m\u001b[0mlabels_\u001b[0m\u001b[0;34m\u001b[0m\u001b[0;34m\u001b[0m\u001b[0m\n\u001b[1;32m      4\u001b[0m \u001b[0;34m\u001b[0m\u001b[0m\n\u001b[1;32m      5\u001b[0m \u001b[0mprint\u001b[0m\u001b[0;34m(\u001b[0m\u001b[0;34m\"Number of points: %i\"\u001b[0m \u001b[0;34m%\u001b[0m \u001b[0mlabel\u001b[0m\u001b[0;34m.\u001b[0m\u001b[0msize\u001b[0m\u001b[0;34m)\u001b[0m\u001b[0;34m\u001b[0m\u001b[0;34m\u001b[0m\u001b[0m\n",
      "\u001b[0;31mNameError\u001b[0m: name 'AgglomerativeClustering' is not defined"
     ]
    }
   ],
   "source": [
    "## Using agglomerative clustering: 7 clusters\n",
    "ward = AgglomerativeClustering(n_clusters=7, linkage='ward').fit(dff_dev.values)\n",
    "label = ward.labels_\n",
    "\n",
    "print(\"Number of points: %i\" % label.size)\n",
    "\n",
    "clf = NearestCentroid()\n",
    "clf.fit(dff_dev.values, label)\n",
    "\n",
    "print(clf.centroids_.shape)"
   ]
  },
  {
   "cell_type": "code",
   "execution_count": 303,
   "metadata": {},
   "outputs": [
    {
     "name": "stdout",
     "output_type": "stream",
     "text": [
      "CLUSTER 1: kids, hands, science, much, could, figure, problem, think, since, different, \n",
      "CLUSTER 2: science, know, would, see, find, could, different, things, they, think, \n",
      "CLUSTER 3: bees, could, went, interested, thought, able, time, go, things, different, \n",
      "CLUSTER 4: nonliving, bit, learning, able, use, me, interesting, different, things, think, \n",
      "CLUSTER 5: figure, science, different, think, they, something, things, my, didn, know, \n",
      "CLUSTER 6: cause, beyond, investigate, around, find, look, died, things, guess, fish, \n",
      "CLUSTER 7: example, me, science, confusing, category, something, different, would, teacher, topic, \n"
     ]
    }
   ],
   "source": [
    "#print the top 10 words for each cluster centroid\n",
    "def visualize_clusters(df, n_clusters, centroids, n_words=10, printed=True):   \n",
    "    # try to get the most informative words of each cluster\n",
    "    words = {}\n",
    "    vocabulary = df.columns\n",
    "    for n in range(n_clusters):\n",
    "        words[n] = []\n",
    "        if printed: print('CLUSTER ' + str(n+1) + ': ', end='')\n",
    "        arr = centroids[n]\n",
    "        indices = arr.argsort()[-n_words:]\n",
    "        for i in indices:\n",
    "            if printed: print(vocabulary[i], end=', '),\n",
    "            words[n].append(vocabulary[i])\n",
    "        print('')\n",
    "    return words\n",
    "\n",
    "top_words = visualize_clusters(dff_dev, clf.centroids_.shape[0], clf.centroids_)"
   ]
  },
  {
   "cell_type": "markdown",
   "metadata": {},
   "source": [
    "### *These clusters kind of make sense- not completely but kind of?*"
   ]
  },
  {
   "cell_type": "markdown",
   "metadata": {},
   "source": [
    "**TSNE**"
   ]
  },
  {
   "cell_type": "code",
   "execution_count": 269,
   "metadata": {},
   "outputs": [
    {
     "data": {
      "image/png": "[encoded data removed]",
      "text/plain": [
       "<Figure size 432x288 with 1 Axes>"
      ]
     },
     "metadata": {
      "needs_background": "light"
     },
     "output_type": "display_data"
    }
   ],
   "source": [
    "\n",
    "# Create a TSNE instance: model\n",
    "model = TSNE(learning_rate=200)\n",
    "\n",
    "# Apply fit_transform to samples: tsne_features\n",
    "tsne_features = model.fit_transform(dff_dev.values)\n",
    "\n",
    "# Select the 0th feature: xs\n",
    "xs = tsne_features[:,0]\n",
    "\n",
    "# Select the 1st feature: ys\n",
    "ys = tsne_features[:,1]\n",
    "\n",
    "# Scatter plot\n",
    "plt.scatter(xs,ys)\n",
    "plt.show()"
   ]
  },
  {
   "cell_type": "markdown",
   "metadata": {},
   "source": [
    "### *This is not promising: there are no real clusters*"
   ]
  },
  {
   "cell_type": "markdown",
   "metadata": {},
   "source": [
    "**DBSCAN: I couldn't get the optimal epsilon and samples in this iteration, in others it clustered into just 2**"
   ]
  },
  {
   "cell_type": "code",
   "execution_count": 10,
   "metadata": {},
   "outputs": [],
   "source": [
    "# #apply DBScan \n",
    "# dbscan = DBSCAN(eps=4, min_samples=10).fit(dff_dev.values)\n",
    "\n",
    "# labels = dbscan.labels_\n",
    "\n",
    "# print(\"Number of points: %i\" % labels.size)\n",
    "\n",
    "# #find the cluster centroid (using the code from above)\n",
    "# clf = NearestCentroid()\n",
    "# clf.fit(dff_dev.values, labels)\n",
    "\n",
    "# print(clf.centroids_.shape)"
   ]
  },
  {
   "cell_type": "code",
   "execution_count": 271,
   "metadata": {
    "scrolled": true
   },
   "outputs": [],
   "source": [
    "# top_words = visualize_clusters(dff_dev, clf.centroids_.shape[0], clf.centroids_)"
   ]
  },
  {
   "cell_type": "markdown",
   "metadata": {},
   "source": [
    "**NMF**"
   ]
  },
  {
   "cell_type": "code",
   "execution_count": 272,
   "metadata": {},
   "outputs": [
    {
     "name": "stdout",
     "output_type": "stream",
     "text": [
      "[[0.11452188 0.42157938 0.0621011  0.18196752]\n",
      " [0.13533324 0.3803992  0.02181112 0.19912271]\n",
      " [0.19471038 0.32220591 0.04676859 0.1719988 ]\n",
      " [0.24911441 0.29682701 0.06932017 0.10704898]]\n"
     ]
    }
   ],
   "source": [
    "# Transform data so not negative:\n",
    "scaler = MinMaxScaler()\n",
    "dff_dev[dff_dev.columns] = scaler.fit_transform(dff_dev[dff_dev.columns])\n",
    "\n",
    "# Create an NMF instance: model\n",
    "model = NMF(n_components=4)\n",
    "\n",
    "# Fit the model to articles\n",
    "model.fit(dff_dev.values)\n",
    "\n",
    "# Transform the articles: nmf_features\n",
    "nmf_features = model.transform(dff_dev.values)\n",
    "\n",
    "# Print the NMF features\n",
    "print(nmf_features[:4])"
   ]
  },
  {
   "cell_type": "code",
   "execution_count": 273,
   "metadata": {
    "scrolled": false
   },
   "outputs": [
    {
     "name": "stdout",
     "output_type": "stream",
     "text": [
      "think        1.188287\n",
      "things       1.033536\n",
      "different    0.975333\n",
      "they         0.690760\n",
      "able         0.542403\n",
      "me           0.504855\n",
      "might        0.500804\n",
      "parts        0.485237\n",
      "bit          0.480349\n",
      "helped       0.476845\n",
      "Name: 0, dtype: float64 \n",
      "\n",
      "fish      0.651443\n",
      "find      0.560625\n",
      "would     0.550007\n",
      "around    0.529980\n",
      "see       0.520814\n",
      "water     0.493040\n",
      "lab       0.472305\n",
      "put       0.453505\n",
      "didn      0.451513\n",
      "go        0.435628\n",
      "Name: 1, dtype: float64 \n",
      "\n",
      "know         0.614943\n",
      "figure       0.534498\n",
      "they         0.510189\n",
      "science      0.499206\n",
      "something    0.494293\n",
      "much         0.484706\n",
      "good         0.469177\n",
      "my           0.454236\n",
      "math         0.423927\n",
      "answers      0.405890\n",
      "Name: 2, dtype: float64 \n",
      "\n",
      "could         0.501246\n",
      "interested    0.482180\n",
      "animals       0.479343\n",
      "thought       0.476285\n",
      "definitely    0.460349\n",
      "time          0.455764\n",
      "go            0.449922\n",
      "deep          0.445727\n",
      "always        0.416721\n",
      "things        0.416626\n",
      "Name: 3, dtype: float64 \n",
      "\n"
     ]
    }
   ],
   "source": [
    "import pandas as pd\n",
    "\n",
    "# Create a DataFrame: components_df\n",
    "components_dff_dev = pd.DataFrame(model.components_, columns=dff_dev.columns)\n",
    "\n",
    "for i in range(4):\n",
    "\n",
    "    # Select row : component\n",
    "    component = components_dff_dev.iloc[i,:]\n",
    "\n",
    "    # Print result of nlargest\n",
    "    print(component.nlargest(n=10), '\\n')"
   ]
  },
  {
   "cell_type": "markdown",
   "metadata": {},
   "source": [
    "### *These are kind of interesting because they use the terms related to \"me\" and \"them\" a bit more*"
   ]
  },
  {
   "cell_type": "markdown",
   "metadata": {},
   "source": [
    "## Clustering Regular Vectors"
   ]
  },
  {
   "cell_type": "markdown",
   "metadata": {},
   "source": [
    "### *These are pretty similar but less interpretable so I'm not commenting on the results below. I decided to stick with the deviation vectors*"
   ]
  },
  {
   "cell_type": "markdown",
   "metadata": {},
   "source": [
    "**KMeans: inertia and KMeans clustering**"
   ]
  },
  {
   "cell_type": "code",
   "execution_count": 274,
   "metadata": {},
   "outputs": [
    {
     "data": {
      "image/png": "[encoded data removed]",
      "text/plain": [
       "<Figure size 432x288 with 1 Axes>"
      ]
     },
     "metadata": {
      "needs_background": "light"
     },
     "output_type": "display_data"
    }
   ],
   "source": [
    "# Inertia values and plot\n",
    "ks = list(range(1, 10))\n",
    "inertias = []\n",
    "\n",
    "for k in ks:\n",
    "    \n",
    "    # Create a KMeans instance with k clusters: model\n",
    "    kmeans = KMeans(n_clusters=k, max_iter=1000)\n",
    "    \n",
    "    # Fit model to samples\n",
    "    kmeans.fit(dff.values)\n",
    "    \n",
    "    # Append the inertia to the list of inertias\n",
    "    inertias.append(kmeans.inertia_)\n",
    "    \n",
    "# Plot ks vs inertias\n",
    "plt.plot(ks, inertias, '-o')\n",
    "plt.xlabel('number of clusters, k')\n",
    "plt.ylabel('inertia')\n",
    "plt.xticks(ks)\n",
    "plt.show()"
   ]
  },
  {
   "cell_type": "code",
   "execution_count": 298,
   "metadata": {
    "scrolled": true
   },
   "outputs": [
    {
     "name": "stdout",
     "output_type": "stream",
     "text": [
      "CLUSTER 1: know, learning, life, things, wasn, real, would, think, different, ecoxpt, \n",
      "CLUSTER 2: try, science, something, didn, know, could, different, things, think, they, \n",
      "CLUSTER 3: would, think, much, could, my, favorite, rock, me, science, animals, \n",
      "CLUSTER 4: levels, lower, using, select, open, guesses, problem, much, figure, options, \n",
      "CLUSTER 5: show, kinda, dissolved, big, oxygen, different, lead, problem, ways, bigger, \n",
      "CLUSTER 6: iq, willing, pursue, pesticides, safe, week, reaction, delayed, weeks, nothing, \n",
      "CLUSTER 7: think, thing, they, didn, find, my, things, dissolved, oxygen, fish, \n"
     ]
    }
   ],
   "source": [
    "## k=10 Kmeans clustering:  print the first 10 words that are the most associated with each cluster centroids\n",
    "\n",
    "kmeans_obj = KMeans(n_clusters=7, max_iter=1000).fit(dff.values)\n",
    "\n",
    "n_words = 10\n",
    "top_words = collections.defaultdict(lambda: [])\n",
    "\n",
    "# iterate through each cluster\n",
    "for n in range(kmeans_obj.n_clusters):\n",
    "\n",
    "    print('CLUSTER ' + str(n+1) + ': ', end='')\n",
    "\n",
    "    # get the cluster centers\n",
    "    arr = kmeans_obj.cluster_centers_[n]\n",
    "\n",
    "    # sorts the array and keep the last n words\n",
    "    indices = arr.argsort()[-n_words:]\n",
    "\n",
    "    # add the words to the list of words\n",
    "    for i in indices:\n",
    "        print(vocabulary[i], end=', ')\n",
    "        top_words[n].append(vocabulary[i])\n",
    "        \n",
    "    print('')"
   ]
  },
  {
   "cell_type": "code",
   "execution_count": 276,
   "metadata": {},
   "outputs": [
    {
     "name": "stdout",
     "output_type": "stream",
     "text": [
      "CLUSTER 1: think, my, time, see, fun, thought, would, things, could, go, \n",
      "CLUSTER 2: me, see, experiments, would, look, science, different, things, they, think, \n",
      "CLUSTER 3: since, much, hard, different, someone, know, get, something, my, go, \n",
      "CLUSTER 4: died, look, would, think, they, find, dissolved, oxygen, things, fish, \n",
      "CLUSTER 5: try, things, want, didn, my, could, think, know, science, they, \n"
     ]
    }
   ],
   "source": [
    "## k=5 Kmeans clustering:  print the first 10 words that are the most associated with each cluster centroids\n",
    "\n",
    "kmeans_obj = KMeans(n_clusters=5, max_iter=1000).fit(dff.values)\n",
    "\n",
    "n_words = 10\n",
    "top_words = collections.defaultdict(lambda: [])\n",
    "\n",
    "# iterate through each cluster\n",
    "for n in range(kmeans_obj.n_clusters):\n",
    "\n",
    "    print('CLUSTER ' + str(n+1) + ': ', end='')\n",
    "\n",
    "    # get the cluster centers\n",
    "    arr = kmeans_obj.cluster_centers_[n]\n",
    "\n",
    "    # sorts the array and keep the last n words\n",
    "    indices = arr.argsort()[-n_words:]\n",
    "\n",
    "    # add the words to the list of words\n",
    "    for i in indices:\n",
    "        print(vocabulary[i], end=', ')\n",
    "        top_words[n].append(vocabulary[i])\n",
    "        \n",
    "    print('')"
   ]
  },
  {
   "cell_type": "code",
   "execution_count": 277,
   "metadata": {},
   "outputs": [
    {
     "name": "stdout",
     "output_type": "stream",
     "text": [
      "CLUSTER 1: thought, didn, find, see, think, could, would, go, fish, things, \n",
      "CLUSTER 2: scientists, could, experiments, able, look, see, they, things, think, different, \n",
      "CLUSTER 3: could, would, didn, something, things, my, think, science, know, they, \n"
     ]
    }
   ],
   "source": [
    "## k=3 Kmeans clustering:  print the first 10 words that are the most associated with each cluster centroids\n",
    "\n",
    "kmeans_obj = KMeans(n_clusters=3, max_iter=1000).fit(dff.values)\n",
    "\n",
    "n_words = 10\n",
    "top_words = collections.defaultdict(lambda: [])\n",
    "\n",
    "# iterate through each cluster\n",
    "for n in range(kmeans_obj.n_clusters):\n",
    "\n",
    "    print('CLUSTER ' + str(n+1) + ': ', end='')\n",
    "\n",
    "    # get the cluster centers\n",
    "    arr = kmeans_obj.cluster_centers_[n]\n",
    "\n",
    "    # sorts the array and keep the last n words\n",
    "    indices = arr.argsort()[-n_words:]\n",
    "\n",
    "    # add the words to the list of words\n",
    "    for i in indices:\n",
    "        print(vocabulary[i], end=', ')\n",
    "        top_words[n].append(vocabulary[i])\n",
    "        \n",
    "    print('')"
   ]
  },
  {
   "cell_type": "markdown",
   "metadata": {},
   "source": [
    "**Hierarchical clustering**"
   ]
  },
  {
   "cell_type": "code",
   "execution_count": 278,
   "metadata": {},
   "outputs": [
    {
     "data": {
      "image/png": "[encoded data removed]",
      "text/plain": [
       "<Figure size 432x288 with 1 Axes>"
      ]
     },
     "metadata": {
      "needs_background": "light"
     },
     "output_type": "display_data"
    }
   ],
   "source": [
    "## Plot a dendrogram\n",
    "\n",
    "# Calculate the linkage: mergings\n",
    "mergings = linkage(dff.values, method='complete', )\n",
    "\n",
    "# Plot the dendrogram\n",
    "dendrogram(mergings,\n",
    "           labels=dff.columns,\n",
    "           leaf_rotation=90,\n",
    "           leaf_font_size=6,\n",
    ")\n",
    "plt.show()"
   ]
  },
  {
   "cell_type": "code",
   "execution_count": 299,
   "metadata": {},
   "outputs": [
    {
     "name": "stdout",
     "output_type": "stream",
     "text": [
      "Number of points: 194\n",
      "(7, 992)\n"
     ]
    }
   ],
   "source": [
    "## Using agglomerative clustering\n",
    "ward = AgglomerativeClustering(n_clusters=7, linkage='ward').fit(dff.values)\n",
    "label = ward.labels_\n",
    "\n",
    "print(\"Number of points: %i\" % label.size)\n",
    "\n",
    "clf = NearestCentroid()\n",
    "clf.fit(dff.values, label)\n",
    "\n",
    "print(clf.centroids_.shape)"
   ]
  },
  {
   "cell_type": "code",
   "execution_count": 300,
   "metadata": {},
   "outputs": [
    {
     "name": "stdout",
     "output_type": "stream",
     "text": [
      "CLUSTER 1: ways, think, sewage, hands, much, kids, figure, problem, different, since, \n",
      "CLUSTER 2: know, fun, would, see, find, different, could, things, think, they, \n",
      "CLUSTER 3: bees, interested, able, definitely, things, helped, go, thought, time, different, \n",
      "CLUSTER 4: answers, hurting, figure, person, things, something, they, my, didn, know, \n",
      "CLUSTER 5: different, nonliving, bit, learning, able, use, me, interesting, things, think, \n",
      "CLUSTER 6: dying, around, cause, investigate, beyond, look, things, died, guess, fish, \n",
      "CLUSTER 7: me, rocks, example, next, something, would, confusing, category, teacher, topic, \n"
     ]
    }
   ],
   "source": [
    "#print the top 10 words for each cluster centroid\n",
    "def visualize_clusters(df, n_clusters, centroids, n_words=10, printed=True):   \n",
    "    # try to get the most informative words of each cluster\n",
    "    words = {}\n",
    "    vocabulary = df.columns\n",
    "    for n in range(n_clusters):\n",
    "        words[n] = []\n",
    "        if printed: print('CLUSTER ' + str(n+1) + ': ', end='')\n",
    "        arr = centroids[n]\n",
    "        indices = arr.argsort()[-n_words:]\n",
    "        for i in indices:\n",
    "            if printed: print(vocabulary[i], end=', '),\n",
    "            words[n].append(vocabulary[i])\n",
    "        print('')\n",
    "    return words\n",
    "\n",
    "top_words = visualize_clusters(dff, clf.centroids_.shape[0], clf.centroids_)"
   ]
  },
  {
   "cell_type": "markdown",
   "metadata": {},
   "source": [
    "**TSNE**"
   ]
  },
  {
   "cell_type": "code",
   "execution_count": 281,
   "metadata": {},
   "outputs": [
    {
     "data": {
      "image/png": "[encoded data removed]",
      "text/plain": [
       "<Figure size 432x288 with 1 Axes>"
      ]
     },
     "metadata": {
      "needs_background": "light"
     },
     "output_type": "display_data"
    }
   ],
   "source": [
    "\n",
    "# Create a TSNE instance: model\n",
    "model = TSNE(learning_rate=200)\n",
    "\n",
    "# Apply fit_transform to samples: tsne_features\n",
    "tsne_features = model.fit_transform(dff.values)\n",
    "\n",
    "# Select the 0th feature: xs\n",
    "xs = tsne_features[:,0]\n",
    "\n",
    "# Select the 1st feature: ys\n",
    "ys = tsne_features[:,1]\n",
    "\n",
    "# Scatter plot\n",
    "plt.scatter(xs,ys)\n",
    "plt.show()"
   ]
  },
  {
   "cell_type": "markdown",
   "metadata": {},
   "source": [
    "**DBSCAN**"
   ]
  },
  {
   "cell_type": "code",
   "execution_count": 282,
   "metadata": {},
   "outputs": [],
   "source": [
    "# #apply DBScan \n",
    "# dbscan = DBSCAN(eps=5, min_samples=5).fit(dff.values)\n",
    "\n",
    "# labels = dbscan.labels_\n",
    "\n",
    "# print(\"Number of points: %i\" % labels.size)\n",
    "\n",
    "# #find the cluster centroid (using the code from above)\n",
    "# clf = NearestCentroid()\n",
    "# clf.fit(dff.values, labels)\n",
    "\n",
    "# print(clf.centroids_.shape)"
   ]
  },
  {
   "cell_type": "code",
   "execution_count": 283,
   "metadata": {},
   "outputs": [],
   "source": [
    "# top_words = visualize_clusters(dff, clf.centroids_.shape[0], clf.centroids_)"
   ]
  },
  {
   "cell_type": "markdown",
   "metadata": {},
   "source": [
    "**NMF**"
   ]
  },
  {
   "cell_type": "code",
   "execution_count": 284,
   "metadata": {},
   "outputs": [
    {
     "name": "stdout",
     "output_type": "stream",
     "text": [
      "[[0.24318301 0.16074178 0.         0.16115383 0.        ]\n",
      " [0.27202318 0.1322698  0.         0.144998   0.00558705]\n",
      " [0.3096592  0.06009936 0.00219772 0.10194342 0.        ]\n",
      " [0.28479991 0.03660239 0.         0.04775835 0.00657149]\n",
      " [0.36893578 0.         0.         0.         0.        ]]\n"
     ]
    }
   ],
   "source": [
    "# Transform data so not negative:\n",
    "scaler = MinMaxScaler()\n",
    "dff[dff.columns] = scaler.fit_transform(dff[dff.columns])\n",
    "\n",
    "# Create an NMF instance: model\n",
    "model = NMF(n_components=5)\n",
    "\n",
    "# Fit the model to articles\n",
    "model.fit(dff.values)\n",
    "\n",
    "# Transform the articles: nmf_features\n",
    "nmf_features = model.transform(dff.values)\n",
    "\n",
    "# Print the NMF features\n",
    "print(nmf_features[:5])"
   ]
  },
  {
   "cell_type": "code",
   "execution_count": 285,
   "metadata": {},
   "outputs": [
    {
     "name": "stdout",
     "output_type": "stream",
     "text": [
      "think          1.477307\n",
      "things         1.241574\n",
      "they           1.230451\n",
      "different      0.955947\n",
      "find           0.686086\n",
      "look           0.624150\n",
      "experiments    0.595233\n",
      "know           0.582607\n",
      "try            0.558706\n",
      "could          0.517662\n",
      "Name: 0, dtype: float64 \n",
      "\n",
      "confusing    0.572490\n",
      "topic        0.561397\n",
      "put          0.558977\n",
      "map          0.534544\n",
      "concept      0.519119\n",
      "hard         0.477726\n",
      "see          0.453830\n",
      "would        0.445862\n",
      "write        0.439100\n",
      "sometimes    0.437417\n",
      "Name: 1, dtype: float64 \n",
      "\n",
      "figure       0.632825\n",
      "know         0.572548\n",
      "much         0.549474\n",
      "answers      0.488706\n",
      "kids         0.474442\n",
      "something    0.468022\n",
      "since        0.463197\n",
      "good         0.442814\n",
      "they         0.440303\n",
      "science      0.433940\n",
      "Name: 2, dtype: float64 \n",
      "\n",
      "able         0.528981\n",
      "time         0.528135\n",
      "go           0.513751\n",
      "things       0.465059\n",
      "take         0.439851\n",
      "systems      0.435791\n",
      "different    0.420779\n",
      "bees         0.394305\n",
      "thought      0.381943\n",
      "happened     0.363746\n",
      "Name: 3, dtype: float64 \n",
      "\n",
      "my           0.688751\n",
      "animals      0.623129\n",
      "dad          0.577195\n",
      "favorite     0.490180\n",
      "passion      0.473011\n",
      "biologist    0.464093\n",
      "always       0.463902\n",
      "parents      0.462019\n",
      "studying     0.451464\n",
      "huge         0.438072\n",
      "Name: 4, dtype: float64 \n",
      "\n"
     ]
    }
   ],
   "source": [
    "import pandas as pd\n",
    "\n",
    "# Create a DataFrame: components_df\n",
    "components_dff = pd.DataFrame(model.components_, columns=dff.columns)\n",
    "\n",
    "for i in range(5):\n",
    "\n",
    "    # Select row : component\n",
    "    component = components_dff.iloc[i,:]\n",
    "\n",
    "    # Print result of nlargest\n",
    "    print(component.nlargest(n=10), '\\n')"
   ]
  }
 ],
 "metadata": {
  "kernelspec": {
   "display_name": "Python 3",
   "language": "python",
   "name": "python3"
  },
  "language_info": {
   "codemirror_mode": {
    "name": "ipython",
    "version": 3
   },
   "file_extension": ".py",
   "mimetype": "text/x-python",
   "name": "python",
   "nbconvert_exporter": "python",
   "pygments_lexer": "ipython3",
   "version": "3.7.1"
  },
  "varInspector": {
   "cols": {
    "lenName": 16,
    "lenType": 16,
    "lenVar": 40
   },
   "kernels_config": {
    "python": {
     "delete_cmd_postfix": "",
     "delete_cmd_prefix": "del ",
     "library": "var_list.py",
     "varRefreshCmd": "print(var_dic_list())"
    },
    "r": {
     "delete_cmd_postfix": ") ",
     "delete_cmd_prefix": "rm(",
     "library": "var_list.r",
     "varRefreshCmd": "cat(var_dic_list()) "
    }
   },
   "types_to_exclude": [
    "module",
    "function",
    "builtin_function_or_method",
    "instance",
    "_Feature"
   ],
   "window_display": false
  }
 },
 "nbformat": 4,
 "nbformat_minor": 2
}
