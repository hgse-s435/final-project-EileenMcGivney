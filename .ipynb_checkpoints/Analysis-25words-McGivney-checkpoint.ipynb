{
 "cells": [
  {
   "cell_type": "markdown",
   "metadata": {},
   "source": [
    "## 25-word segments: Clustering Analysis\n",
    "### First deviance vectors, then regular vectors\n",
    "\n",
    "Eileen McGivney  \n",
    "Science identity study  \n",
    "Data: interviews with 15 7th graders  \n",
    "Preprocessing: /Volumes/GoogleDrive/My Drive/Spring 2019/S435/GitHub/final-project-EileenMcGivney/Preprocessing-McGivney.ipynb  \n",
    "\n",
    "Research Question: Can we identify student profiles related to their science identity and interest through natural language processing?\n",
    "\n",
    "Analysis: Cluster analysis\n",
    "* Replicate Sherin: hierarchical agglomerative clustering\n",
    "* Try other clustering methods: K-means, density based\n",
    "* Estimate with regular vectors and with deviation vectors\n"
   ]
  },
  {
   "cell_type": "code",
   "execution_count": 28,
   "metadata": {},
   "outputs": [
    {
     "name": "stdout",
     "output_type": "stream",
     "text": [
      "/Volumes/GoogleDrive/My Drive/Spring 2019/S435/GitHub/final-project-EileenMcGivney\n"
     ]
    }
   ],
   "source": [
    "## Setup\n",
    "import os\n",
    "import re\n",
    "import glob\n",
    "import math\n",
    "import collections\n",
    "import numpy as np\n",
    "import pandas as pd\n",
    "import matplotlib.pyplot as plt\n",
    "%matplotlib inline\n",
    "\n",
    "import nltk\n",
    "#nltk.download('punkt')\n",
    "from collections import Counter\n",
    "\n",
    "from collections import defaultdict\n",
    "from sklearn.manifold import TSNE\n",
    "from sklearn.cluster import KMeans\n",
    "from scipy.cluster.hierarchy import linkage, dendrogram\n",
    "from sklearn.cluster import AgglomerativeClustering\n",
    "from sklearn.neighbors.nearest_centroid import NearestCentroid\n",
    "from sklearn.cluster import DBSCAN\n",
    "from sklearn.preprocessing import MinMaxScaler\n",
    "from sklearn.decomposition import NMF\n",
    "\n",
    "%cd '/Volumes/GoogleDrive/My Drive/Spring 2019/S435/GitHub/final-project-EileenMcGivney'"
   ]
  },
  {
   "cell_type": "code",
   "execution_count": 29,
   "metadata": {},
   "outputs": [],
   "source": [
    "## Load dataframes\n",
    "\n",
    "# Regular vectors:\n",
    "dfh = pd.read_csv('./dataframes/segments_hundred.csv', index_col=0)\n",
    "dff = pd.read_csv('./dataframes/segments_fifty.csv', index_col=0)\n",
    "dft = pd.read_csv('./dataframes/segments_twentyfive.csv', index_col=0)\n",
    "\n",
    "# Deviation vectors:\n",
    "dfh_dev = pd.read_csv('./dataframes/segments_hundred_deviance.csv', index_col=0)\n",
    "dff_dev = pd.read_csv('./dataframes/segments_fifty_deviance.csv', index_col=0)\n",
    "dft_dev = pd.read_csv('./dataframes/segments_twentyfive_deviance.csv', index_col=0)\n"
   ]
  },
  {
   "cell_type": "code",
   "execution_count": 30,
   "metadata": {},
   "outputs": [
    {
     "name": "stdout",
     "output_type": "stream",
     "text": [
      "992\n"
     ]
    }
   ],
   "source": [
    "## Load the vocabulary\n",
    "%store -r vocabulary\n",
    "print(len(vocabulary))"
   ]
  },
  {
   "cell_type": "markdown",
   "metadata": {},
   "source": [
    "## Clustering Deviance Vectors"
   ]
  },
  {
   "cell_type": "markdown",
   "metadata": {},
   "source": [
    "**KMeans: inertia and KMeans clustering**"
   ]
  },
  {
   "cell_type": "code",
   "execution_count": 31,
   "metadata": {
    "scrolled": true
   },
   "outputs": [
    {
     "data": {
      "image/png": "[encoded data removed]",
      "text/plain": [
       "<Figure size 432x288 with 1 Axes>"
      ]
     },
     "metadata": {
      "needs_background": "light"
     },
     "output_type": "display_data"
    }
   ],
   "source": [
    "# Inertia values and plot\n",
    "ks = list(range(1, 10))\n",
    "inertias = []\n",
    "\n",
    "for k in ks:\n",
    "    \n",
    "    # Create a KMeans instance with k clusters: model\n",
    "    kmeans = KMeans(n_clusters=k, max_iter=1000)\n",
    "    \n",
    "    # Fit model to samples\n",
    "    kmeans.fit(dft_dev.values)\n",
    "    \n",
    "    # Append the inertia to the list of inertias\n",
    "    inertias.append(kmeans.inertia_)\n",
    "    \n",
    "# Plot ks vs inertias\n",
    "plt.plot(ks, inertias, '-o')\n",
    "plt.xlabel('number of clusters, k')\n",
    "plt.ylabel('inertia')\n",
    "plt.xticks(ks)\n",
    "plt.show()"
   ]
  },
  {
   "cell_type": "code",
   "execution_count": 109,
   "metadata": {
    "scrolled": true
   },
   "outputs": [
    {
     "name": "stdout",
     "output_type": "stream",
     "text": [
      "CLUSTER 1: done, gets, harsher, punishments, laws, past, immigration, larger, accused, law, \n",
      "CLUSTER 2: things, my, learn, science, didn, tell, think, they, know, way, \n",
      "CLUSTER 3: arrangement, learning, everyone, talked, me, able, different, information, connect, sort, \n",
      "CLUSTER 4: thought, think, didn, interesting, inferences, high, solve, saw, must, make, \n",
      "CLUSTER 5: find, my, might, different, guess, things, thing, died, happen, fish, \n",
      "CLUSTER 6: find, go, would, know, see, didn, they, think, different, things, \n",
      "CLUSTER 7: ecology, scientists, sizes, average, others, run, biologists, archaeologists, geologists, different, \n",
      "CLUSTER 8: even, worked, understand, though, wasn, seeing, gotten, real, showed, looks, \n",
      "CLUSTER 9: talking, mom, science, working, low, talks, parent, passion, sports, influence, \n",
      "CLUSTER 10: butterfly, vast, hm, effect, select, lower, levels, changes, tanks, wouldn, \n"
     ]
    }
   ],
   "source": [
    "## k=10 Kmeans clustering:  print the first 10 words that are the most associated with each cluster centroids\n",
    "\n",
    "kmeans_obj = KMeans(n_clusters=10, max_iter=1000).fit(dft_dev.values)\n",
    "\n",
    "n_words = 10\n",
    "top_words = collections.defaultdict(lambda: [])\n",
    "\n",
    "# iterate through each cluster\n",
    "for n in range(kmeans_obj.n_clusters):\n",
    "\n",
    "    print('CLUSTER ' + str(n+1) + ': ', end='')\n",
    "\n",
    "    # get the cluster centers\n",
    "    arr = kmeans_obj.cluster_centers_[n]\n",
    "\n",
    "    # sorts the array and keep the last n words\n",
    "    indices = arr.argsort()[-n_words:]\n",
    "\n",
    "    # add the words to the list of words\n",
    "    for i in indices:\n",
    "        print(vocabulary[i], end=', ')\n",
    "        top_words[n].append(vocabulary[i])\n",
    "        \n",
    "    print('')"
   ]
  },
  {
   "cell_type": "code",
   "execution_count": 108,
   "metadata": {},
   "outputs": [
    {
     "name": "stdout",
     "output_type": "stream",
     "text": [
      "CLUSTER 1: write, watch, forget, comes, onto, rock, called, hill, knocks, breaks, \n",
      "CLUSTER 2: study, see, could, way, future, experience, think, learn, they, change, \n",
      "CLUSTER 3: think, find, forgot, science, could, didn, things, maybe, know, way, \n",
      "CLUSTER 4: my, see, science, would, know, didn, they, think, different, things, \n",
      "CLUSTER 5: think, use, explore, things, different, take, happens, find, they, class, \n"
     ]
    }
   ],
   "source": [
    "## k=5 Kmeans clustering:  print the first 10 words that are the most associated with each cluster centroids\n",
    "\n",
    "kmeans_obj = KMeans(n_clusters=5, max_iter=1000).fit(dft_dev.values)\n",
    "\n",
    "n_words = 10\n",
    "top_words = collections.defaultdict(lambda: [])\n",
    "\n",
    "# iterate through each cluster\n",
    "for n in range(kmeans_obj.n_clusters):\n",
    "\n",
    "    print('CLUSTER ' + str(n+1) + ': ', end='')\n",
    "\n",
    "    # get the cluster centers\n",
    "    arr = kmeans_obj.cluster_centers_[n]\n",
    "\n",
    "    # sorts the array and keep the last n words\n",
    "    indices = arr.argsort()[-n_words:]\n",
    "\n",
    "    # add the words to the list of words\n",
    "    for i in indices:\n",
    "        print(vocabulary[i], end=', ')\n",
    "        top_words[n].append(vocabulary[i])\n",
    "        \n",
    "    print('')"
   ]
  },
  {
   "cell_type": "code",
   "execution_count": 34,
   "metadata": {},
   "outputs": [
    {
     "name": "stdout",
     "output_type": "stream",
     "text": [
      "CLUSTER 1: interesting, get, affected, kinds, many, certain, living, think, different, things, \n",
      "CLUSTER 2: fun, oxygen, something, dissolved, didn, fish, would, my, science, know, \n",
      "CLUSTER 3: solve, observing, thinking, outside, problems, make, try, evidence, experiments, they, \n"
     ]
    }
   ],
   "source": [
    "## k=3 Kmeans clustering:  print the first 10 words that are the most associated with each cluster centroids\n",
    "\n",
    "kmeans_obj = KMeans(n_clusters=3, max_iter=1000).fit(dft_dev.values)\n",
    "\n",
    "n_words = 10\n",
    "top_words = collections.defaultdict(lambda: [])\n",
    "\n",
    "# iterate through each cluster\n",
    "for n in range(kmeans_obj.n_clusters):\n",
    "\n",
    "    print('CLUSTER ' + str(n+1) + ': ', end='')\n",
    "\n",
    "    # get the cluster centers\n",
    "    arr = kmeans_obj.cluster_centers_[n]\n",
    "\n",
    "    # sorts the array and keep the last n words\n",
    "    indices = arr.argsort()[-n_words:]\n",
    "\n",
    "    # add the words to the list of words\n",
    "    for i in indices:\n",
    "        print(vocabulary[i], end=', ')\n",
    "        top_words[n].append(vocabulary[i])\n",
    "        \n",
    "    print('')"
   ]
  },
  {
   "cell_type": "markdown",
   "metadata": {},
   "source": [
    "**Hierarchical clustering**"
   ]
  },
  {
   "cell_type": "code",
   "execution_count": 35,
   "metadata": {},
   "outputs": [
    {
     "data": {
      "image/png": "[encoded data removed]",
      "text/plain": [
       "<Figure size 432x288 with 1 Axes>"
      ]
     },
     "metadata": {
      "needs_background": "light"
     },
     "output_type": "display_data"
    }
   ],
   "source": [
    "## Plot a dendrogram\n",
    "\n",
    "# Calculate the linkage: mergings\n",
    "mergings = linkage(dft_dev.values, method='complete', )\n",
    "\n",
    "# Plot the dendrogram\n",
    "dendrogram(mergings,\n",
    "           labels=dft_dev.columns,\n",
    "           leaf_rotation=90,\n",
    "           leaf_font_size=6,\n",
    ")\n",
    "plt.show()"
   ]
  },
  {
   "cell_type": "code",
   "execution_count": 104,
   "metadata": {},
   "outputs": [
    {
     "name": "stdout",
     "output_type": "stream",
     "text": [
      "Number of points: 282\n",
      "(5, 992)\n"
     ]
    }
   ],
   "source": [
    "## Using agglomerative clustering: 5 clusters\n",
    "ward = AgglomerativeClustering(n_clusters=5, linkage='ward').fit(dft_dev.values)\n",
    "label = ward.labels_\n",
    "\n",
    "print(\"Number of points: %i\" % label.size)\n",
    "\n",
    "clf = NearestCentroid()\n",
    "clf.fit(dft_dev.values, label)\n",
    "\n",
    "print(clf.centroids_.shape)"
   ]
  },
  {
   "cell_type": "code",
   "execution_count": 105,
   "metadata": {},
   "outputs": [
    {
     "name": "stdout",
     "output_type": "stream",
     "text": [
      "CLUSTER 1: think, maybe, would, different, me, things, they, know, my, science, \n",
      "CLUSTER 2: go, thought, find, know, see, didn, different, things, they, think, \n",
      "CLUSTER 3: class, go, went, think, would, come, studying, thought, different, things, \n",
      "CLUSTER 4: idea, experiments, solution, guess, look, finding, find, died, things, fish, \n",
      "CLUSTER 5: bigger, leads, thing, think, kids, classes, different, good, problem, since, \n"
     ]
    }
   ],
   "source": [
    "#print the top 10 words for each cluster centroid\n",
    "def visualize_clusters(df, n_clusters, centroids, n_words=10, printed=True):   \n",
    "    # try to get the most informative words of each cluster\n",
    "    words = {}\n",
    "    vocabulary = df.columns\n",
    "    for n in range(n_clusters):\n",
    "        words[n] = []\n",
    "        if printed: print('CLUSTER ' + str(n+1) + ': ', end='')\n",
    "        arr = centroids[n]\n",
    "        indices = arr.argsort()[-n_words:]\n",
    "        for i in indices:\n",
    "            if printed: print(vocabulary[i], end=', '),\n",
    "            words[n].append(vocabulary[i])\n",
    "        print('')\n",
    "    return words\n",
    "\n",
    "top_words = visualize_clusters(dft_dev, clf.centroids_.shape[0], clf.centroids_)"
   ]
  },
  {
   "cell_type": "markdown",
   "metadata": {},
   "source": [
    "**TSNE**"
   ]
  },
  {
   "cell_type": "code",
   "execution_count": 84,
   "metadata": {},
   "outputs": [
    {
     "data": {
      "image/png": "[encoded data removed]",
      "text/plain": [
       "<Figure size 432x288 with 1 Axes>"
      ]
     },
     "metadata": {
      "needs_background": "light"
     },
     "output_type": "display_data"
    }
   ],
   "source": [
    "\n",
    "# Create a TSNE instance: model\n",
    "model = TSNE(learning_rate=200)\n",
    "\n",
    "# Apply fit_transform to samples: tsne_features\n",
    "tsne_features = model.fit_transform(dft_dev.values)\n",
    "\n",
    "# Select the 0th feature: xs\n",
    "xs = tsne_features[:,0]\n",
    "\n",
    "# Select the 1st feature: ys\n",
    "ys = tsne_features[:,1]\n",
    "\n",
    "# Scatter plot\n",
    "plt.scatter(xs,ys)\n",
    "plt.show()"
   ]
  },
  {
   "cell_type": "markdown",
   "metadata": {},
   "source": [
    "**DBSCAN**"
   ]
  },
  {
   "cell_type": "code",
   "execution_count": 82,
   "metadata": {},
   "outputs": [
    {
     "name": "stdout",
     "output_type": "stream",
     "text": [
      "Number of points: 282\n",
      "(2, 992)\n"
     ]
    }
   ],
   "source": [
    "#apply DBScan \n",
    "dbscan = DBSCAN(eps=3, min_samples=5).fit(dft_dev.values)\n",
    "\n",
    "labels = dbscan.labels_\n",
    "\n",
    "print(\"Number of points: %i\" % labels.size)\n",
    "\n",
    "#find the cluster centroid (using the code from above)\n",
    "clf = NearestCentroid()\n",
    "clf.fit(dft_dev.values, labels)\n",
    "\n",
    "print(clf.centroids_.shape)"
   ]
  },
  {
   "cell_type": "code",
   "execution_count": 83,
   "metadata": {},
   "outputs": [
    {
     "name": "stdout",
     "output_type": "stream",
     "text": [
      "CLUSTER 1: thought, would, find, science, didn, know, they, think, different, things, \n",
      "CLUSTER 2: try, different, find, people, know, see, think, things, didn, they, \n"
     ]
    }
   ],
   "source": [
    "top_words = visualize_clusters(dft_dev, clf.centroids_.shape[0], clf.centroids_)"
   ]
  },
  {
   "cell_type": "markdown",
   "metadata": {},
   "source": [
    "NMF"
   ]
  },
  {
   "cell_type": "code",
   "execution_count": 41,
   "metadata": {},
   "outputs": [
    {
     "name": "stdout",
     "output_type": "stream",
     "text": [
      "[[0.30108632 0.07856875 0.0470205  0.14438347]\n",
      " [0.11708917 0.16695709 0.         0.29673132]\n",
      " [0.04977804 0.27138488 0.         0.38620079]\n",
      " [0.08332011 0.22749512 0.01032806 0.33616868]]\n"
     ]
    }
   ],
   "source": [
    "# Transform data so not negative:\n",
    "scaler = MinMaxScaler()\n",
    "dft_dev[dft_dev.columns] = scaler.fit_transform(dft_dev[dft_dev.columns])\n",
    "\n",
    "# Create an NMF instance: model\n",
    "model = NMF(n_components=4)\n",
    "\n",
    "# Fit the model to articles\n",
    "model.fit(dft_dev.values)\n",
    "\n",
    "# Transform the articles: nmf_features\n",
    "nmf_features = model.transform(dft_dev.values)\n",
    "\n",
    "# Print the NMF features\n",
    "print(nmf_features[:4])"
   ]
  },
  {
   "cell_type": "code",
   "execution_count": 42,
   "metadata": {},
   "outputs": [
    {
     "name": "stdout",
     "output_type": "stream",
     "text": [
      "go         0.702362\n",
      "see        0.665971\n",
      "class      0.595774\n",
      "thought    0.595654\n",
      "would      0.584241\n",
      "didn       0.528707\n",
      "lab        0.499881\n",
      "water      0.483584\n",
      "take       0.470505\n",
      "real       0.466051\n",
      "Name: 0, dtype: float64 \n",
      "\n",
      "things         1.070863\n",
      "different      0.758472\n",
      "think          0.623834\n",
      "information    0.447379\n",
      "able           0.399774\n",
      "everything     0.339983\n",
      "me             0.332608\n",
      "thing          0.320970\n",
      "many           0.309852\n",
      "they           0.303419\n",
      "Name: 1, dtype: float64 \n",
      "\n",
      "my           0.730009\n",
      "science      0.629214\n",
      "always       0.490305\n",
      "me           0.479551\n",
      "good         0.419323\n",
      "know         0.406019\n",
      "dad          0.405344\n",
      "might        0.404201\n",
      "something    0.346582\n",
      "wouldn       0.330193\n",
      "Name: 2, dtype: float64 \n",
      "\n",
      "find           0.524219\n",
      "didn           0.496339\n",
      "fish           0.446619\n",
      "things         0.432873\n",
      "they           0.423945\n",
      "finding        0.396068\n",
      "look           0.377638\n",
      "experiments    0.373524\n",
      "died           0.371360\n",
      "guess          0.351291\n",
      "Name: 3, dtype: float64 \n",
      "\n"
     ]
    }
   ],
   "source": [
    "import pandas as pd\n",
    "\n",
    "# Create a DataFrame: components_df\n",
    "components_dft_dev = pd.DataFrame(model.components_, columns=dft_dev.columns)\n",
    "\n",
    "for i in range(4):\n",
    "\n",
    "    # Select row : component\n",
    "    component = components_dft_dev.iloc[i,:]\n",
    "\n",
    "    # Print result of nlargest\n",
    "    print(component.nlargest(n=10), '\\n')"
   ]
  },
  {
   "cell_type": "markdown",
   "metadata": {},
   "source": [
    "## Clustering Regular Vectors"
   ]
  },
  {
   "cell_type": "markdown",
   "metadata": {},
   "source": [
    "**KMeans: inertia and KMeans clustering**"
   ]
  },
  {
   "cell_type": "code",
   "execution_count": 43,
   "metadata": {},
   "outputs": [
    {
     "data": {
      "image/png": "[encoded data removed]",
      "text/plain": [
       "<Figure size 432x288 with 1 Axes>"
      ]
     },
     "metadata": {
      "needs_background": "light"
     },
     "output_type": "display_data"
    }
   ],
   "source": [
    "# Inertia values and plot\n",
    "ks = list(range(1, 10))\n",
    "inertias = []\n",
    "\n",
    "for k in ks:\n",
    "    \n",
    "    # Create a KMeans instance with k clusters: model\n",
    "    kmeans = KMeans(n_clusters=k, max_iter=1000)\n",
    "    \n",
    "    # Fit model to samples\n",
    "    kmeans.fit(dft.values)\n",
    "    \n",
    "    # Append the inertia to the list of inertias\n",
    "    inertias.append(kmeans.inertia_)\n",
    "    \n",
    "# Plot ks vs inertias\n",
    "plt.plot(ks, inertias, '-o')\n",
    "plt.xlabel('number of clusters, k')\n",
    "plt.ylabel('inertia')\n",
    "plt.xticks(ks)\n",
    "plt.show()"
   ]
  },
  {
   "cell_type": "code",
   "execution_count": 44,
   "metadata": {
    "scrolled": true
   },
   "outputs": [
    {
     "name": "stdout",
     "output_type": "stream",
     "text": [
      "CLUSTER 1: trying, would, problem, tanks, liked, figure, thought, go, could, different, \n",
      "CLUSTER 2: life, use, fish, computer, fun, think, real, something, actually, got, \n",
      "CLUSTER 3: different, affected, many, me, ecoxpt, affect, information, living, think, things, \n",
      "CLUSTER 4: thinking, happens, put, observing, find, experiments, different, try, evidence, they, \n",
      "CLUSTER 5: year, maybe, get, around, put, us, water, go, would, see, \n",
      "CLUSTER 6: bacteria, lead, known, big, fertilizer, right, died, fish, oxygen, dissolved, \n",
      "CLUSTER 7: inferences, scientists, dad, know, outside, scientist, problems, experiments, they, my, \n",
      "CLUSTER 8: take, part, supposed, fun, probably, didn, data, get, partner, population, \n",
      "CLUSTER 9: much, could, probably, subject, maybe, year, always, job, my, science, \n",
      "CLUSTER 10: happened, time, world, virtual, would, didn, try, think, know, people, \n"
     ]
    }
   ],
   "source": [
    "## k=10 Kmeans clustering:  print the first 10 words that are the most associated with each cluster centroids\n",
    "\n",
    "kmeans_obj = KMeans(n_clusters=10, max_iter=1000).fit(dft.values)\n",
    "\n",
    "n_words = 10\n",
    "top_words = collections.defaultdict(lambda: [])\n",
    "\n",
    "# iterate through each cluster\n",
    "for n in range(kmeans_obj.n_clusters):\n",
    "\n",
    "    print('CLUSTER ' + str(n+1) + ': ', end='')\n",
    "\n",
    "    # get the cluster centers\n",
    "    arr = kmeans_obj.cluster_centers_[n]\n",
    "\n",
    "    # sorts the array and keep the last n words\n",
    "    indices = arr.argsort()[-n_words:]\n",
    "\n",
    "    # add the words to the list of words\n",
    "    for i in indices:\n",
    "        print(vocabulary[i], end=', ')\n",
    "        top_words[n].append(vocabulary[i])\n",
    "        \n",
    "    print('')"
   ]
  },
  {
   "cell_type": "code",
   "execution_count": 45,
   "metadata": {},
   "outputs": [
    {
     "name": "stdout",
     "output_type": "stream",
     "text": [
      "CLUSTER 1: kinds, also, affect, information, certain, think, affected, living, different, things, \n",
      "CLUSTER 2: outside, change, thinking, tested, problems, make, experiments, try, evidence, they, \n",
      "CLUSTER 3: experiments, something, hurt, got, going, data, figure, population, didn, know, \n",
      "CLUSTER 4: see, could, look, time, dissolved, people, thought, fish, go, would, \n",
      "CLUSTER 5: tries, good, might, much, year, me, job, always, my, science, \n"
     ]
    }
   ],
   "source": [
    "## k=5 Kmeans clustering:  print the first 10 words that are the most associated with each cluster centroids\n",
    "\n",
    "kmeans_obj = KMeans(n_clusters=5, max_iter=1000).fit(dft.values)\n",
    "\n",
    "n_words = 10\n",
    "top_words = collections.defaultdict(lambda: [])\n",
    "\n",
    "# iterate through each cluster\n",
    "for n in range(kmeans_obj.n_clusters):\n",
    "\n",
    "    print('CLUSTER ' + str(n+1) + ': ', end='')\n",
    "\n",
    "    # get the cluster centers\n",
    "    arr = kmeans_obj.cluster_centers_[n]\n",
    "\n",
    "    # sorts the array and keep the last n words\n",
    "    indices = arr.argsort()[-n_words:]\n",
    "\n",
    "    # add the words to the list of words\n",
    "    for i in indices:\n",
    "        print(vocabulary[i], end=', ')\n",
    "        top_words[n].append(vocabulary[i])\n",
    "        \n",
    "    print('')"
   ]
  },
  {
   "cell_type": "code",
   "execution_count": 46,
   "metadata": {},
   "outputs": [
    {
     "name": "stdout",
     "output_type": "stream",
     "text": [
      "CLUSTER 1: maybe, dissolved, didn, something, go, fish, would, my, know, science, \n",
      "CLUSTER 2: boring, observing, thinking, found, problems, make, evidence, try, experiments, they, \n",
      "CLUSTER 3: parts, affected, affect, kinds, everything, certain, living, different, think, things, \n"
     ]
    }
   ],
   "source": [
    "## k=3 Kmeans clustering:  print the first 10 words that are the most associated with each cluster centroids\n",
    "\n",
    "kmeans_obj = KMeans(n_clusters=3, max_iter=1000).fit(dft.values)\n",
    "\n",
    "n_words = 10\n",
    "top_words = collections.defaultdict(lambda: [])\n",
    "\n",
    "# iterate through each cluster\n",
    "for n in range(kmeans_obj.n_clusters):\n",
    "\n",
    "    print('CLUSTER ' + str(n+1) + ': ', end='')\n",
    "\n",
    "    # get the cluster centers\n",
    "    arr = kmeans_obj.cluster_centers_[n]\n",
    "\n",
    "    # sorts the array and keep the last n words\n",
    "    indices = arr.argsort()[-n_words:]\n",
    "\n",
    "    # add the words to the list of words\n",
    "    for i in indices:\n",
    "        print(vocabulary[i], end=', ')\n",
    "        top_words[n].append(vocabulary[i])\n",
    "        \n",
    "    print('')"
   ]
  },
  {
   "cell_type": "markdown",
   "metadata": {},
   "source": [
    "**Hierarchical clustering**"
   ]
  },
  {
   "cell_type": "code",
   "execution_count": 47,
   "metadata": {},
   "outputs": [
    {
     "data": {
      "image/png": "[encoded data removed]",
      "text/plain": [
       "<Figure size 432x288 with 1 Axes>"
      ]
     },
     "metadata": {
      "needs_background": "light"
     },
     "output_type": "display_data"
    }
   ],
   "source": [
    "## Plot a dendrogram\n",
    "\n",
    "# Calculate the linkage: mergings\n",
    "mergings = linkage(dft.values, method='complete', )\n",
    "\n",
    "# Plot the dendrogram\n",
    "dendrogram(mergings,\n",
    "           labels=dft.columns,\n",
    "           leaf_rotation=90,\n",
    "           leaf_font_size=6,\n",
    ")\n",
    "plt.show()"
   ]
  },
  {
   "cell_type": "code",
   "execution_count": 100,
   "metadata": {},
   "outputs": [
    {
     "name": "stdout",
     "output_type": "stream",
     "text": [
      "Number of points: 282\n",
      "(10, 992)\n"
     ]
    }
   ],
   "source": [
    "## Using agglomerative clustering: 10 clusters\n",
    "ward = AgglomerativeClustering(n_clusters=10, linkage='ward').fit(dft.values)\n",
    "label = ward.labels_\n",
    "\n",
    "print(\"Number of points: %i\" % label.size)\n",
    "\n",
    "clf = NearestCentroid()\n",
    "clf.fit(dft.values, label)\n",
    "\n",
    "print(clf.centroids_.shape)"
   ]
  },
  {
   "cell_type": "code",
   "execution_count": 101,
   "metadata": {},
   "outputs": [
    {
     "name": "stdout",
     "output_type": "stream",
     "text": [
      "CLUSTER 1: go, thought, find, know, see, different, things, didn, they, think, \n",
      "CLUSTER 2: they, something, maybe, us, me, topic, different, next, wouldn, would, \n",
      "CLUSTER 3: maybe, me, think, dad, way, things, they, know, my, science, \n",
      "CLUSTER 4: idea, experiments, solution, guess, look, finding, find, died, things, fish, \n",
      "CLUSTER 5: bigger, leads, thing, think, kids, classes, different, good, problem, since, \n",
      "CLUSTER 6: go, come, think, would, happen, thought, went, studying, things, different, \n",
      "CLUSTER 7: test, think, me, memorizing, study, sort, able, information, different, things, \n",
      "CLUSTER 8: mostly, find, didn, data, thought, helped, come, class, collect, animals, \n",
      "CLUSTER 9: russian, reason, produces, hurting, environment, change, math, school, hard, fact, \n",
      "CLUSTER 10: adult, week, turn, set, normally, bees, figure, take, path, explore, \n"
     ]
    }
   ],
   "source": [
    "#print the top 10 words for each cluster centroid\n",
    "def visualize_clusters(df, n_clusters, centroids, n_words=10, printed=True):   \n",
    "    # try to get the most informative words of each cluster\n",
    "    words = {}\n",
    "    vocabulary = df.columns\n",
    "    for n in range(n_clusters):\n",
    "        words[n] = []\n",
    "        if printed: print('CLUSTER ' + str(n+1) + ': ', end='')\n",
    "        arr = centroids[n]\n",
    "        indices = arr.argsort()[-n_words:]\n",
    "        for i in indices:\n",
    "            if printed: print(vocabulary[i], end=', '),\n",
    "            words[n].append(vocabulary[i])\n",
    "        print('')\n",
    "    return words\n",
    "\n",
    "top_words = visualize_clusters(dft, clf.centroids_.shape[0], clf.centroids_)"
   ]
  },
  {
   "cell_type": "markdown",
   "metadata": {},
   "source": [
    "**TSNE**"
   ]
  },
  {
   "cell_type": "code",
   "execution_count": 85,
   "metadata": {},
   "outputs": [
    {
     "data": {
      "image/png": "[encoded data removed]",
      "text/plain": [
       "<Figure size 432x288 with 1 Axes>"
      ]
     },
     "metadata": {
      "needs_background": "light"
     },
     "output_type": "display_data"
    }
   ],
   "source": [
    "\n",
    "# Create a TSNE instance: model\n",
    "model = TSNE(learning_rate=200)\n",
    "\n",
    "# Apply fit_transform to samples: tsne_features\n",
    "tsne_features = model.fit_transform(dft.values)\n",
    "\n",
    "# Select the 0th feature: xs\n",
    "xs = tsne_features[:,0]\n",
    "\n",
    "# Select the 1st feature: ys\n",
    "ys = tsne_features[:,1]\n",
    "\n",
    "# Scatter plot\n",
    "plt.scatter(xs,ys)\n",
    "plt.show()"
   ]
  },
  {
   "cell_type": "markdown",
   "metadata": {},
   "source": [
    "**DBSCAN**"
   ]
  },
  {
   "cell_type": "code",
   "execution_count": 76,
   "metadata": {},
   "outputs": [
    {
     "name": "stdout",
     "output_type": "stream",
     "text": [
      "Number of points: 282\n",
      "(2, 992)\n"
     ]
    }
   ],
   "source": [
    "#apply DBScan \n",
    "dbscan = DBSCAN(eps=4, min_samples=5).fit(dft.values)\n",
    "\n",
    "labels = dbscan.labels_\n",
    "\n",
    "print(\"Number of points: %i\" % labels.size)\n",
    "\n",
    "#find the cluster centroid (using the code from above)\n",
    "clf = NearestCentroid()\n",
    "clf.fit(dft.values, labels)\n",
    "\n",
    "print(clf.centroids_.shape)"
   ]
  },
  {
   "cell_type": "code",
   "execution_count": 77,
   "metadata": {},
   "outputs": [
    {
     "name": "stdout",
     "output_type": "stream",
     "text": [
      "CLUSTER 1: didn, see, different, bees, dad, animals, example, always, president, my, \n",
      "CLUSTER 2: see, would, science, find, know, didn, think, they, different, things, \n"
     ]
    }
   ],
   "source": [
    "top_words = visualize_clusters(dft, clf.centroids_.shape[0], clf.centroids_)"
   ]
  },
  {
   "cell_type": "markdown",
   "metadata": {},
   "source": [
    "**NMF**"
   ]
  },
  {
   "cell_type": "code",
   "execution_count": 53,
   "metadata": {},
   "outputs": [
    {
     "name": "stdout",
     "output_type": "stream",
     "text": [
      "[[0.25366971 0.0723576  0.02173559 0.22634351 0.08180033]\n",
      " [0.13155564 0.17720375 0.         0.00893257 0.30120986]\n",
      " [0.06721953 0.26820232 0.00450501 0.04189609 0.36177843]\n",
      " [0.05853004 0.22855766 0.         0.14864903 0.26898584]\n",
      " [0.         0.32181413 0.02670835 0.12734029 0.21423615]]\n"
     ]
    }
   ],
   "source": [
    "# Transform data so not negative:\n",
    "scaler = MinMaxScaler()\n",
    "dft[dft.columns] = scaler.fit_transform(dft[dft.columns])\n",
    "\n",
    "# Create an NMF instance: model\n",
    "model = NMF(n_components=5)\n",
    "\n",
    "# Fit the model to articles\n",
    "model.fit(dft.values)\n",
    "\n",
    "# Transform the articles: nmf_features\n",
    "nmf_features = model.transform(dft.values)\n",
    "\n",
    "# Print the NMF features\n",
    "print(nmf_features[:5])"
   ]
  },
  {
   "cell_type": "code",
   "execution_count": 54,
   "metadata": {},
   "outputs": [
    {
     "name": "stdout",
     "output_type": "stream",
     "text": [
      "see       0.708913\n",
      "class     0.658470\n",
      "would     0.633117\n",
      "go        0.605283\n",
      "us        0.509871\n",
      "use       0.498664\n",
      "wouldn    0.496646\n",
      "ecoxpt    0.447879\n",
      "real      0.441023\n",
      "take      0.433269\n",
      "Name: 0, dtype: float64 \n",
      "\n",
      "things         1.067386\n",
      "different      0.772427\n",
      "think          0.555379\n",
      "information    0.480345\n",
      "able           0.408512\n",
      "everything     0.326622\n",
      "me             0.325931\n",
      "sort           0.302995\n",
      "thing          0.301532\n",
      "many           0.301457\n",
      "Name: 1, dtype: float64 \n",
      "\n",
      "my           0.750413\n",
      "science      0.597233\n",
      "always       0.521873\n",
      "me           0.464402\n",
      "dad          0.442974\n",
      "might        0.438215\n",
      "good         0.368531\n",
      "thing        0.324354\n",
      "wouldn       0.306254\n",
      "something    0.304672\n",
      "Name: 2, dtype: float64 \n",
      "\n",
      "they       0.622763\n",
      "didn       0.588075\n",
      "think      0.580276\n",
      "know       0.568027\n",
      "way        0.501671\n",
      "thought    0.449030\n",
      "solve      0.448433\n",
      "lab        0.412959\n",
      "change     0.375040\n",
      "weren      0.373988\n",
      "Name: 3, dtype: float64 \n",
      "\n",
      "find        0.702925\n",
      "finding     0.570032\n",
      "fish        0.538725\n",
      "things      0.536305\n",
      "solution    0.508951\n",
      "died        0.495031\n",
      "look        0.440653\n",
      "guess       0.397540\n",
      "looking     0.378576\n",
      "idea        0.373952\n",
      "Name: 4, dtype: float64 \n",
      "\n"
     ]
    }
   ],
   "source": [
    "import pandas as pd\n",
    "\n",
    "# Create a DataFrame: components_df\n",
    "components_dft = pd.DataFrame(model.components_, columns=dft.columns)\n",
    "\n",
    "for i in range(5):\n",
    "\n",
    "    # Select row : component\n",
    "    component = components_dft.iloc[i,:]\n",
    "\n",
    "    # Print result of nlargest\n",
    "    print(component.nlargest(n=10), '\\n')"
   ]
  },
  {
   "cell_type": "code",
   "execution_count": null,
   "metadata": {},
   "outputs": [],
   "source": []
  },
  {
   "cell_type": "code",
   "execution_count": null,
   "metadata": {},
   "outputs": [],
   "source": []
  },
  {
   "cell_type": "code",
   "execution_count": null,
   "metadata": {},
   "outputs": [],
   "source": []
  }
 ],
 "metadata": {
  "kernelspec": {
   "display_name": "Python 3",
   "language": "python",
   "name": "python3"
  },
  "language_info": {
   "codemirror_mode": {
    "name": "ipython",
    "version": 3
   },
   "file_extension": ".py",
   "mimetype": "text/x-python",
   "name": "python",
   "nbconvert_exporter": "python",
   "pygments_lexer": "ipython3",
   "version": "3.7.1"
  },
  "varInspector": {
   "cols": {
    "lenName": 16,
    "lenType": 16,
    "lenVar": 40
   },
   "kernels_config": {
    "python": {
     "delete_cmd_postfix": "",
     "delete_cmd_prefix": "del ",
     "library": "var_list.py",
     "varRefreshCmd": "print(var_dic_list())"
    },
    "r": {
     "delete_cmd_postfix": ") ",
     "delete_cmd_prefix": "rm(",
     "library": "var_list.r",
     "varRefreshCmd": "cat(var_dic_list()) "
    }
   },
   "types_to_exclude": [
    "module",
    "function",
    "builtin_function_or_method",
    "instance",
    "_Feature"
   ],
   "window_display": false
  }
 },
 "nbformat": 4,
 "nbformat_minor": 2
}
