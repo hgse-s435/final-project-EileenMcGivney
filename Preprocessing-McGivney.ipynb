{
 "cells": [
  {
   "cell_type": "markdown",
   "metadata": {},
   "source": [
    "## Final Project: Data Preprocessing\n",
    "Eileen McGivney  \n",
    "Student Science Identity"
   ]
  },
  {
   "cell_type": "markdown",
   "metadata": {},
   "source": [
    "Data: 15 7th grade Student interviews, .txt files  \n",
    "Location:/Volumes/GoogleDrive/My Drive/Spring 2019/S435/GitHub/S435Final/transcripts  \n",
    "Only student speech included, interviewer questions have been removed  \n",
    "Preprocessing: load in data, clean from punctuation, returns, stop words, etc. Make each transcript into segments. Load segments to vectors.   \n",
    "To start: pretty much replicate Sherin but then play around with different definitions (how to overlap text, etc)"
   ]
  },
  {
   "cell_type": "markdown",
   "metadata": {},
   "source": [
    "## Load data"
   ]
  },
  {
   "cell_type": "code",
   "execution_count": 102,
   "metadata": {},
   "outputs": [
    {
     "name": "stdout",
     "output_type": "stream",
     "text": [
      "['./unicode/amina.txt', './unicode/mike.txt', './unicode/maya.txt', './unicode/kyle.txt', './unicode/jenny.txt', './unicode/james.txt', './unicode/ben.txt', './unicode/simon.txt', './unicode/sasha.txt', './unicode/samuel.txt', './unicode/nicole.txt', './unicode/michelle.txt', './unicode/leila.txt', './unicode/emma.txt', './unicode/daniel.txt']\n"
     ]
    }
   ],
   "source": [
    "# using glob, find all the text files in the \"Papers\" folder\n",
    "import glob\n",
    "\n",
    "files = glob.glob('./unicode/*.txt')\n",
    "print(files)"
   ]
  },
  {
   "cell_type": "code",
   "execution_count": 103,
   "metadata": {},
   "outputs": [
    {
     "name": "stdout",
     "output_type": "stream",
     "text": [
      "I thought the whole thing was pretty fun and I like doing the tests that we ran. Some of them are kind of confusing though like the one that was outside that one I didn't really understand. But it was really fun, there were fun things like it was fun to explore even if we didn't go in or around some places it was fun to go around. \n",
      "It was fun looking for all the things in the water like certain different kinds of bacteria and things, I liked finding the things on land too. Like my partner and I we went through all of them, we made sure we could find all of them- even if we couldn't find it we made sure that we found it even if we had to do something else. Because it was fun to look for it, and I liked the information that they gave about it.\n",
      "I wrote a couple things, we didn't have much time but what I wrote was first I didn't think that fish needed that much to survive but then I realized that a lot of things affected it, like affected their lives. And another thing that's kind of similar to it I thought that only one thing would have kill the fish  but a lot of parts killed it.\n",
      "At first I thought it was only it dissolved oxygen. But then I realized that there were other parts that affected the dissolved oxygen that made the dissolved oxygen kill the fish so it wasn't just the dissolved oxygen it was other things too.\n",
      "I think of a scientist as someone who tries to find things out.\n",
      "They find evidence to t support what they're trying to learn and what they have learned to tell other people- so they can have new ideas about the world.\n",
      "I kind of thought that before but just confirmed what I felt about it because I knew that's what we were doing. And you learned new things along the way- I guess I didn't know that, that's what I learned.\n",
      "I don't know, I don't know if I do. I think my uncle is, I think my uncle is an earth scientist like what this is but I don't really know.\n",
      "When I was on vacation they were asking me what I was doing and I was explaining what I was doing and they were saying that's what his job was, so I can't remember that much but I know his job has to do with science, earth science, rock science. That kind of stuff.\n",
      "Yeah, probably less water-related though but like rocks, and land. But the kind of stuff we were doing is probably the kind of stuff that he does. \n",
      "Probably, like if I do- whatever I do I definitely want to include some part of science or math or something. I don’t know if I want to be just a scientist but I want to have it be a part of it. \n",
      "Well I want to be an author. And so maybe I could write books that have to do with science. Not factual books, but fictional books that include parts of science.\n",
      "I can’t think of anything right now but maybe if there was a story where someone lost someone in the pond, or an animal in the pond and they had to learn certain things to find where the animal could have been, and then they- learned more things about the pond. \n",
      "I think that the way I learned how to use evidence, to back up claims and where I can find certain things, that was really helpful. So I’ll remember that.  \n",
      "Maybe for other science projects or if I end up using science in my life, this helped me learn how to take evidence and put my reasoning with it. \n",
      "I think they have just learned about many different parts of science, different chemicals or certain parts to it, or they have practiced things like EcoXPT many times. \n",
      "I think so, at least I think that was a good start\n",
      "I like the test- EcoXPT was really fun but I like when we do actually test things in real life. It’s fun to realize that you found something out. Like EcoXPT is kind of like that, but just in real life too.\n",
      "I know the other classes were doing things with water, like if you’re trying to find things in water and I think that would be really fun to see what’s inside certain kinds of water.\n",
      "\n",
      "It had a lot more- I don’t know what the word it- it had a lot more than just an assignment. This makes sense technology-wise but also science-wise it was an entire different world. It wasn’t just a project it felt more like you were learning a whole different part of life than you know. \n",
      "Like most of the things that we knew that affected the fish’s lives, I would have never known if we didn’t do EcoXPT. I would have never known what those materials or ingredients were or whatever it is. I wouldnt’ have known what phosphates was, I wouldn’t have known that dissolved oxygen had anything to do with it. And so I just felt like I didn’t know about any of that stuff and after I did EcoXPT I knew a lot more about just that whole area of water and fish…\n",
      "Right now I don’t think it is, but if I went to the pond and I saw fish, I just could see other things inside the pond or imagine what’s inside it now and understand more about it because of EcoXPT. \n",
      "I think we got to really see things, because even if we had done it in real life we wouldn’t have gotten to understand what it looks like and how it worked by seeing it, because even though it wasn’t real it really showed how it would have worked if it was real. \n",
      "I think when I did the experiments and looked at the graph it helped me learn more things about how things went up and down or what other things affected it.\n",
      "Yeah even if it doesn’t have to do with science it still is a different way of looking at things, testing and the graphs. \n",
      "Anything, I mean graphs could be anything and I can see how different things affect things. Like with the ice cream thing we did, the people who drown and the ice cream. Like it doesn’t have to do with science but it’s still one thing affecting the other. Or what was the other- graphs or… oh testing. Well I guess it’s kind of hard to do testing that doesn’t have to do with science. I can’t think of another way you can do testing, but I know there are other ways.\n",
      "I don’t know, there were some things like I wanted to look inside the house and see other, more things. For it, I don’t think anything should change. \n",
      "I know some people who just didn’t try, and that’s because they didn’t want to try, but if they had tried they would have liked it. And everyone else pretty much tried and I think they liked it. \n",
      "It definitely made me like science more. Science has never been my favorite subject but it was more fun to just- we don’t usually talk about water or animals as much as I would like to so when we moved onto this part I liked it more. \n",
      "We usually do things- we did rock science, we did a unit on systems, we did energy like light bulbs and that kind of stuff, but I like things that are living more than things like electricity. \n",
      "Yeah I think it was a fun experience. For some people who already knew this stuff I think they still liked it, because they saw a different way of doing it. But I think it would be fun for most people, people who try. \n",
      "I think one thing- this might just be the people who didn’t try- found it boring, I don’t know how but some people did. I don’t really know how they would because there was so much to do, but some people said they found it boring. I didn’t think it was boring. \n",
      "I don’t know, I haven’t talked to many people about- I got to talk to more people who weren’t doing it because I wanted to know what they were doing. But I don’t know how many people found it boring. Maybe it’s just not their kind of thing. \n",
      "\n",
      "\n"
     ]
    }
   ],
   "source": [
    "# get all the data from the text files into the \"documents\" list\n",
    "\n",
    "documents = []\n",
    "\n",
    "for filename in files: \n",
    "    with open (filename, \"r\", encoding='utf-8') as f:\n",
    "        documents.append(f.read())\n",
    "print(documents[0])"
   ]
  },
  {
   "cell_type": "markdown",
   "metadata": {},
   "source": [
    "## Clean data"
   ]
  },
  {
   "cell_type": "code",
   "execution_count": 104,
   "metadata": {},
   "outputs": [],
   "source": [
    "# replace carriage returns (i.e., \"\\n\") with a white space\n",
    "\n",
    "documents = [doc.replace('\\n', ' ') for doc in documents]\n"
   ]
  },
  {
   "cell_type": "code",
   "execution_count": 105,
   "metadata": {},
   "outputs": [
    {
     "name": "stdout",
     "output_type": "stream",
     "text": [
      " I thought it was pretty fun and it s like a different way to learn and also it s more hands on without actually going into the real world   Other things are like paper and it s written  and you don t really get to see everything how to choose like where you go and what you do  You get to go and make your own comparison tank and make your own hypothesis So I wrote down that science is easy and it s more like one branch  and that it only goes one direction  Now I m more realizing that it s able to go off in different hypothises  hypotheses  different areas you can go to   A scientist conducts research to make hypotheses about what s going on in the real world  Well now more the real world part  it s kind of nt something I realized more   since it s actually more Hands On than behind a screen doing a test  Well what I ve heard from other kids that are in classes that don t do EcoXPT  You got this worksheet that you have to figure out of different characters who contaminated the water or \n"
     ]
    }
   ],
   "source": [
    "# replace the punctation below by a white space\n",
    "punctuation = ['.', '...', '!', '#', '\"', '%', '$', \"'\", '&', ')', \n",
    "               '(', '+', '*', '-', ',', '/', '.', ';', ':', '=', \n",
    "               '<', '?', '>', '@', '\",', '\".', '[', ']', '\\\\', ',',\n",
    "               '_', '^', '`', '{', '}', '|', '~', '−', '”', '“', '’']\n",
    "\n",
    "\n",
    "# remove ponctuation\n",
    "for i,doc in enumerate(documents): \n",
    "    for punc in punctuation: \n",
    "        doc = doc.replace(punc, ' ')\n",
    "    documents[i] = doc\n",
    "    \n",
    "print(documents[1][:1000])"
   ]
  },
  {
   "cell_type": "code",
   "execution_count": 106,
   "metadata": {},
   "outputs": [
    {
     "name": "stdout",
     "output_type": "stream",
     "text": [
      " I thought it was pretty fun and it s like a different way to learn and also it s more hands on without actually going into the real world   Other things are like paper and it s written  and you don t really get to see everything how to choose like where you go and what you do  You get to go and make your own comparison tank and make your own hypothesis So I wrote down that science is easy and it s more like one branch  and that it only goes one direction  Now I m more realizing that it s able to go off in different hypothises  hypotheses  different areas you can go to   A scientist conducts research to make hypotheses about what s going on in the real world  Well now more the real world part  it s kind of nt something I realized more   since it s actually more Hands On than behind a screen doing a test  Well what I ve heard from other kids that are in classes that don t do EcoXPT  You got this worksheet that you have to figure out of different characters who contaminated the water or \n"
     ]
    }
   ],
   "source": [
    "# remove numbers by either a white space\n",
    "for i,doc in enumerate(documents): \n",
    "    for num in range(10):\n",
    "        doc = doc.replace(str(num), '')\n",
    "    documents[i] = doc\n",
    "\n",
    "print(documents[1][:1000])"
   ]
  },
  {
   "cell_type": "code",
   "execution_count": 107,
   "metadata": {},
   "outputs": [
    {
     "name": "stdout",
     "output_type": "stream",
     "text": [
      "I thought the whole thing was pretty fun and I like doing the tests that we ran  Some of them are ki\n",
      "[('i', 458), ('the', 393), ('to', 374), ('and', 362), ('it', 348), ('of', 234), ('a', 234), ('that', 206), ('we', 180), ('t', 166), ('was', 149), ('you', 149), ('like', 142), ('really', 138), ('they', 135), ('in', 134), ('but', 121), ('things', 112), ('think', 105), ('what', 103), ('have', 100), ('do', 95), ('s', 91), ('about', 74), ('if', 73), ('different', 73), ('not', 69), ('there', 67), ('lot', 66), ('know', 66), ('be', 66), ('how', 65), ('because', 63), ('don', 63), ('all', 62), ('science', 61), ('just', 60), ('yeah', 59), ('more', 59), ('or', 56), ('are', 55), ('on', 55), ('would', 54), ('can', 52), ('so', 51), ('is', 51), ('kind', 50), ('my', 49), ('at', 49), ('for', 48)]\n"
     ]
    }
   ],
   "source": [
    "#what stop words should we consider?\n",
    "import nltk\n",
    "#nltk.download('punkt')\n",
    "from collections import Counter\n",
    "\n",
    "#combine docs into one\n",
    "alldocs = ' '.join(documents)\n",
    "print(alldocs[0:100])\n",
    "\n",
    "# # Tokenize the article: tokens\n",
    "tokens = nltk.word_tokenize(alldocs)\n",
    "\n",
    "# # Convert the tokens into lowercase: lower_tokens\n",
    "lower_tokens = [t.lower() for t in tokens]\n",
    "\n",
    "# # Create a Counter with the lowercase tokens: bow_simple\n",
    "word_count = Counter(lower_tokens)\n",
    "\n",
    "# # Print the 50 most common tokens\n",
    "print(word_count.most_common(50))\n",
    "\n",
    "### Want to keep some pronouns: me, my, myself and they, them, themselves -- are they talking more about themselves or others?\n",
    "##Also keeping words like science, think and different. Will remove \"yeah\" and \"just\"\n",
    "##Generally list from before looks good"
   ]
  },
  {
   "cell_type": "code",
   "execution_count": 108,
   "metadata": {},
   "outputs": [
    {
     "name": "stdout",
     "output_type": "stream",
     "text": [
      "['i', 'thought', 'it', 'was', 'pretty', 'fun', 'and', 'it', 's', 'like', 'a', 'different', 'way', 'to', 'learn', 'and', 'also', 'it', 's', 'more', 'hands', 'on', 'without', 'actually', 'going', 'into', 'the', 'real', 'world', 'other', 'things', 'are', 'like', 'paper', 'and', 'it', 's', 'written', 'and', 'you', 'don', 't', 'really', 'get', 'to', 'see', 'everything', 'how', 'to', 'choose', 'like', 'where', 'you', 'go', 'and', 'what', 'you', 'do', 'you', 'get', 'to', 'go', 'and', 'make', 'your', 'own', 'comparison', 'tank', 'and', 'make', 'your', 'own', 'hypothesis', 'so', 'i', 'wrote', 'down', 'that', 'science', 'is', 'easy', 'and', 'it', 's', 'more', 'like', 'one', 'branch', 'and', 'that', 'it', 'only', 'goes', 'one', 'direction', 'now', 'i', 'm', 'more', 'realizing']\n"
     ]
    }
   ],
   "source": [
    "#make lowercase\n",
    "tokendocs = [nltk.word_tokenize(doc) for doc in documents]\n",
    "lowerdocs = [[word.lower() for word in doc] for doc in tokendocs]\n",
    "\n",
    "print(lowerdocs[1][:100])\n"
   ]
  },
  {
   "cell_type": "code",
   "execution_count": 115,
   "metadata": {},
   "outputs": [
    {
     "name": "stdout",
     "output_type": "stream",
     "text": [
      "['thought', 'whole', 'thing', 'pretty', 'fun', 'like', 'tests', 'ran', 'them', 'kind', 'confusing', 'though', 'like', 'one', 'outside', 'one', 'didn', 'really', 'understand', 'really', 'fun', 'fun', 'things', 'like', 'fun', 'explore', 'even', 'didn', 'go', 'around', 'places', 'fun', 'go', 'around', 'fun', 'looking', 'things', 'water', 'like', 'certain', 'different', 'kinds', 'bacteria', 'things', 'liked', 'finding', 'things', 'land', 'like', 'my', 'partner', 'went', 'them', 'made', 'sure', 'could', 'find', 'them', 'even', 'couldn', 'find', 'made', 'sure', 'found', 'even', 'something', 'else', 'fun', 'look', 'liked', 'information', 'they', 'gave', 'wrote', 'couple', 'things', 'didn', 'much', 'time', 'wrote', 'first', 'didn', 'think', 'fish', 'needed', 'much', 'survive', 'realized', 'lot', 'things', 'affected', 'like', 'affected', 'lives', 'another', 'thing', 'kind', 'similar', 'thought', 'one']\n"
     ]
    }
   ],
   "source": [
    "# Remove the stop words below from our documents\n",
    "\n",
    "stop_words = ['i', 'we', 'our', 'ours', \n",
    "              'ourselves', 'you', 'your', 'yours', 'yourself', \n",
    "              'yourselves', 'he', 'him', 'his', 'himself', 'she', \n",
    "              'her', 'hers', 'herself', 'it', 'its', 'itself', \n",
    "              'their', 'theirs',  \n",
    "              'what', 'which', 'who', 'whom', 'this', 'that', \n",
    "              'these', 'those', 'am', 'is', 'are', 'was', 'were', \n",
    "              'be', 'been', 'being', 'have', 'has', 'had', 'having', \n",
    "              'do', 'does', 'did', 'doing', 'a', 'an', 'the', 'and', \n",
    "              'but', 'if', 'or', 'because', 'as', 'until', 'while', \n",
    "              'of', 'at', 'by', 'for', 'with', 'about', 'against', \n",
    "              'between', 'into', 'through', 'during', 'before', \n",
    "              'after', 'above', 'below', 'to', 'from', 'up', 'down', \n",
    "              'in', 'out', 'on', 'off', 'over', 'under', 'again', \n",
    "              'further', 'then', 'once', 'here', 'there', 'when', \n",
    "              'where', 'why', 'how', 'all', 'any', 'both', 'each', \n",
    "              'few', 'more', 'most', 'other', 'some', 'such', 'no', \n",
    "              'nor', 'not', 'only', 'own', 'same', 'so', 'than', \n",
    "              'too', 'very', 's', 't', 'can', 'will', \n",
    "              'just', 'don', 'should', 'now', 'yeah', 'just']\n",
    "\n",
    "\n",
    "# remove stop words\n",
    "cleandocs = []\n",
    "for i,doc in enumerate(lowerdocs):\n",
    "    for word in doc:\n",
    "        if word in stop_words:\n",
    "            doc.remove(word)\n",
    "lowerdocs[i] = doc\n",
    "\n",
    "print(lowerdocs[0][:100])"
   ]
  },
  {
   "cell_type": "code",
   "execution_count": 120,
   "metadata": {},
   "outputs": [
    {
     "name": "stdout",
     "output_type": "stream",
     "text": [
      "['thought', 'whole', 'thing', 'pretty', 'fun', 'like', 'tests', 'ran', 'them', 'kind', 'confusing', 'though', 'like', 'one', 'outside', 'one', 'didn', 'really', 'understand', 'really', 'fun', 'fun', 'things', 'like', 'fun', 'explore', 'even', 'didn', 'go', 'around', 'places', 'fun', 'go', 'around', 'fun', 'looking', 'things', 'water', 'like', 'certain', 'different', 'kinds', 'bacteria', 'things', 'liked', 'finding', 'things', 'land', 'like', 'my', 'partner', 'went', 'them', 'made', 'sure', 'could', 'find', 'them', 'even', 'couldn', 'find', 'made', 'sure', 'found', 'even', 'something', 'else', 'fun', 'look', 'liked', 'information', 'they', 'gave', 'wrote', 'couple', 'things', 'didn', 'much', 'time', 'wrote', 'first', 'didn', 'think', 'fish', 'needed', 'much', 'survive', 'realized', 'lot', 'things', 'affected', 'like', 'affected', 'lives', 'another', 'thing', 'kind', 'similar', 'thought', 'one', 'thing', 'would', 'kill', 'fish', 'lot', 'parts', 'killed', 'first', 'thought', 'dissolved', 'oxygen', 'realized', 'parts', 'affected', 'dissolved', 'oxygen', 'made', 'dissolved', 'oxygen', 'kill', 'fish', 'wasn', 'dissolved', 'oxygen', 'things', 'think', 'scientist', 'someone', 'tries', 'find', 'things', 'they', 'find', 'evidence', 'support', 'they', 're', 'trying', 'learn', 'they', 'learned', 'tell', 'people', 'they', 'new', 'ideas', 'world', 'kind', 'thought', 'confirmed', 'felt', 'knew', 'learned', 'new', 'things', 'along', 'way', 'guess', 'didn', 'know', 'learned', 'know', 'know', 'think', 'my', 'uncle', 'think', 'my', 'uncle', 'earth', 'scientist', 'like', 'really', 'know', 'vacation', 'they', 'asking', 'me', 'explaining', 'they', 'saying', 'job', 'remember', 'much', 'know', 'job', 'science', 'earth', 'science', 'rock', 'science', 'kind', 'stuff', 'probably', 'less', 'water', 'related', 'though', 'like', 'rocks', 'land', 'kind', 'stuff', 'probably', 'kind', 'stuff', 'probably', 'like', 'whatever', 'definitely', 'want', 'include', 'part', 'science', 'math', 'something', 'know', 'want', 'scientist', 'want', 'part', 'well', 'want', 'author', 'maybe', 'could', 'write', 'books', 'science', 'factual', 'books', 'fictional', 'books', 'include', 'parts', 'science', 'think', 'anything', 'right', 'maybe', 'story', 'someone', 'lost', 'someone', 'pond', 'animal', 'pond', 'they', 'learn', 'certain', 'things', 'find', 'animal', 'could', 'they', 'learned', 'things', 'pond', 'think', 'way', 'learned', 'use', 'evidence', 'back', 'claims', 'can', 'find', 'certain', 'things', 'really', 'helpful', 'll', 'remember', 'maybe', 'science', 'projects', 'end', 'using', 'science', 'my', 'life', 'helped', 'me', 'learn', 'take', 'evidence', 'put', 'my', 'reasoning', 'think', 'they', 'learned', 'many', 'different', 'parts', 'science', 'different', 'chemicals', 'certain', 'parts', 'they', 'practiced', 'things', 'like', 'ecoxpt', 'many', 'times', 'think', 'least', 'think', 'good', 'start', 'like', 'test', 'ecoxpt', 'really', 'fun', 'like', 'actually', 'test', 'things', 'real', 'life', 'fun', 'realize', 'found', 'something', 'like', 'ecoxpt', 'kind', 'like', 'real', 'life', 'know', 'classes', 'things', 'water', 'like', 're', 'trying', 'find', 'things', 'water', 'think', 'would', 'really', 'fun', 'see', 'inside', 'certain', 'kinds', 'water', 'lot', 'know', 'word', 'lot', 'assignment', 'makes', 'sense', 'technology', 'wise', 'also', 'science', 'wise', 'an', 'entire', 'different', 'world', 'wasn', 'project', 'felt', 'like', 'learning', 'whole', 'different', 'part', 'life', 'know', 'like', 'things', 'knew', 'affected', 'fish', 'lives', 'would', 'never', 'known', 'didn', 'ecoxpt', 'would', 'never', 'known', 'materials', 'ingredients', 'whatever', 'wouldnt', 'known', 'phosphates', 'wouldn', 'known', 'dissolved', 'oxygen', 'anything', 'felt', 'like', 'didn', 'know', 'stuff', 'ecoxpt', 'knew', 'lot', 'whole', 'area', 'water', 'fish…', 'right', 'think', 'went', 'pond', 'saw', 'fish', 'could', 'see', 'things', 'inside', 'pond', 'imagine', 'inside', 'understand', 'ecoxpt', 'think', 'got', 'really', 'see', 'things', 'even', 'done', 'real', 'life', 'wouldn', 'gotten', 'understand', 'looks', 'like', 'worked', 'seeing', 'even', 'though', 'wasn', 'real', 'really', 'showed', 'would', 'worked', 'real', 'think', 'experiments', 'looked', 'graph', 'helped', 'me', 'learn', 'things', 'things', 'went', 'things', 'affected', 'even', 'doesn', 'science', 'still', 'different', 'way', 'looking', 'things', 'testing', 'graphs', 'anything', 'mean', 'graphs', 'could', 'anything', 'can', 'see', 'different', 'things', 'affect', 'things', 'like', 'ice', 'cream', 'thing', 'people', 'drown', 'ice', 'cream', 'like', 'doesn', 'science', 's']\n"
     ]
    }
   ],
   "source": [
    "docs = lowerdocs\n",
    "print(docs[0][:500])"
   ]
  },
  {
   "cell_type": "markdown",
   "metadata": {},
   "source": [
    "## Build Vocabulary"
   ]
  },
  {
   "cell_type": "code",
   "execution_count": 121,
   "metadata": {},
   "outputs": [],
   "source": [
    "import math\n",
    "import numpy as np"
   ]
  },
  {
   "cell_type": "code",
   "execution_count": 123,
   "metadata": {},
   "outputs": [
    {
     "name": "stdout",
     "output_type": "stream",
     "text": [
      "1087\n",
      "['a', 'ability', 'able', 'about', 'access', 'accurate', 'accused', 'across', 'actually', 'add', 'added', 'adult', 'advantage', 'affect', 'affected', 'affecting', 'affects', 'ago', 'ahead', 'aimlessly', 'air', 'algae', 'all', 'almost', 'along', 'already', 'also', 'although', 'always', 'amount', 'an', 'analyze', 'and', 'animal', 'animals', 'another', 'answer', 'answered', 'answering', 'answers', 'any', 'anyone', 'anything', 'anyway', 'anywhere', 'apart', 'apiologist', 'archaeologists', 'are', 'area', 'areas', 'aren', 'arguing', 'around', 'arrangement', 'as', 'ask', 'asking', 'assigned', 'assignment', 'assignments', 'astronaut', 'ater', 'attention', 'attorney', 'author', 'average', 'away', 'back', 'backward', 'bacteria', 'bad', 'bag', 'balanced', 'bark', 'barn', 'based', 'basically', 'bass', 'batteries', 'be', 'because', 'because…', 'become', 'beekeeper', 'bees', 'beginning', 'behind', 'best', 'better', 'beyond', 'big', 'bigger', 'biochemistry', 'biologist', 'biologists', 'biology', 'birds', 'bit', 'blue']\n"
     ]
    }
   ],
   "source": [
    "# use our function that takes in a list of documents\n",
    "# and returns a set of unique words.\n",
    "\n",
    "def get_vocabulary(docs):\n",
    "    voc = []\n",
    "    for doc in docs:\n",
    "        for word in doc:\n",
    "            if word not in voc: \n",
    "                voc.append(word)\n",
    "    voc = list(set(voc))\n",
    "    voc.sort()\n",
    "    return voc\n",
    "\n",
    "vocabulary = get_vocabulary(docs)\n",
    "print(len(vocabulary))\n",
    "print(vocabulary[:100])"
   ]
  },
  {
   "cell_type": "markdown",
   "metadata": {},
   "source": [
    "## Create 100 word segments"
   ]
  },
  {
   "cell_type": "code",
   "execution_count": null,
   "metadata": {},
   "outputs": [],
   "source": [
    "### like what we did in class but preserving each document as a separate one \n",
    "\n",
    "def segment(docs, window_size=100, overlap=25):\n",
    "    new_documents = []\n",
    "    for doc in docs:\n",
    "        segs = []\n",
    "        # create segments of 100 words\n",
    "        high = window_size\n",
    "        while high < len(doc):\n",
    "            low = high - window_size\n",
    "            segs.append(doc[low:high])\n",
    "            high += overlap\n",
    "        new_documents.append(segs)\n",
    "    return new_documents\n",
    "\n",
    "# segments = segment(docs)\n",
    "# print(len(segments))\n",
    "# print(segments[0])\n"
   ]
  },
  {
   "cell_type": "code",
   "execution_count": 146,
   "metadata": {},
   "outputs": [
    {
     "name": "stdout",
     "output_type": "stream",
     "text": [
      "[]\n"
     ]
    }
   ],
   "source": [
    "\n",
    "segs = []\n",
    " #create segments of 100 words\n",
    "high = 100\n",
    "while high < len(doc[0]):\n",
    "    low = high - 100\n",
    "    segs.append(doc[0][low:high])\n",
    "    high += 25\n",
    "print(segs)"
   ]
  },
  {
   "cell_type": "code",
   "execution_count": null,
   "metadata": {},
   "outputs": [],
   "source": []
  },
  {
   "cell_type": "code",
   "execution_count": null,
   "metadata": {},
   "outputs": [],
   "source": []
  },
  {
   "cell_type": "code",
   "execution_count": null,
   "metadata": {},
   "outputs": [],
   "source": []
  }
 ],
 "metadata": {
  "kernelspec": {
   "display_name": "Python 3",
   "language": "python",
   "name": "python3"
  },
  "language_info": {
   "codemirror_mode": {
    "name": "ipython",
    "version": 3
   },
   "file_extension": ".py",
   "mimetype": "text/x-python",
   "name": "python",
   "nbconvert_exporter": "python",
   "pygments_lexer": "ipython3",
   "version": "3.7.1"
  },
  "varInspector": {
   "cols": {
    "lenName": 16,
    "lenType": 16,
    "lenVar": 40
   },
   "kernels_config": {
    "python": {
     "delete_cmd_postfix": "",
     "delete_cmd_prefix": "del ",
     "library": "var_list.py",
     "varRefreshCmd": "print(var_dic_list())"
    },
    "r": {
     "delete_cmd_postfix": ") ",
     "delete_cmd_prefix": "rm(",
     "library": "var_list.r",
     "varRefreshCmd": "cat(var_dic_list()) "
    }
   },
   "types_to_exclude": [
    "module",
    "function",
    "builtin_function_or_method",
    "instance",
    "_Feature"
   ],
   "window_display": false
  }
 },
 "nbformat": 4,
 "nbformat_minor": 2
}
