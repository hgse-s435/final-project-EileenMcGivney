{
 "cells": [
  {
   "cell_type": "markdown",
   "metadata": {},
   "source": [
    "# Final Project"
   ]
  },
  {
   "cell_type": "markdown",
   "metadata": {},
   "source": [
    "## Framing"
   ]
  },
  {
   "cell_type": "markdown",
   "metadata": {},
   "source": [
    "**Introduction**: I'm analyzing a set of interviews with 7th grade students discussing their science identity and affect toward science learning after completing an ecosystem science curriculum. Our main question of interest was whether students' identities, interest, and self-efficacy changed after engaging in epistemically authentic science and participating in an immersive science curriculum that put them in the shoes of a scientist."
   ]
  },
  {
   "cell_type": "markdown",
   "metadata": {},
   "source": [
    "**Research question(s)**: I want to know whether the ways students talked about their experiences can help identify patterns that may describe different profiles of students, especially perhaps those who like science but don't want to be a scientist compared to those who know they want to be a scientist, etc. Do these students use different words when describing their experiences?"
   ]
  },
  {
   "cell_type": "markdown",
   "metadata": {},
   "source": [
    "**Hypotheses**:\n",
    "     \n",
    "    1. I think students who identify as \"science people\" and who assert they are interested in science careers will use different language than those who are not. For example describing different fields/disciplines in science. I plan to test this hypothesis by creating the vectors and clustering them, then comparing the clusters that describe each student's transcript. I have already identified from the qualitative analysis I conducted which students are interested in science careers and which are not.  \n",
    "    2. I anticipate students that are interested in science and not to use language that may describe their self-efficacy toward science, but that for those who don't we could identiy the students who are discouraged or disengaged from science. Our main findings from both quantitative and qualitative analysis was that students self-efficacy increased while their identity and interest was stable from before and after the curriculum. But from the interviews there are a couple of students who seemed disengaged, and by looking at the words that describe their transcripts we may be able to identify other ways in which they differed or factors to help identify students who need extra encouragement.  "
   ]
  },
  {
   "cell_type": "markdown",
   "metadata": {},
   "source": [
    "**Results**:\n",
    "\n",
    "    I essentially aim to replicate Sherin, but test out different clustering algorithms and test different definitions of data segments, etc. I want to see if this method might be useful in the same way Sherin was interested- does this augment the human analysis already conducted? Does it confirm or disconfirm the theories we were developing?  \n",
    "    The data is too small to make any broad conclusions, but I am hoping to find the method confirms my qualitative analysis, and perhaps points to something new that I missed (like which students are more similar in their interest/identity/efficacy).  \n",
    "    These kinds of findings might help in designing science education programs that are aimed at exciting stidents about science careers, like EcoXPT does. Designers or teachers may want to pay attention to students' different ways of engaging with the programs based on some of the language they use. \n"
   ]
  },
  {
   "cell_type": "markdown",
   "metadata": {},
   "source": [
    "**Threads**\n",
    "I have a very small dataset so it is possible I won't find any patterns strong enough.  \n",
    "I was thinking perhaps I could do a kind of person-centered analysis then, seeing if there is a way to describe each person individually based on the words they used, so I would have 15 distinct profiles,  but not a comparison of more general profiles. I'm  not sure that's possible or interesting though.  \n",
    "I think I will have to play around with the sizes of the segments too. Maybe more, smaller segments will be better."
   ]
  },
  {
   "cell_type": "markdown",
   "metadata": {},
   "source": [
    "## Data Exploration"
   ]
  },
  {
   "cell_type": "markdown",
   "metadata": {},
   "source": [
    "Sorry I started cleaning the data in another notebook, also uploaded to my GitHub folder! "
   ]
  },
  {
   "cell_type": "markdown",
   "metadata": {},
   "source": [
    "## Data Cleaning"
   ]
  },
  {
   "cell_type": "markdown",
   "metadata": {},
   "source": [
    "Sorry I started cleaning the data in another notebook, also uploaded to my GitHub folder! "
   ]
  }
 ],
 "metadata": {
  "kernelspec": {
   "display_name": "Python 3",
   "language": "python",
   "name": "python3"
  },
  "language_info": {
   "codemirror_mode": {
    "name": "ipython",
    "version": 3
   },
   "file_extension": ".py",
   "mimetype": "text/x-python",
   "name": "python",
   "nbconvert_exporter": "python",
   "pygments_lexer": "ipython3",
   "version": "3.7.1"
  },
  "toc": {
   "base_numbering": 1,
   "nav_menu": {},
   "number_sections": true,
   "sideBar": true,
   "skip_h1_title": false,
   "title_cell": "Table of Contents",
   "title_sidebar": "Contents",
   "toc_cell": false,
   "toc_position": {},
   "toc_section_display": true,
   "toc_window_display": false
  },
  "varInspector": {
   "cols": {
    "lenName": 16,
    "lenType": 16,
    "lenVar": 40
   },
   "kernels_config": {
    "python": {
     "delete_cmd_postfix": "",
     "delete_cmd_prefix": "del ",
     "library": "var_list.py",
     "varRefreshCmd": "print(var_dic_list())"
    },
    "r": {
     "delete_cmd_postfix": ") ",
     "delete_cmd_prefix": "rm(",
     "library": "var_list.r",
     "varRefreshCmd": "cat(var_dic_list()) "
    }
   },
   "types_to_exclude": [
    "module",
    "function",
    "builtin_function_or_method",
    "instance",
    "_Feature"
   ],
   "window_display": false
  }
 },
 "nbformat": 4,
 "nbformat_minor": 2
}
