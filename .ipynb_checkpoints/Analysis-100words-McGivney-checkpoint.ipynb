{
 "cells": [
  {
   "cell_type": "markdown",
   "metadata": {},
   "source": [
    "## 100-word segments: Clustering Analysis\n",
    "### First deviance vectors, then regular vectors\n",
    "\n",
    "Eileen McGivney  \n",
    "Science identity study  \n",
    "Data: interviews with 15 7th graders  \n",
    "Preprocessing: /Volumes/GoogleDrive/My Drive/Spring 2019/S435/GitHub/final-project-EileenMcGivney/Preprocessing-McGivney.ipynb  \n",
    "\n",
    "Research Question: Can we identify student profiles related to their science identity and interest through natural language processing?\n",
    "\n",
    "Analysis: Cluster analysis\n",
    "* Replicate Sherin: hierarchical agglomerative clustering\n",
    "* Try other clustering methods: K-means, density based\n",
    "* Estimate with regular vectors and with deviation vectors\n"
   ]
  },
  {
   "cell_type": "code",
   "execution_count": 281,
   "metadata": {},
   "outputs": [
    {
     "name": "stdout",
     "output_type": "stream",
     "text": [
      "/Volumes/GoogleDrive/My Drive/Spring 2019/S435/GitHub/final-project-EileenMcGivney\n"
     ]
    }
   ],
   "source": [
    "## Setup\n",
    "import os\n",
    "import re\n",
    "import glob\n",
    "import math\n",
    "import collections\n",
    "import numpy as np\n",
    "import pandas as pd\n",
    "import matplotlib.pyplot as plt\n",
    "%matplotlib inline\n",
    "\n",
    "import nltk\n",
    "#nltk.download('punkt')\n",
    "from collections import Counter\n",
    "\n",
    "from collections import defaultdict\n",
    "from sklearn.manifold import TSNE\n",
    "from sklearn.cluster import KMeans\n",
    "from scipy.cluster.hierarchy import linkage, dendrogram\n",
    "from sklearn.cluster import AgglomerativeClustering\n",
    "from sklearn.neighbors.nearest_centroid import NearestCentroid\n",
    "from sklearn.cluster import DBSCAN\n",
    "from sklearn.preprocessing import MinMaxScaler\n",
    "from sklearn.decomposition import NMF\n",
    "\n",
    "%cd '/Volumes/GoogleDrive/My Drive/Spring 2019/S435/GitHub/final-project-EileenMcGivney'"
   ]
  },
  {
   "cell_type": "code",
   "execution_count": 282,
   "metadata": {},
   "outputs": [],
   "source": [
    "## Load dataframes\n",
    "\n",
    "# Regular vectors:\n",
    "dfh = pd.read_csv('./dataframes/segments_hundred.csv', index_col=0)\n",
    "dff = pd.read_csv('./dataframes/segments_fifty.csv', index_col=0)\n",
    "dft = pd.read_csv('./dataframes/segments_twentyfive.csv', index_col=0)\n",
    "\n",
    "# Deviation vectors:\n",
    "dfh_dev = pd.read_csv('./dataframes/segments_hundred_deviance.csv', index_col=0)\n",
    "dff_dev = pd.read_csv('./dataframes/segments_fifty_deviance.csv', index_col=0)\n",
    "dft_dev = pd.read_csv('./dataframes/segments_twentyfive_deviance.csv', index_col=0)\n"
   ]
  },
  {
   "cell_type": "code",
   "execution_count": 283,
   "metadata": {},
   "outputs": [
    {
     "name": "stdout",
     "output_type": "stream",
     "text": [
      "992\n"
     ]
    }
   ],
   "source": [
    "## Load the vocabulary\n",
    "%store -r vocabulary\n",
    "print(len(vocabulary))"
   ]
  },
  {
   "cell_type": "markdown",
   "metadata": {},
   "source": [
    "## Clustering Deviance Vectors"
   ]
  },
  {
   "cell_type": "markdown",
   "metadata": {},
   "source": [
    "**KMeans: inertia and KMeans clustering**"
   ]
  },
  {
   "cell_type": "code",
   "execution_count": 284,
   "metadata": {},
   "outputs": [
    {
     "data": {
      "image/png": "[encoded data removed]",
      "text/plain": [
       "<Figure size 432x288 with 1 Axes>"
      ]
     },
     "metadata": {
      "needs_background": "light"
     },
     "output_type": "display_data"
    }
   ],
   "source": [
    "# Inertia values and plot\n",
    "ks = list(range(1, 10))\n",
    "inertias = []\n",
    "\n",
    "for k in ks:\n",
    "    \n",
    "    # Create a KMeans instance with k clusters: model\n",
    "    kmeans = KMeans(n_clusters=k, max_iter=1000)\n",
    "    \n",
    "    # Fit model to samples\n",
    "    kmeans.fit(dfh_dev.values)\n",
    "    \n",
    "    # Append the inertia to the list of inertias\n",
    "    inertias.append(kmeans.inertia_)\n",
    "    \n",
    "# Plot ks vs inertias\n",
    "plt.plot(ks, inertias, '-o')\n",
    "plt.xlabel('number of clusters, k')\n",
    "plt.ylabel('inertia')\n",
    "plt.xticks(ks)\n",
    "plt.show()"
   ]
  },
  {
   "cell_type": "code",
   "execution_count": 324,
   "metadata": {
    "scrolled": true
   },
   "outputs": [
    {
     "name": "stdout",
     "output_type": "stream",
     "text": [
      "CLUSTER 1: sizes, archaeologists, average, geologists, biologists, others, run, themselves, measurements, scientists, \n",
      "CLUSTER 2: certain, classes, ecoxpt, water, real, things, part, know, think, science, \n",
      "CLUSTER 3: options, learn, much, fertilizer, solving, different, ways, figure, problem, sewage, \n",
      "CLUSTER 4: something, my, could, different, learn, didn, know, things, think, they, \n",
      "CLUSTER 5: fish, lab, see, would, oxygen, hard, different, something, my, they, \n",
      "CLUSTER 6: went, everything, people, time, happened, able, thought, deep, spend, seems, \n",
      "CLUSTER 7: connect, check, everything, things, interesting, nonliving, learning, me, able, think, \n"
     ]
    }
   ],
   "source": [
    "## k=10 Kmeans clustering:  print the first 10 words that are the most associated with each cluster centroids\n",
    "\n",
    "kmeans_obj = KMeans(n_clusters=7, max_iter=1000).fit(dfh_dev.values)\n",
    "\n",
    "n_words = 10\n",
    "top_words = collections.defaultdict(lambda: [])\n",
    "\n",
    "# iterate through each cluster\n",
    "for n in range(kmeans_obj.n_clusters):\n",
    "\n",
    "    print('CLUSTER ' + str(n+1) + ': ', end='')\n",
    "\n",
    "    # get the cluster centers\n",
    "    arr = kmeans_obj.cluster_centers_[n]\n",
    "\n",
    "    # sorts the array and keep the last n words\n",
    "    indices = arr.argsort()[-n_words:]\n",
    "\n",
    "    # add the words to the list of words\n",
    "    for i in indices:\n",
    "        print(vocabulary[i], end=', ')\n",
    "        top_words[n].append(vocabulary[i])\n",
    "        \n",
    "    print('')"
   ]
  },
  {
   "cell_type": "code",
   "execution_count": 325,
   "metadata": {},
   "outputs": [
    {
     "name": "stdout",
     "output_type": "stream",
     "text": [
      "CLUSTER 1: president, birds, letting, assignments, coming, answers, teach, giving, oxygen, setting, \n",
      "CLUSTER 2: interested, things, deep, time, systems, measurements, able, went, bees, thought, \n",
      "CLUSTER 3: something, ecoxpt, they, different, my, didn, learn, know, think, things, \n",
      "CLUSTER 4: find, know, learn, thought, could, different, things, science, they, think, \n",
      "CLUSTER 5: find, back, something, different, lab, would, around, they, history, see, \n"
     ]
    }
   ],
   "source": [
    "## k=5 Kmeans clustering:  print the first 10 words that are the most associated with each cluster centroids\n",
    "\n",
    "kmeans_obj = KMeans(n_clusters=5, max_iter=1000).fit(dfh_dev.values)\n",
    "\n",
    "n_words = 10\n",
    "top_words = collections.defaultdict(lambda: [])\n",
    "\n",
    "# iterate through each cluster\n",
    "for n in range(kmeans_obj.n_clusters):\n",
    "\n",
    "    print('CLUSTER ' + str(n+1) + ': ', end='')\n",
    "\n",
    "    # get the cluster centers\n",
    "    arr = kmeans_obj.cluster_centers_[n]\n",
    "\n",
    "    # sorts the array and keep the last n words\n",
    "    indices = arr.argsort()[-n_words:]\n",
    "\n",
    "    # add the words to the list of words\n",
    "    for i in indices:\n",
    "        print(vocabulary[i], end=', ')\n",
    "        top_words[n].append(vocabulary[i])\n",
    "        \n",
    "    print('')"
   ]
  },
  {
   "cell_type": "code",
   "execution_count": 326,
   "metadata": {},
   "outputs": [
    {
     "name": "stdout",
     "output_type": "stream",
     "text": [
      "CLUSTER 1: around, would, see, fish, something, lab, my, different, find, they, \n",
      "CLUSTER 2: learn, didn, science, my, could, different, know, they, things, think, \n",
      "CLUSTER 3: options, learn, much, fertilizer, solving, different, ways, figure, problem, sewage, \n"
     ]
    }
   ],
   "source": [
    "## k=3 Kmeans clustering:  print the first 10 words that are the most associated with each cluster centroids\n",
    "\n",
    "kmeans_obj = KMeans(n_clusters=3, max_iter=1000).fit(dfh_dev.values)\n",
    "\n",
    "n_words = 10\n",
    "top_words = collections.defaultdict(lambda: [])\n",
    "\n",
    "# iterate through each cluster\n",
    "for n in range(kmeans_obj.n_clusters):\n",
    "\n",
    "    print('CLUSTER ' + str(n+1) + ': ', end='')\n",
    "\n",
    "    # get the cluster centers\n",
    "    arr = kmeans_obj.cluster_centers_[n]\n",
    "\n",
    "    # sorts the array and keep the last n words\n",
    "    indices = arr.argsort()[-n_words:]\n",
    "\n",
    "    # add the words to the list of words\n",
    "    for i in indices:\n",
    "        print(vocabulary[i], end=', ')\n",
    "        top_words[n].append(vocabulary[i])\n",
    "        \n",
    "    print('')"
   ]
  },
  {
   "cell_type": "markdown",
   "metadata": {},
   "source": [
    "**Hierarchical clustering**"
   ]
  },
  {
   "cell_type": "code",
   "execution_count": 327,
   "metadata": {},
   "outputs": [
    {
     "data": {
      "image/png": "[encoded data removed]",
      "text/plain": [
       "<Figure size 432x288 with 1 Axes>"
      ]
     },
     "metadata": {
      "needs_background": "light"
     },
     "output_type": "display_data"
    }
   ],
   "source": [
    "## Plot a dendrogram\n",
    "\n",
    "# Calculate the linkage: mergings\n",
    "mergings = linkage(dfh_dev.values, method='complete', )\n",
    "\n",
    "# Plot the dendrogram\n",
    "dendrogram(mergings,\n",
    "           labels=dfh_dev.columns,\n",
    "           leaf_rotation=90,\n",
    "           leaf_font_size=6,\n",
    ")\n",
    "plt.show()"
   ]
  },
  {
   "cell_type": "code",
   "execution_count": 328,
   "metadata": {},
   "outputs": [
    {
     "name": "stdout",
     "output_type": "stream",
     "text": [
      "Number of points: 128\n",
      "(7, 992)\n"
     ]
    }
   ],
   "source": [
    "## Using agglomerative clustering: 5 clusters\n",
    "ward = AgglomerativeClustering(n_clusters=7, linkage='ward').fit(dfh_dev.values)\n",
    "label = ward.labels_\n",
    "\n",
    "print(\"Number of points: %i\" % label.size)\n",
    "\n",
    "clf = NearestCentroid()\n",
    "clf.fit(dfh_dev.values, label)\n",
    "\n",
    "print(clf.centroids_.shape)"
   ]
  },
  {
   "cell_type": "code",
   "execution_count": 329,
   "metadata": {},
   "outputs": [
    {
     "name": "stdout",
     "output_type": "stream",
     "text": [
      "CLUSTER 1: solving, science, much, figure, take, classes, sewage, different, kids, think, \n",
      "CLUSTER 2: my, work, things, environment, hurting, they, answers, something, know, didn, \n",
      "CLUSTER 3: find, thought, learn, science, different, could, know, things, they, think, \n",
      "CLUSTER 4: interested, things, deep, time, systems, measurements, able, went, bees, thought, \n",
      "CLUSTER 5: connect, check, everything, things, interesting, nonliving, learning, me, able, think, \n",
      "CLUSTER 6: lab, they, map, different, concept, around, put, find, would, see, \n",
      "CLUSTER 7: box, cause, my, nature, things, dying, look, guess, died, fish, \n"
     ]
    }
   ],
   "source": [
    "#print the top 10 words for each cluster centroid\n",
    "def visualize_clusters(df, n_clusters, centroids, n_words=10, printed=True):   \n",
    "    # try to get the most informative words of each cluster\n",
    "    words = {}\n",
    "    vocabulary = df.columns\n",
    "    for n in range(n_clusters):\n",
    "        words[n] = []\n",
    "        if printed: print('CLUSTER ' + str(n+1) + ': ', end='')\n",
    "        arr = centroids[n]\n",
    "        indices = arr.argsort()[-n_words:]\n",
    "        for i in indices:\n",
    "            if printed: print(vocabulary[i], end=', '),\n",
    "            words[n].append(vocabulary[i])\n",
    "        print('')\n",
    "    return words\n",
    "\n",
    "top_words = visualize_clusters(dfh_dev, clf.centroids_.shape[0], clf.centroids_)"
   ]
  },
  {
   "cell_type": "markdown",
   "metadata": {},
   "source": [
    "**TSNE**"
   ]
  },
  {
   "cell_type": "code",
   "execution_count": 291,
   "metadata": {},
   "outputs": [
    {
     "data": {
      "image/png": "[encoded data removed]",
      "text/plain": [
       "<Figure size 432x288 with 1 Axes>"
      ]
     },
     "metadata": {
      "needs_background": "light"
     },
     "output_type": "display_data"
    }
   ],
   "source": [
    "\n",
    "# Create a TSNE instance: model\n",
    "model = TSNE(learning_rate=200)\n",
    "\n",
    "# Apply fit_transform to samples: tsne_features\n",
    "tsne_features = model.fit_transform(dfh_dev.values)\n",
    "\n",
    "# Select the 0th feature: xs\n",
    "xs = tsne_features[:,0]\n",
    "\n",
    "# Select the 1st feature: ys\n",
    "ys = tsne_features[:,1]\n",
    "\n",
    "# Scatter plot\n",
    "plt.scatter(xs,ys)\n",
    "plt.show()"
   ]
  },
  {
   "cell_type": "markdown",
   "metadata": {},
   "source": [
    "**DBSCAN**"
   ]
  },
  {
   "cell_type": "code",
   "execution_count": 293,
   "metadata": {},
   "outputs": [],
   "source": [
    "# #apply DBScan \n",
    "# dbscan = DBSCAN(eps=8, min_samples=10).fit(dfh_dev.values)\n",
    "\n",
    "# labels = dbscan.labels_\n",
    "\n",
    "# print(\"Number of points: %i\" % labels.size)\n",
    "\n",
    "# #find the cluster centroid (using the code from above)\n",
    "# clf = NearestCentroid()\n",
    "# clf.fit(dfh_dev.values, labels)\n",
    "\n",
    "# print(clf.centroids_.shape)"
   ]
  },
  {
   "cell_type": "code",
   "execution_count": 296,
   "metadata": {},
   "outputs": [],
   "source": [
    "#top_words = visualize_clusters(dfh_dev, clf.centroids_.shape[0], clf.centroids_)"
   ]
  },
  {
   "cell_type": "markdown",
   "metadata": {},
   "source": [
    "**NMF**"
   ]
  },
  {
   "cell_type": "code",
   "execution_count": 297,
   "metadata": {},
   "outputs": [
    {
     "name": "stdout",
     "output_type": "stream",
     "text": [
      "[[0.12830847 0.17357844 0.05097334 0.50929898 0.05555931 0.15659725]\n",
      " [0.14095356 0.10524814 0.0102794  0.51544294 0.06141184 0.14336782]\n",
      " [0.12267215 0.0645654  0.04305943 0.49495665 0.10661005 0.1237019 ]\n",
      " [0.08513796 0.01867588 0.02857561 0.63456667 0.14128978 0.02991224]\n",
      " [0.03108123 0.         0.07475161 0.69001246 0.15326263 0.00140401]\n",
      " [0.03094535 0.03253411 0.08107618 0.67281526 0.18952139 0.00402634]]\n"
     ]
    }
   ],
   "source": [
    "# Transform data so not negative:\n",
    "scaler = MinMaxScaler()\n",
    "dfh_dev[dfh_dev.columns] = scaler.fit_transform(dfh_dev[dfh_dev.columns])\n",
    "\n",
    "# Create an NMF instance: model\n",
    "model = NMF(n_components=6)\n",
    "\n",
    "# Fit the model to articles\n",
    "model.fit(dfh_dev.values)\n",
    "\n",
    "# Transform the articles: nmf_features\n",
    "nmf_features = model.transform(dfh_dev.values)\n",
    "\n",
    "# Print the NMF features\n",
    "print(nmf_features[:6])"
   ]
  },
  {
   "cell_type": "code",
   "execution_count": 298,
   "metadata": {},
   "outputs": [
    {
     "name": "stdout",
     "output_type": "stream",
     "text": [
      "think        0.919646\n",
      "things       0.771218\n",
      "able         0.744685\n",
      "learning     0.706388\n",
      "different    0.671138\n",
      "me           0.666588\n",
      "nonliving    0.632622\n",
      "living       0.568157\n",
      "they         0.566793\n",
      "check        0.565249\n",
      "Name: 0, dtype: float64 \n",
      "\n",
      "thought         0.539219\n",
      "deep            0.524516\n",
      "systems         0.494241\n",
      "bees            0.491189\n",
      "measurements    0.472025\n",
      "interested      0.464159\n",
      "definitely      0.459801\n",
      "went            0.458813\n",
      "time            0.455557\n",
      "able            0.436802\n",
      "Name: 1, dtype: float64 \n",
      "\n",
      "know           0.592470\n",
      "work           0.557340\n",
      "didn           0.550947\n",
      "something      0.518040\n",
      "hurting        0.514387\n",
      "they           0.509652\n",
      "environment    0.496978\n",
      "hard           0.487729\n",
      "answers        0.483574\n",
      "algae          0.452132\n",
      "Name: 2, dtype: float64 \n",
      "\n",
      "science      0.547772\n",
      "find         0.511357\n",
      "would        0.494857\n",
      "see          0.484574\n",
      "water        0.481125\n",
      "back         0.473126\n",
      "something    0.453943\n",
      "they         0.436704\n",
      "knew         0.426596\n",
      "way          0.417551\n",
      "Name: 3, dtype: float64 \n",
      "\n",
      "much       0.505817\n",
      "sewage     0.491696\n",
      "good       0.474238\n",
      "classes    0.473490\n",
      "think      0.460645\n",
      "kids       0.454838\n",
      "take       0.448179\n",
      "solving    0.446854\n",
      "learn      0.432510\n",
      "figure     0.427550\n",
      "Name: 4, dtype: float64 \n",
      "\n",
      "look      0.577026\n",
      "fish      0.531227\n",
      "happen    0.493864\n",
      "they      0.492465\n",
      "nature    0.485058\n",
      "guess     0.479311\n",
      "died      0.455935\n",
      "find      0.443278\n",
      "think     0.442262\n",
      "things    0.426203\n",
      "Name: 5, dtype: float64 \n",
      "\n"
     ]
    }
   ],
   "source": [
    "import pandas as pd\n",
    "\n",
    "# Create a DataFrame: components_df\n",
    "components_dfh_dev = pd.DataFrame(model.components_, columns=dfh_dev.columns)\n",
    "\n",
    "for i in range(6):\n",
    "\n",
    "    # Select row : component\n",
    "    component = components_dfh_dev.iloc[i,:]\n",
    "\n",
    "    # Print result of nlargest\n",
    "    print(component.nlargest(n=10), '\\n')"
   ]
  },
  {
   "cell_type": "code",
   "execution_count": null,
   "metadata": {},
   "outputs": [],
   "source": []
  },
  {
   "cell_type": "markdown",
   "metadata": {},
   "source": [
    "## Clustering Regular Vectors"
   ]
  },
  {
   "cell_type": "markdown",
   "metadata": {},
   "source": [
    "**KMeans: inertia and KMeans clustering**"
   ]
  },
  {
   "cell_type": "code",
   "execution_count": 299,
   "metadata": {},
   "outputs": [
    {
     "data": {
      "image/png": "[encoded data removed]",
      "text/plain": [
       "<Figure size 432x288 with 1 Axes>"
      ]
     },
     "metadata": {
      "needs_background": "light"
     },
     "output_type": "display_data"
    }
   ],
   "source": [
    "# Inertia values and plot\n",
    "ks = list(range(1, 10))\n",
    "inertias = []\n",
    "\n",
    "for k in ks:\n",
    "    \n",
    "    # Create a KMeans instance with k clusters: model\n",
    "    kmeans = KMeans(n_clusters=k, max_iter=1000)\n",
    "    \n",
    "    # Fit model to samples\n",
    "    kmeans.fit(dfh.values)\n",
    "    \n",
    "    # Append the inertia to the list of inertias\n",
    "    inertias.append(kmeans.inertia_)\n",
    "    \n",
    "# Plot ks vs inertias\n",
    "plt.plot(ks, inertias, '-o')\n",
    "plt.xlabel('number of clusters, k')\n",
    "plt.ylabel('inertia')\n",
    "plt.xticks(ks)\n",
    "plt.show()"
   ]
  },
  {
   "cell_type": "code",
   "execution_count": 330,
   "metadata": {
    "scrolled": true
   },
   "outputs": [
    {
     "name": "stdout",
     "output_type": "stream",
     "text": [
      "CLUSTER 1: my, cause, things, nature, box, look, dying, guess, died, fish, \n",
      "CLUSTER 2: felt, position, experience, help, could, forms, scientist, ecosystems, used, they, \n",
      "CLUSTER 3: something, didn, could, would, science, different, things, know, they, think, \n",
      "CLUSTER 4: change, answers, hurting, environment, know, algae, they, something, hard, work, \n",
      "CLUSTER 5: pretty, different, much, options, fertilizer, solving, figure, ways, problem, sewage, \n",
      "CLUSTER 6: many, they, learning, nonliving, me, things, everything, interesting, able, think, \n",
      "CLUSTER 7: interesting, bees, went, interested, little, thing, kinds, my, always, measurements, \n"
     ]
    }
   ],
   "source": [
    "## k=10 Kmeans clustering:  print the first 10 words that are the most associated with each cluster centroids\n",
    "\n",
    "kmeans_obj = KMeans(n_clusters=7, max_iter=1000).fit(dfh.values)\n",
    "\n",
    "n_words = 10\n",
    "top_words = collections.defaultdict(lambda: [])\n",
    "\n",
    "# iterate through each cluster\n",
    "for n in range(kmeans_obj.n_clusters):\n",
    "\n",
    "    print('CLUSTER ' + str(n+1) + ': ', end='')\n",
    "\n",
    "    # get the cluster centers\n",
    "    arr = kmeans_obj.cluster_centers_[n]\n",
    "\n",
    "    # sorts the array and keep the last n words\n",
    "    indices = arr.argsort()[-n_words:]\n",
    "\n",
    "    # add the words to the list of words\n",
    "    for i in indices:\n",
    "        print(vocabulary[i], end=', ')\n",
    "        top_words[n].append(vocabulary[i])\n",
    "        \n",
    "    print('')"
   ]
  },
  {
   "cell_type": "code",
   "execution_count": 301,
   "metadata": {},
   "outputs": [
    {
     "name": "stdout",
     "output_type": "stream",
     "text": [
      "CLUSTER 1: my, always, take, different, people, go, thought, definitely, time, things, \n",
      "CLUSTER 2: ecoxpt, me, see, real, know, science, they, different, things, think, \n",
      "CLUSTER 3: work, actually, hard, school, oxygen, didn, know, things, something, they, \n",
      "CLUSTER 4: my, would, try, science, different, could, know, things, think, they, \n",
      "CLUSTER 5: around, they, died, would, find, my, things, look, see, fish, \n"
     ]
    }
   ],
   "source": [
    "## k=5 Kmeans clustering:  print the first 10 words that are the most associated with each cluster centroids\n",
    "\n",
    "kmeans_obj = KMeans(n_clusters=5, max_iter=1000).fit(dfh.values)\n",
    "\n",
    "n_words = 10\n",
    "top_words = collections.defaultdict(lambda: [])\n",
    "\n",
    "# iterate through each cluster\n",
    "for n in range(kmeans_obj.n_clusters):\n",
    "\n",
    "    print('CLUSTER ' + str(n+1) + ': ', end='')\n",
    "\n",
    "    # get the cluster centers\n",
    "    arr = kmeans_obj.cluster_centers_[n]\n",
    "\n",
    "    # sorts the array and keep the last n words\n",
    "    indices = arr.argsort()[-n_words:]\n",
    "\n",
    "    # add the words to the list of words\n",
    "    for i in indices:\n",
    "        print(vocabulary[i], end=', ')\n",
    "        top_words[n].append(vocabulary[i])\n",
    "        \n",
    "    print('')"
   ]
  },
  {
   "cell_type": "code",
   "execution_count": 331,
   "metadata": {},
   "outputs": [
    {
     "name": "stdout",
     "output_type": "stream",
     "text": [
      "CLUSTER 1: scientist, time, interested, help, they, go, seeing, could, thought, deep, \n",
      "CLUSTER 2: find, something, science, didn, my, know, different, things, they, think, \n",
      "CLUSTER 3: isn, also, options, figure, good, problem, pretty, solving, much, sewage, \n"
     ]
    }
   ],
   "source": [
    "## k=3 Kmeans clustering:  print the first 10 words that are the most associated with each cluster centroids\n",
    "\n",
    "kmeans_obj = KMeans(n_clusters=3, max_iter=1000).fit(dfh.values)\n",
    "\n",
    "n_words = 10\n",
    "top_words = collections.defaultdict(lambda: [])\n",
    "\n",
    "# iterate through each cluster\n",
    "for n in range(kmeans_obj.n_clusters):\n",
    "\n",
    "    print('CLUSTER ' + str(n+1) + ': ', end='')\n",
    "\n",
    "    # get the cluster centers\n",
    "    arr = kmeans_obj.cluster_centers_[n]\n",
    "\n",
    "    # sorts the array and keep the last n words\n",
    "    indices = arr.argsort()[-n_words:]\n",
    "\n",
    "    # add the words to the list of words\n",
    "    for i in indices:\n",
    "        print(vocabulary[i], end=', ')\n",
    "        top_words[n].append(vocabulary[i])\n",
    "        \n",
    "    print('')"
   ]
  },
  {
   "cell_type": "markdown",
   "metadata": {},
   "source": [
    "**Hierarchical clustering**"
   ]
  },
  {
   "cell_type": "code",
   "execution_count": 332,
   "metadata": {},
   "outputs": [
    {
     "data": {
      "image/png": "[encoded data removed]",
      "text/plain": [
       "<Figure size 432x288 with 1 Axes>"
      ]
     },
     "metadata": {
      "needs_background": "light"
     },
     "output_type": "display_data"
    }
   ],
   "source": [
    "## Plot a dendrogram\n",
    "\n",
    "# Calculate the linkage: mergings\n",
    "mergings = linkage(dfh.values, method='complete', )\n",
    "\n",
    "# Plot the dendrogram\n",
    "dendrogram(mergings,\n",
    "           labels=dfh.columns,\n",
    "           leaf_rotation=90,\n",
    "           leaf_font_size=6,\n",
    ")\n",
    "plt.show()"
   ]
  },
  {
   "cell_type": "code",
   "execution_count": 333,
   "metadata": {},
   "outputs": [
    {
     "name": "stdout",
     "output_type": "stream",
     "text": [
      "Number of points: 128\n",
      "(7, 992)\n"
     ]
    }
   ],
   "source": [
    "## Using agglomerative clustering: 7 clusters\n",
    "ward = AgglomerativeClustering(n_clusters=7, linkage='ward').fit(dfh.values)\n",
    "label = ward.labels_\n",
    "\n",
    "print(\"Number of points: %i\" % label.size)\n",
    "\n",
    "clf = NearestCentroid()\n",
    "clf.fit(dfh.values, label)\n",
    "\n",
    "print(clf.centroids_.shape)"
   ]
  },
  {
   "cell_type": "code",
   "execution_count": 305,
   "metadata": {},
   "outputs": [
    {
     "name": "stdout",
     "output_type": "stream",
     "text": [
      "CLUSTER 1: could, they, much, figure, good, take, science, problem, different, think, \n",
      "CLUSTER 2: could, try, fun, things, something, didn, my, think, know, they, \n",
      "CLUSTER 3: try, get, happened, evidence, could, look, things, different, they, think, \n",
      "CLUSTER 4: my, always, take, different, people, go, thought, definitely, time, things, \n",
      "CLUSTER 5: find, teacher, year, fish, science, different, put, they, would, see, \n",
      "CLUSTER 6: find, right, ecoxpt, dying, my, look, guess, died, things, fish, \n",
      "CLUSTER 7: find, water, different, would, didn, they, know, science, think, things, \n",
      "CLUSTER 8: think, thought, felt, help, scientist, try, see, go, could, they, \n",
      "CLUSTER 9: work, actually, hard, school, oxygen, didn, know, things, something, they, \n",
      "CLUSTER 10: interesting, experiments, see, able, different, me, living, they, things, think, \n"
     ]
    }
   ],
   "source": [
    "#print the top 10 words for each cluster centroid\n",
    "def visualize_clusters(df, n_clusters, centroids, n_words=10, printed=True):   \n",
    "    # try to get the most informative words of each cluster\n",
    "    words = {}\n",
    "    vocabulary = df.columns\n",
    "    for n in range(n_clusters):\n",
    "        words[n] = []\n",
    "        if printed: print('CLUSTER ' + str(n+1) + ': ', end='')\n",
    "        arr = centroids[n]\n",
    "        indices = arr.argsort()[-n_words:]\n",
    "        for i in indices:\n",
    "            if printed: print(vocabulary[i], end=', '),\n",
    "            words[n].append(vocabulary[i])\n",
    "        print('')\n",
    "    return words\n",
    "\n",
    "top_words = visualize_clusters(dfh, clf.centroids_.shape[0], clf.centroids_)"
   ]
  },
  {
   "cell_type": "markdown",
   "metadata": {},
   "source": [
    "**TSNE**"
   ]
  },
  {
   "cell_type": "code",
   "execution_count": 306,
   "metadata": {},
   "outputs": [
    {
     "data": {
      "image/png": "[encoded data removed]",
      "text/plain": [
       "<Figure size 432x288 with 1 Axes>"
      ]
     },
     "metadata": {
      "needs_background": "light"
     },
     "output_type": "display_data"
    }
   ],
   "source": [
    "\n",
    "# Create a TSNE instance: model\n",
    "model = TSNE(learning_rate=200)\n",
    "\n",
    "# Apply fit_transform to samples: tsne_features\n",
    "tsne_features = model.fit_transform(dfh.values)\n",
    "\n",
    "# Select the 0th feature: xs\n",
    "xs = tsne_features[:,0]\n",
    "\n",
    "# Select the 1st feature: ys\n",
    "ys = tsne_features[:,1]\n",
    "\n",
    "# Scatter plot\n",
    "plt.scatter(xs,ys)\n",
    "plt.show()"
   ]
  },
  {
   "cell_type": "markdown",
   "metadata": {},
   "source": [
    "**DBSCAN**"
   ]
  },
  {
   "cell_type": "code",
   "execution_count": 334,
   "metadata": {},
   "outputs": [],
   "source": [
    "# #apply DBScan \n",
    "# dbscan = DBSCAN(eps=8, min_samples=10).fit(dfh.values)\n",
    "\n",
    "# labels = dbscan.labels_\n",
    "\n",
    "# print(\"Number of points: %i\" % labels.size)\n",
    "\n",
    "# #find the cluster centroid (using the code from above)\n",
    "# clf = NearestCentroid()\n",
    "# clf.fit(dfh.values, labels)\n",
    "\n",
    "# print(clf.centroids_.shape)"
   ]
  },
  {
   "cell_type": "code",
   "execution_count": 308,
   "metadata": {},
   "outputs": [],
   "source": [
    "# top_words = visualize_clusters(dfh, clf.centroids_.shape[0], clf.centroids_)"
   ]
  },
  {
   "cell_type": "markdown",
   "metadata": {},
   "source": [
    "**NMF**"
   ]
  },
  {
   "cell_type": "code",
   "execution_count": 309,
   "metadata": {},
   "outputs": [
    {
     "name": "stdout",
     "output_type": "stream",
     "text": [
      "[[0.38386269 0.09196436 0.01857984 0.15296702 0.        ]\n",
      " [0.42863062 0.04688161 0.         0.14695047 0.00803034]\n",
      " [0.45347143 0.0033329  0.03602298 0.06091994 0.03743453]\n",
      " [0.43850997 0.         0.01289267 0.10123923 0.05150565]\n",
      " [0.41179026 0.         0.06385752 0.13180116 0.05458247]]\n"
     ]
    }
   ],
   "source": [
    "# Transform data so not negative:\n",
    "scaler = MinMaxScaler()\n",
    "dfh[dfh.columns] = scaler.fit_transform(dfh[dfh.columns])\n",
    "\n",
    "# Create an NMF instance: model\n",
    "model = NMF(n_components=5)\n",
    "\n",
    "# Fit the model to articles\n",
    "model.fit(dfh.values)\n",
    "\n",
    "# Transform the articles: nmf_features\n",
    "nmf_features = model.transform(dfh.values)\n",
    "\n",
    "# Print the NMF features\n",
    "print(nmf_features[:5])"
   ]
  },
  {
   "cell_type": "code",
   "execution_count": 310,
   "metadata": {},
   "outputs": [
    {
     "name": "stdout",
     "output_type": "stream",
     "text": [
      "think        1.354126\n",
      "things       1.139465\n",
      "they         1.115486\n",
      "different    0.847498\n",
      "know         0.710280\n",
      "learn        0.651297\n",
      "find         0.647662\n",
      "learning     0.642708\n",
      "me           0.636822\n",
      "look         0.621810\n",
      "Name: 0, dtype: float64 \n",
      "\n",
      "systems         0.518397\n",
      "thought         0.517173\n",
      "bees            0.516444\n",
      "deep            0.512029\n",
      "measurements    0.503314\n",
      "went            0.476162\n",
      "interested      0.465127\n",
      "definitely      0.463186\n",
      "seems           0.451538\n",
      "able            0.449585\n",
      "Name: 1, dtype: float64 \n",
      "\n",
      "know           0.548474\n",
      "work           0.532739\n",
      "didn           0.516224\n",
      "something      0.502966\n",
      "environment    0.496719\n",
      "hurting        0.494716\n",
      "they           0.479303\n",
      "hard           0.475205\n",
      "answers        0.465251\n",
      "tried          0.430951\n",
      "Name: 2, dtype: float64 \n",
      "\n",
      "around     0.508457\n",
      "see        0.508178\n",
      "back       0.498876\n",
      "concept    0.498314\n",
      "map        0.498293\n",
      "topic      0.483047\n",
      "would      0.480305\n",
      "put        0.474136\n",
      "hard       0.468206\n",
      "lab        0.461338\n",
      "Name: 3, dtype: float64 \n",
      "\n",
      "sewage     0.500770\n",
      "much       0.465999\n",
      "classes    0.462942\n",
      "good       0.443622\n",
      "solving    0.442449\n",
      "kids       0.434668\n",
      "figure     0.419050\n",
      "take       0.414848\n",
      "pretty     0.397662\n",
      "since      0.397462\n",
      "Name: 4, dtype: float64 \n",
      "\n"
     ]
    }
   ],
   "source": [
    "import pandas as pd\n",
    "\n",
    "# Create a DataFrame: components_df\n",
    "components_dfh = pd.DataFrame(model.components_, columns=dfh.columns)\n",
    "\n",
    "for i in range(5):\n",
    "\n",
    "    # Select row : component\n",
    "    component = components_dfh.iloc[i,:]\n",
    "\n",
    "    # Print result of nlargest\n",
    "    print(component.nlargest(n=10), '\\n')"
   ]
  },
  {
   "cell_type": "code",
   "execution_count": null,
   "metadata": {},
   "outputs": [],
   "source": []
  },
  {
   "cell_type": "code",
   "execution_count": null,
   "metadata": {},
   "outputs": [],
   "source": []
  },
  {
   "cell_type": "code",
   "execution_count": null,
   "metadata": {},
   "outputs": [],
   "source": []
  }
 ],
 "metadata": {
  "kernelspec": {
   "display_name": "Python 3",
   "language": "python",
   "name": "python3"
  },
  "language_info": {
   "codemirror_mode": {
    "name": "ipython",
    "version": 3
   },
   "file_extension": ".py",
   "mimetype": "text/x-python",
   "name": "python",
   "nbconvert_exporter": "python",
   "pygments_lexer": "ipython3",
   "version": "3.7.1"
  },
  "varInspector": {
   "cols": {
    "lenName": 16,
    "lenType": 16,
    "lenVar": 40
   },
   "kernels_config": {
    "python": {
     "delete_cmd_postfix": "",
     "delete_cmd_prefix": "del ",
     "library": "var_list.py",
     "varRefreshCmd": "print(var_dic_list())"
    },
    "r": {
     "delete_cmd_postfix": ") ",
     "delete_cmd_prefix": "rm(",
     "library": "var_list.r",
     "varRefreshCmd": "cat(var_dic_list()) "
    }
   },
   "types_to_exclude": [
    "module",
    "function",
    "builtin_function_or_method",
    "instance",
    "_Feature"
   ],
   "window_display": false
  }
 },
 "nbformat": 4,
 "nbformat_minor": 2
}
